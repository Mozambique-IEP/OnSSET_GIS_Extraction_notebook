{
 "cells": [
  {
   "cell_type": "code",
   "execution_count": 1,
   "metadata": {},
   "outputs": [
    {
     "data": {
      "text/plain": [
       "''"
      ]
     },
     "execution_count": 1,
     "metadata": {},
     "output_type": "execute_result"
    }
   ],
   "source": [
    "import geopandas as gpd\n",
    "import os\n",
    "from rasterstats import zonal_stats\n",
    "import numpy as np\n",
    "import tkinter as tk\n",
    "from tkinter import filedialog, messagebox\n",
    "import gdal\n",
    "import rasterio\n",
    "import ogr\n",
    "import warnings\n",
    "import json\n",
    "import pandas as pd\n",
    "from earthpy import clip\n",
    "from shapely.geometry import JOIN_STYLE\n",
    "\n",
    "import scipy.spatial\n",
    "from pathlib import Path\n",
    "warnings.filterwarnings('ignore')\n",
    "\n",
    "root = tk.Tk()\n",
    "root.withdraw()\n",
    "root.attributes(\"-topmost\", True)"
   ]
  },
  {
   "cell_type": "markdown",
   "metadata": {},
   "source": [
    "Select Datasets"
   ]
  },
  {
   "cell_type": "code",
   "execution_count": 2,
   "metadata": {},
   "outputs": [],
   "source": [
    "messagebox.showinfo('OnSSET extraction', 'Output folder')\n",
    "workspace = filedialog.askdirectory()\n",
    "\n",
    "messagebox.showinfo('OnSSET', 'Select the population map')\n",
    "filename_pop = filedialog.askopenfilename(filetypes = ((\"rasters\",\"*.tif\"),(\"all files\",\"*.*\")))\n",
    "pop=gdal.Open(filename_pop)\n",
    "poprasterio=rasterio.open(filename_pop)\n",
    "\n",
    "messagebox.showinfo('OnSSET', 'Select the nightlights map')\n",
    "filename_NTL = filedialog.askopenfilename(filetypes = ((\"rasters\",\"*.tif\"),(\"all files\",\"*.*\")))\n",
    "NTL = gdal.Open(filename_NTL)\n",
    "NTLrasterio = rasterio.open(filename_NTL)\n",
    "\n",
    "messagebox.showinfo('OnSSET', 'Select the admin map')\n",
    "filename_admin = (filedialog.askopenfilename(filetypes = ((\"shapefile\",\"*.shp\"),(\"all files\",\"*.*\"))))\n",
    "admin=gpd.read_file(filename_admin)\n",
    "\n",
    "country_name = \"Gambia\""
   ]
  },
  {
   "cell_type": "markdown",
   "metadata": {},
   "source": [
    "Reclassify raster"
   ]
  },
  {
   "cell_type": "code",
   "execution_count": 3,
   "metadata": {},
   "outputs": [],
   "source": [
    "kwargs2 = {'xRes': NTLrasterio.transform[0], 'yRes': NTLrasterio.transform[4], 'dstNodata':0} \n",
    "\n",
    "warped2 = gdal.Warp(workspace + r\"/clippedNTL.tif\", NTLrasterio.name, cutlineDSName=filename_admin, **kwargs2)\n",
    "\n",
    "def reclassifyRasters(file):\n",
    "    driver = gdal.GetDriverByName(\"GTiff\")\n",
    "    file = file\n",
    "    band = file.GetRasterBand(1)\n",
    "    lista = band.ReadAsArray()\n",
    "\n",
    "    for j in range(file.RasterXSize):\n",
    "        for i in range(file.RasterYSize):\n",
    "            if lista[i,j] < 999999999 and lista[i,j] > 0:\n",
    "                lista[i,j] = 1\n",
    "\n",
    "\n",
    "    if file == pop:\n",
    "        file2 = driver.Create(workspace + r\"/reclassifiedPop.tif\", file.RasterXSize , file.RasterYSize , 1)\n",
    "    else:\n",
    "        file2 = driver.Create(workspace + r\"/reclassifiedNTL.tif\", file.RasterXSize , file.RasterYSize , 1)\n",
    "        \n",
    "    file2.GetRasterBand(1).WriteArray(lista)\n",
    "\n",
    "    proj = file.GetProjection()\n",
    "    georef = file.GetGeoTransform()\n",
    "    file2.SetProjection(proj)\n",
    "    file2.SetGeoTransform(georef)\n",
    "    file2.FlushCache()\n",
    "    \n",
    "NTL = gdal.Open(workspace + r\"/clippedNTL.tif\")  \n",
    "reclassifyRasters(pop)\n",
    "reclassifyRasters(NTL)"
   ]
  },
  {
   "cell_type": "code",
   "execution_count": 4,
   "metadata": {},
   "outputs": [],
   "source": [
    "kwargs1 = {'xRes': 0.00083333, 'yRes': 0.00083333, 'dstNodata':0}\n",
    "kwargs3 = {'xRes': NTLrasterio.transform[0], 'yRes': NTLrasterio.transform[4], 'dstNodata':0}\n",
    "\n",
    "warped1 = gdal.Warp(workspace + r\"/resampledPop.tif\", workspace + r\"/reclassifiedPop.tif\", cutlineDSName=filename_admin, **kwargs1)\n",
    "warped3 = gdal.Warp(workspace + r\"/NTLArea.tif\", workspace + r\"/reclassifiedNTL.tif\", cutlineDSName=filename_admin, **kwargs3)"
   ]
  },
  {
   "cell_type": "code",
   "execution_count": 5,
   "metadata": {},
   "outputs": [],
   "source": [
    "def toPolygon(source, opt):\n",
    "    sourceRaster = gdal.Open(source)\n",
    "    band = sourceRaster.GetRasterBand(1)\n",
    "    bandArray = band.ReadAsArray()\n",
    "    \n",
    "    if opt == 1:\n",
    "        outShapefile = workspace + r\"\\clusters\"\n",
    "    else:\n",
    "        outShapefile = workspace + r\"\\NTLArea\"\n",
    "        \n",
    "    driver = ogr.GetDriverByName(\"ESRI Shapefile\")\n",
    "\n",
    "\n",
    "    if os.path.exists(outShapefile+\".shp\"):\n",
    "        driver.DeleteDataSource(outShapefile+\".shp\")\n",
    "\n",
    "    outDatasource = driver.CreateDataSource(outShapefile+ \".shp\")\n",
    "\n",
    "    outLayer = outDatasource.CreateLayer(outShapefile+ \".shp\", srs=None)\n",
    "    newField = ogr.FieldDefn('PLACEHOLDER', ogr.OFTInteger)\n",
    "    outLayer.CreateField(newField)\n",
    "    gdal.Polygonize( band, None, outLayer, 0, [], callback=None )\n",
    "    outDatasource.Destroy()\n",
    "    sourceRaster = None\n",
    "\n",
    "toPolygon(workspace + r\"/resampledPop.tif\", 1)\n",
    "toPolygon(workspace + r\"/NTLArea.tif\", 2)\n",
    "\n",
    "NTLArea=gpd.read_file(workspace + r\"/NTLArea.shp\")\n",
    "clean = NTLArea[NTLArea.PLACEHOLDE != 0]\n",
    "clean_b = clean.buffer(0)\n",
    "clean_b.to_file(workspace + r\"/NTLArea.shp\")\n",
    "\n",
    "kwargs4 = {'xRes': poprasterio.transform[0], 'yRes': poprasterio.transform[4], 'dstNodata':0}\n",
    "warped4 = gdal.Warp(workspace + r\"/ElecPop.tif\", poprasterio.name, cutlineDSName= workspace + r\"/NTLArea.shp\", **kwargs4)\n",
    "\n",
    "elecPop=rasterio.open(workspace + r\"/ElecPop.tif\")\n",
    "NTL = rasterio.open(workspace + r\"/clippedNTL.tif\")"
   ]
  },
  {
   "cell_type": "code",
   "execution_count": 6,
   "metadata": {},
   "outputs": [],
   "source": [
    "clusters=gpd.read_file(workspace + r\"\\clusters.shp\")\n",
    "clean = clusters[clusters.PLACEHOLDE != 0]\n",
    "buffered = clean.buffer(0.001)\n",
    "convex_hull = buffered.convex_hull\n",
    "buffered.to_file(workspace + \"/clusters.shp\")\n",
    "convex_hull = gpd.read_file(workspace + r\"/clusters.shp\")\n",
    "convex_hull[\"fid\"] = 1\n",
    "dissolved=convex_hull.dissolve(by=\"fid\")"
   ]
  },
  {
   "cell_type": "code",
   "execution_count": 7,
   "metadata": {},
   "outputs": [],
   "source": [
    "def multi2single(gpdf):\n",
    "    gpdf_singlepoly = gpdf[gpdf.geometry.type == 'Polygon']\n",
    "    gpdf_multipoly = gpdf[gpdf.geometry.type == 'MultiPolygon']\n",
    "\n",
    "    for i, row in gpdf_multipoly.iterrows():\n",
    "        Series_geometries = pd.Series(row.geometry)\n",
    "        df = pd.concat([gpd.GeoDataFrame(row, crs=gpdf_multipoly.crs).T]*len(Series_geometries), ignore_index=True)\n",
    "        df['geometry']  = Series_geometries\n",
    "        gpdf_singlepoly = pd.concat([gpdf_singlepoly, df])\n",
    "\n",
    "    gpdf_singlepoly.reset_index(inplace=True, drop=True)\n",
    "    return gpdf_singlepoly\n",
    "\n",
    "single = multi2single(dissolved)\n",
    "single.to_file(workspace + r\"\\clusters.shp\")"
   ]
  },
  {
   "cell_type": "code",
   "execution_count": 8,
   "metadata": {},
   "outputs": [],
   "source": [
    "eps = 0.001\n",
    "dissolved = single.buffer(eps, 1, join_style=JOIN_STYLE.mitre).buffer(-eps, 1, join_style=JOIN_STYLE.mitre)\n",
    "dissolved.to_file(workspace + r\"\\clusters.shp\")\n",
    "dissolved = gpd.read_file(workspace + r\"\\clusters.shp\")\n",
    "\n",
    "admin = gpd.read_file(filename_admin)\n",
    "lines = admin.boundary\n",
    "dissolved_clip = clip.clip_shp(dissolved,admin)\n",
    "buffered_lines = lines.buffer(0.000000001)\n",
    "buffered_lines.to_file(workspace + r\"\\bufferedlines.shp\")\n",
    "buffered_lines = gpd.read_file(workspace + r\"\\bufferedlines.shp\")\n",
    "\n",
    "z = gpd.overlay(dissolved_clip, buffered_lines, how='difference')\n",
    "z = z[\"geometry\"] \n",
    "z.to_file(workspace + r\"\\clusters.shp\")\n",
    "z = gpd.read_file(workspace + r\"\\clusters.shp\")\n",
    "z['id'] = np.arange(len(z))\n",
    "\n",
    "z.crs = {'init' :'epsg:4326'}\n",
    "z_proj = z.to_crs({ 'init': 'epsg:3395'})\n",
    "z_proj[\"GridCellAr\"] = z_proj.area/1000000\n",
    "z_proj[\"Country\"] = country_name\n",
    "z = z_proj.to_crs({ 'init': 'epsg:4326'})"
   ]
  },
  {
   "cell_type": "code",
   "execution_count": 9,
   "metadata": {},
   "outputs": [],
   "source": [
    "clusters = zonal_stats(\n",
    "    z,\n",
    "    poprasterio.name,\n",
    "    stats=[\"sum\"],\n",
    "    prefix=\"pop\", geojson_out=True, all_touched=True)\n",
    "\n",
    "clusters = zonal_stats(\n",
    "    clusters,\n",
    "    NTL.name,\n",
    "    stats=[\"max\"],\n",
    "    prefix=\"NTL\", geojson_out=True, all_touched=True)\n",
    "\n",
    "clusters = zonal_stats(\n",
    "    clusters,\n",
    "    elecPop.name,\n",
    "    stats=[\"sum\"],\n",
    "    prefix=\"ElecPop\", geojson_out=True, all_touched=True)"
   ]
  },
  {
   "cell_type": "code",
   "execution_count": 10,
   "metadata": {},
   "outputs": [],
   "source": [
    "output = workspace + r'\\placeholder.geojson'\n",
    "with open(output, \"w\") as dst:\n",
    "    collection = {\n",
    "        \"type\": \"FeatureCollection\",\n",
    "        \"features\": list(clusters)}\n",
    "    dst.write(json.dumps(collection))\n",
    "\n",
    "clusters = gpd.read_file(output)\n",
    "clusters.fillna(0, inplace=True)\n",
    "os.remove(output)\n",
    "clusters.to_file(workspace + r\"\\clusters.shp\")"
   ]
  },
  {
   "cell_type": "code",
   "execution_count": null,
   "metadata": {},
   "outputs": [],
   "source": []
  }
 ],
 "metadata": {
  "kernelspec": {
   "display_name": "Python 3",
   "language": "python",
   "name": "python3"
  },
  "language_info": {
   "codemirror_mode": {
    "name": "ipython",
    "version": 3
   },
   "file_extension": ".py",
   "mimetype": "text/x-python",
   "name": "python",
   "nbconvert_exporter": "python",
   "pygments_lexer": "ipython3",
   "version": "3.7.3"
  }
 },
 "nbformat": 4,
 "nbformat_minor": 2
}
