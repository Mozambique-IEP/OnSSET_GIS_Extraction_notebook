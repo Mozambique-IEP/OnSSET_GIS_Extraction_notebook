{
 "cells": [
  {
   "cell_type": "markdown",
   "metadata": {},
   "source": [
    "# Clustering Notebook\n",
    "\n",
    "The following notebook can be used in order to generate population settlements. The final result will include this 6 columns.\n",
    "\n",
    "**1.** id – The IDs are given as a unique number for each cluster. This enables the user to process the data contained in the clusters outside of a GIS software and then merge the data with the clusters.\n",
    "\n",
    "**2.** Country - Name of the country.\n",
    "\n",
    "**3.** Population – This is the population in each cluster obtained from the population dataset.\n",
    "\n",
    "**4.** NightLight – This value is obtained from the night-time light map and represents the maximum luminance detected in each cluster based on the latest stable light product available.\n",
    "\n",
    "**5.** ElecPop – The number of people in each cluster who live in areas in which the stable light product detect light sources.\n",
    "\n",
    "**6.** Area – The area of each cluster given in sq. kilometres.\n",
    "    \n"
   ]
  },
  {
   "cell_type": "markdown",
   "metadata": {},
   "source": [
    "## Cell 1 - Importing packages Datasets"
   ]
  },
  {
   "cell_type": "code",
   "execution_count": 1,
   "metadata": {},
   "outputs": [],
   "source": [
    "from ipynb.fs.full.funcs3 import *"
   ]
  },
  {
   "cell_type": "markdown",
   "metadata": {},
   "source": [
    "## Cell 1 - Selecting Datasets\n",
    "\n",
    "Select the workspace, this is the folder that will be used for the outputs. \n",
    "\n",
    "**NOTE** Select an empty folder as all the files will be deleted from the workspace once the clusters are generated\n",
    "\n",
    "You will also have to select the three datasets used in the analysis. These are:\n",
    "\n",
    "**Administrative boundaries**\n",
    "This should be disagreggated. It will be used to 1) delimit the population layer to the area of interest and 2) to limit the maximum size of the clusters\n",
    "\n",
    "**Population raster**\n",
    "\n",
    "**Night time lights**\n",
    "This will be used in order to determine how many people live in areas with visible lights. \n"
   ]
  },
  {
   "cell_type": "code",
   "execution_count": 2,
   "metadata": {},
   "outputs": [],
   "source": [
    "messagebox.showinfo('OnSSET extraction', 'Output folder')\n",
    "workspace = filedialog.askdirectory()\n",
    "\n",
    "messagebox.showinfo('OnSSET', 'Select the population map')\n",
    "filename_pop = filedialog.askopenfilename(filetypes = ((\"rasters\",\"*.tif\"),(\"all files\",\"*.*\")))\n",
    "pop=gdal.Open(filename_pop)\n",
    "poprasterio=rasterio.open(filename_pop)\n",
    "\n",
    "messagebox.showinfo('OnSSET', 'Select the nightlights map')\n",
    "filename_NTL = filedialog.askopenfilename(filetypes = ((\"rasters\",\"*.tif\"),(\"all files\",\"*.*\")))\n",
    "NTL = gdal.Open(filename_NTL)\n",
    "NTLrasterio = rasterio.open(filename_NTL)\n",
    "\n",
    "messagebox.showinfo('OnSSET', 'Select the admin map')\n",
    "filename_admin = (filedialog.askopenfilename(filetypes = ((\"shapefile\",\"*.shp\"),(\"all files\",\"*.*\"))))\n",
    "admin=gpd.read_file(filename_admin)"
   ]
  },
  {
   "cell_type": "markdown",
   "metadata": {},
   "source": [
    "## Cell 2 - Setting study area name\n",
    "\n",
    "This will dictate the name in the final clusters"
   ]
  },
  {
   "cell_type": "code",
   "execution_count": 3,
   "metadata": {},
   "outputs": [],
   "source": [
    "country_name = \"Yemen\""
   ]
  },
  {
   "cell_type": "markdown",
   "metadata": {},
   "source": [
    "## Cell 3 - Setting the target coordinate system\n",
    "When calculating distances it is important to choose a coordinate system that represents distances correctly in your area of interst. The coordinate system that is given below is the World Mercator, these coordinate system works well for Sub Saharan Africa but the distortions get larger as you move away from the equator.\n",
    "\n",
    "In order to select your own coordinate system go to [epsg.io](http://epsg.io/) and type in your area of interest, this will give you a list of coordinate systems to choose from. Once you have selected your coordinate system replace the numbers below with the numbers from your coordinate system **(keep the \"EPSG\" part)**.\n",
    "\n",
    "**NOTE** When selecting your coordinate system make sure that you select a system with the unit of meters, this is indicated for all systems on [epsg.io](http://epsg.io/)"
   ]
  },
  {
   "cell_type": "code",
   "execution_count": 4,
   "metadata": {},
   "outputs": [],
   "source": [
    "crs = 'EPSG:3395'"
   ]
  },
  {
   "cell_type": "markdown",
   "metadata": {},
   "source": [
    "## Cell 4 - Clipping nighttime lights"
   ]
  },
  {
   "cell_type": "code",
   "execution_count": 5,
   "metadata": {},
   "outputs": [],
   "source": [
    "clipped_NTL = clipRaster(NTLrasterio.name, filename_admin)"
   ]
  },
  {
   "cell_type": "markdown",
   "metadata": {},
   "source": [
    "## Cell 5 - Reclassifying rasters"
   ]
  },
  {
   "cell_type": "code",
   "execution_count": 6,
   "metadata": {},
   "outputs": [],
   "source": [
    "reclassified_NTL = reclassifyRasters(clipped_NTL) \n",
    "reclassified_pop = reclassifyRasters(pop) \n",
    "\n",
    "clipped_pop = resampleRaster(reclassified_pop, 0.00083333, 0.00083333)\n",
    "clipped_NTL = resampleRaster(reclassified_NTL, NTLrasterio.transform[0], NTLrasterio.transform[4])"
   ]
  },
  {
   "cell_type": "markdown",
   "metadata": {},
   "source": [
    "## Cell 6 - Convert to polygon and generate the ElecPop raster"
   ]
  },
  {
   "cell_type": "code",
   "execution_count": null,
   "metadata": {},
   "outputs": [],
   "source": [
    "toPolygon(clipped_pop, 1, workspace)\n",
    "toPolygon(clipped_NTL, 2, workspace)\n",
    "\n",
    "elecPop = clip_and_save_raster(poprasterio.name, workspace + r\"/NTLArea.shp\", \"EPSG:4326\",workspace)"
   ]
  },
  {
   "cell_type": "markdown",
   "metadata": {},
   "source": [
    "## Cell 7 - Buffering the clusters"
   ]
  },
  {
   "cell_type": "code",
   "execution_count": null,
   "metadata": {},
   "outputs": [],
   "source": [
    "buffered = buffer(workspace + r\"\\clusters.shp\", workspace) "
   ]
  },
  {
   "cell_type": "markdown",
   "metadata": {},
   "source": [
    "## Cell - 8 Covert clusters to singlepart polygons"
   ]
  },
  {
   "cell_type": "code",
   "execution_count": null,
   "metadata": {},
   "outputs": [],
   "source": [
    "single = multi2single(buffered, workspace)"
   ]
  },
  {
   "cell_type": "markdown",
   "metadata": {},
   "source": [
    "## Cell 9 - Dissolving and splitting the clusters"
   ]
  },
  {
   "cell_type": "code",
   "execution_count": null,
   "metadata": {},
   "outputs": [],
   "source": [
    "clusters = dissolveandsplit(single, crs,filename_admin, country_name)"
   ]
  },
  {
   "cell_type": "markdown",
   "metadata": {},
   "source": [
    "## Cell 10 - Populating clusters"
   ]
  },
  {
   "cell_type": "code",
   "execution_count": null,
   "metadata": {},
   "outputs": [],
   "source": [
    "clusters = populatingClusters(clusters, poprasterio, \"Pop\", \"sum\")\n",
    "clusters = populatingClusters(clusters, NTLrasterio, \"NTL\", \"max\")\n",
    "clusters = populatingClusters(clusters, elecPop, \"ElecPop\", \"sum\")"
   ]
  },
  {
   "cell_type": "markdown",
   "metadata": {},
   "source": [
    "## Cell 11 - Finalizing clusters"
   ]
  },
  {
   "cell_type": "code",
   "execution_count": null,
   "metadata": {},
   "outputs": [],
   "source": [
    "elecPop = None\n",
    "finalizing_clusters(clusters, workspace)"
   ]
  }
 ],
 "metadata": {
  "kernelspec": {
   "display_name": "Python 3",
   "language": "python",
   "name": "python3"
  },
  "language_info": {
   "codemirror_mode": {
    "name": "ipython",
    "version": 3
   },
   "file_extension": ".py",
   "mimetype": "text/x-python",
   "name": "python",
   "nbconvert_exporter": "python",
   "pygments_lexer": "ipython3",
   "version": "3.7.3"
  }
 },
 "nbformat": 4,
 "nbformat_minor": 2
}
