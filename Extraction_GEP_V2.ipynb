{
 "cells": [
  {
   "cell_type": "markdown",
   "metadata": {},
   "source": [
    "Packages to be used"
   ]
  },
  {
   "cell_type": "code",
   "execution_count": 15,
   "metadata": {},
   "outputs": [
    {
     "name": "stdout",
     "output_type": "stream",
     "text": [
      "2020-01-22 11:20:19.586562\n"
     ]
    }
   ],
   "source": [
    "import geopandas as gpd\n",
    "import os\n",
    "import fiona\n",
    "import ipywidgets as widgets\n",
    "from IPython.display import display\n",
    "from rasterstats import zonal_stats\n",
    "import rasterio\n",
    "import rasterio.fill \n",
    "from shapely.ops import nearest_points\n",
    "from earthpy import clip\n",
    "import earthpy.spatial as es\n",
    "import numpy as np\n",
    "import tkinter as tk\n",
    "from tkinter import filedialog, messagebox\n",
    "import gdal\n",
    "import datetime\n",
    "import warnings\n",
    "warnings.filterwarnings('ignore')\n",
    "\n",
    "root = tk.Tk()\n",
    "root.withdraw()\n",
    "root.attributes(\"-topmost\", True)\n",
    "\n",
    "import json\n",
    "print(datetime.datetime.now())"
   ]
  },
  {
   "cell_type": "code",
   "execution_count": 16,
   "metadata": {},
   "outputs": [],
   "source": [
    "crs = 'EPSG:3395'"
   ]
  },
  {
   "cell_type": "markdown",
   "metadata": {},
   "source": [
    "Define the workspace. The output layers will populate this folder. It is highly recommended to select an empty folder as your workspace\n",
    "        "
   ]
  },
  {
   "cell_type": "code",
   "execution_count": null,
   "metadata": {
    "scrolled": true
   },
   "outputs": [],
   "source": [
    "messagebox.showinfo('OnSSET extraction', 'Output folder')\n",
    "workspace = filedialog.askdirectory()"
   ]
  },
  {
   "cell_type": "markdown",
   "metadata": {},
   "source": [
    "Select the clusters to be used in the analysis'\n",
    "\n",
    "Please also idicate which column is representing the population data. "
   ]
  },
  {
   "cell_type": "code",
   "execution_count": 17,
   "metadata": {},
   "outputs": [],
   "source": [
    "messagebox.showinfo('OnSSET', 'Select the clusters')\n",
    "clusters=gpd.read_file(filedialog.askopenfilename(filetypes = ((\"shapefile\",\"*.shp\"),(\"all files\",\"*.*\"))))\n",
    "\n",
    "#popunit = widgets.Dropdown(options=clusters.head(),\n",
    "#    value=None,\n",
    "#    description='Population:',\n",
    "#    disabled=False)\n",
    "\n",
    "#display(popunit)"
   ]
  },
  {
   "cell_type": "markdown",
   "metadata": {},
   "source": [
    "Select the administrative boundaries to be used in the analysis"
   ]
  },
  {
   "cell_type": "code",
   "execution_count": 18,
   "metadata": {},
   "outputs": [],
   "source": [
    "messagebox.showinfo('OnSSET', 'Select the admin boundaries')\n",
    "admin=gpd.read_file(filedialog.askopenfilename(filetypes = ((\"shapefile\",\"*.shp\"),(\"all files\",\"*.*\"))))"
   ]
  },
  {
   "cell_type": "markdown",
   "metadata": {},
   "source": [
    "Select the landcover map"
   ]
  },
  {
   "cell_type": "code",
   "execution_count": null,
   "metadata": {},
   "outputs": [],
   "source": [
    "messagebox.showinfo('OnSSET', 'Select the landcover map')\n",
    "landCover=rasterio.open(filedialog.askopenfilename(filetypes = ((\"rasters\",\"*.tif\"),(\"all files\",\"*.*\"))))\n",
    "\n",
    "clusters = zonal_stats(\n",
    "    clusters,\n",
    "    landCover.name,\n",
    "    stats=[\"majority\"],\n",
    "    prefix=\"lc_\", geojson_out=True, all_touched=True)\n",
    "    \n",
    "print(datetime.datetime.now())"
   ]
  },
  {
   "cell_type": "markdown",
   "metadata": {},
   "source": [
    "Select the elevation map"
   ]
  },
  {
   "cell_type": "code",
   "execution_count": null,
   "metadata": {},
   "outputs": [],
   "source": [
    "messagebox.showinfo('OnSSET', 'Select the elevation map')\n",
    "elevation=rasterio.open(filedialog.askopenfilename(filetypes = ((\"rasters\",\"*.tif\"),(\"all files\",\"*.*\"))))\n",
    "\n",
    "clusters = zonal_stats(\n",
    "    clusters,\n",
    "    elevation.name,\n",
    "    stats=[\"mean\"],\n",
    "    prefix=\"dem_\", all_touched = True, geojson_out=True)\n",
    "print(datetime.datetime.now())"
   ]
  },
  {
   "cell_type": "code",
   "execution_count": null,
   "metadata": {},
   "outputs": [],
   "source": [
    "gdal.Warp(workspace + r\"\\dem.tif\",elevation.name,dstSRS=crs)\n",
    "\n",
    "def calculate_slope(DEM):\n",
    "    gdal.DEMProcessing(workspace + r'\\slope.tif', DEM, 'slope')\n",
    "    with rasterio.open(workspace + r'\\slope.tif') as dataset:\n",
    "        slope=dataset.read(1)\n",
    "    return slope\n",
    "\n",
    "slope=calculate_slope(workspace + r\"\\dem.tif\")\n",
    "\n",
    "slope = rasterio.open(workspace + r'\\slope.tif')\n",
    "gdal.Warp(workspace + r'\\slope_4326.tif',slope.name,dstSRS='EPSG:4326')\n",
    "slope_4326 = rasterio.open(workspace + r'\\slope_4326.tif')\n",
    "\n",
    "clusters = zonal_stats(\n",
    "    clusters,\n",
    "    slope_4326.name,\n",
    "    stats=[\"majority\"],\n",
    "    prefix=\"sl_\", all_touched = True, geojson_out=True)\n",
    "print(datetime.datetime.now())"
   ]
  },
  {
   "cell_type": "markdown",
   "metadata": {},
   "source": [
    "Select the ghi map"
   ]
  },
  {
   "cell_type": "code",
   "execution_count": 20,
   "metadata": {},
   "outputs": [
    {
     "name": "stdout",
     "output_type": "stream",
     "text": [
      "2020-01-22 11:29:11.433791\n"
     ]
    }
   ],
   "source": [
    "messagebox.showinfo('OnSSET', 'Select the ghi map')\n",
    "ghi=rasterio.open(filedialog.askopenfilename(filetypes = ((\"rasters\",\"*.tif\"),(\"all files\",\"*.*\"))))\n",
    "\n",
    "clusters = zonal_stats(\n",
    "    clusters,\n",
    "    ghi.name,\n",
    "    stats=[\"mean\"],\n",
    "    prefix=\"ghi_\", all_touched = True, geojson_out=True)\n",
    "print(datetime.datetime.now())"
   ]
  },
  {
   "cell_type": "markdown",
   "metadata": {
    "collapsed": true
   },
   "source": [
    "Select the traveltime map"
   ]
  },
  {
   "cell_type": "code",
   "execution_count": null,
   "metadata": {},
   "outputs": [],
   "source": [
    "messagebox.showinfo('OnSSET', 'Select the traveltime map')\n",
    "travelTime=rasterio.open(filedialog.askopenfilename(filetypes = ((\"rasters\",\"*.tif\"),(\"all files\",\"*.*\"))))\n",
    "\n",
    "clusters = zonal_stats(\n",
    "    clusters,\n",
    "    travelTime.name,\n",
    "    stats=[\"mean\"],\n",
    "    prefix=\"travel_\", all_touched = True, geojson_out=True)\n",
    "print(datetime.datetime.now())"
   ]
  },
  {
   "cell_type": "markdown",
   "metadata": {},
   "source": [
    "Select the wind velocity map"
   ]
  },
  {
   "cell_type": "code",
   "execution_count": null,
   "metadata": {},
   "outputs": [],
   "source": [
    "messagebox.showinfo('OnSSET', 'Select the wind velocity map')\n",
    "windVel=rasterio.open(filedialog.askopenfilename(filetypes = ((\"rasters\",\"*.tif\"),(\"all files\",\"*.*\"))))\n",
    "\n",
    "clusters = zonal_stats(\n",
    "    clusters,\n",
    "    windVel.name,\n",
    "    stats=[\"mean\"],\n",
    "    prefix=\"wind_\", all_touched = True, geojson_out=True)\n",
    "print(datetime.datetime.now())"
   ]
  },
  {
   "cell_type": "markdown",
   "metadata": {},
   "source": [
    "Select the custom demand map (Optional)"
   ]
  },
  {
   "cell_type": "code",
   "execution_count": null,
   "metadata": {},
   "outputs": [],
   "source": [
    "messagebox.showinfo('OnSSET', 'Select the custom demand map')\n",
    "customDemand=rasterio.open(filedialog.askopenfilename(filetypes = ((\"rasters\",\"*.tif\"),(\"all files\",\"*.*\"))))\n",
    " \n",
    "clusters = zonal_stats(\n",
    "    clusters,\n",
    "    customDemand.name,\n",
    "    stats=[\"mean\"],\n",
    "    prefix=\"custom_\", all_touched = True, geojson_out=True)\n",
    "print(datetime.datetime.now())"
   ]
  },
  {
   "cell_type": "markdown",
   "metadata": {},
   "source": [
    "Saving the clusters with extracted rasters"
   ]
  },
  {
   "cell_type": "code",
   "execution_count": 19,
   "metadata": {},
   "outputs": [
    {
     "ename": "ValueError",
     "evalue": "Cannot write empty DataFrame to file.",
     "traceback": [
      "\u001b[1;31m---------------------------------------------------------------------------\u001b[0m",
      "\u001b[1;31mValueError\u001b[0m                                Traceback (most recent call last)",
      "\u001b[1;32m<ipython-input-19-c80b3794b7d8>\u001b[0m in \u001b[0;36m<module>\u001b[1;34m\u001b[0m\n\u001b[0;32m      7\u001b[0m \u001b[1;33m\u001b[0m\u001b[0m\n\u001b[0;32m      8\u001b[0m \u001b[0msettlements\u001b[0m \u001b[1;33m=\u001b[0m \u001b[0mgpd\u001b[0m\u001b[1;33m.\u001b[0m\u001b[0mread_file\u001b[0m\u001b[1;33m(\u001b[0m\u001b[0moutput\u001b[0m\u001b[1;33m)\u001b[0m\u001b[1;33m\u001b[0m\u001b[1;33m\u001b[0m\u001b[0m\n\u001b[1;32m----> 9\u001b[1;33m \u001b[0msettlements\u001b[0m\u001b[1;33m.\u001b[0m\u001b[0mto_file\u001b[0m\u001b[1;33m(\u001b[0m\u001b[0mworkspace\u001b[0m \u001b[1;33m+\u001b[0m \u001b[1;34mr\"\\rastersettlements.shp\"\u001b[0m\u001b[1;33m,\u001b[0m \u001b[0mdriver\u001b[0m\u001b[1;33m=\u001b[0m\u001b[1;34m'ESRI Shapefile'\u001b[0m\u001b[1;33m)\u001b[0m\u001b[1;33m\u001b[0m\u001b[1;33m\u001b[0m\u001b[0m\n\u001b[0m\u001b[0;32m     10\u001b[0m \u001b[0msettlements\u001b[0m \u001b[1;33m=\u001b[0m \u001b[0mgpd\u001b[0m\u001b[1;33m.\u001b[0m\u001b[0mread_file\u001b[0m\u001b[1;33m(\u001b[0m\u001b[0mworkspace\u001b[0m \u001b[1;33m+\u001b[0m \u001b[1;34mr\"\\rastersettlements.shp\"\u001b[0m\u001b[1;33m)\u001b[0m\u001b[1;33m\u001b[0m\u001b[1;33m\u001b[0m\u001b[0m\n\u001b[0;32m     11\u001b[0m \u001b[0mproj_settlements\u001b[0m \u001b[1;33m=\u001b[0m \u001b[0msettlements\u001b[0m\u001b[1;33m.\u001b[0m\u001b[0mto_crs\u001b[0m\u001b[1;33m(\u001b[0m\u001b[1;33m{\u001b[0m \u001b[1;34m'init'\u001b[0m\u001b[1;33m:\u001b[0m \u001b[0mcrs\u001b[0m\u001b[1;33m}\u001b[0m\u001b[1;33m)\u001b[0m\u001b[1;33m\u001b[0m\u001b[1;33m\u001b[0m\u001b[0m\n",
      "\u001b[1;32m~\\Anaconda3\\envs\\geopandas_test\\lib\\site-packages\\geopandas\\geodataframe.py\u001b[0m in \u001b[0;36mto_file\u001b[1;34m(self, filename, driver, schema, **kwargs)\u001b[0m\n\u001b[0;32m    513\u001b[0m         \u001b[1;32mfrom\u001b[0m \u001b[0mgeopandas\u001b[0m\u001b[1;33m.\u001b[0m\u001b[0mio\u001b[0m\u001b[1;33m.\u001b[0m\u001b[0mfile\u001b[0m \u001b[1;32mimport\u001b[0m \u001b[0mto_file\u001b[0m\u001b[1;33m\u001b[0m\u001b[1;33m\u001b[0m\u001b[0m\n\u001b[0;32m    514\u001b[0m \u001b[1;33m\u001b[0m\u001b[0m\n\u001b[1;32m--> 515\u001b[1;33m         \u001b[0mto_file\u001b[0m\u001b[1;33m(\u001b[0m\u001b[0mself\u001b[0m\u001b[1;33m,\u001b[0m \u001b[0mfilename\u001b[0m\u001b[1;33m,\u001b[0m \u001b[0mdriver\u001b[0m\u001b[1;33m,\u001b[0m \u001b[0mschema\u001b[0m\u001b[1;33m,\u001b[0m \u001b[1;33m**\u001b[0m\u001b[0mkwargs\u001b[0m\u001b[1;33m)\u001b[0m\u001b[1;33m\u001b[0m\u001b[1;33m\u001b[0m\u001b[0m\n\u001b[0m\u001b[0;32m    516\u001b[0m \u001b[1;33m\u001b[0m\u001b[0m\n\u001b[0;32m    517\u001b[0m     \u001b[1;32mdef\u001b[0m \u001b[0mto_crs\u001b[0m\u001b[1;33m(\u001b[0m\u001b[0mself\u001b[0m\u001b[1;33m,\u001b[0m \u001b[0mcrs\u001b[0m\u001b[1;33m=\u001b[0m\u001b[1;32mNone\u001b[0m\u001b[1;33m,\u001b[0m \u001b[0mepsg\u001b[0m\u001b[1;33m=\u001b[0m\u001b[1;32mNone\u001b[0m\u001b[1;33m,\u001b[0m \u001b[0minplace\u001b[0m\u001b[1;33m=\u001b[0m\u001b[1;32mFalse\u001b[0m\u001b[1;33m)\u001b[0m\u001b[1;33m:\u001b[0m\u001b[1;33m\u001b[0m\u001b[1;33m\u001b[0m\u001b[0m\n",
      "\u001b[1;32m~\\Anaconda3\\envs\\geopandas_test\\lib\\site-packages\\geopandas\\io\\file.py\u001b[0m in \u001b[0;36mto_file\u001b[1;34m(df, filename, driver, schema, **kwargs)\u001b[0m\n\u001b[0;32m    123\u001b[0m     \"\"\"\n\u001b[0;32m    124\u001b[0m     \u001b[1;32mif\u001b[0m \u001b[0mschema\u001b[0m \u001b[1;32mis\u001b[0m \u001b[1;32mNone\u001b[0m\u001b[1;33m:\u001b[0m\u001b[1;33m\u001b[0m\u001b[1;33m\u001b[0m\u001b[0m\n\u001b[1;32m--> 125\u001b[1;33m         \u001b[0mschema\u001b[0m \u001b[1;33m=\u001b[0m \u001b[0minfer_schema\u001b[0m\u001b[1;33m(\u001b[0m\u001b[0mdf\u001b[0m\u001b[1;33m)\u001b[0m\u001b[1;33m\u001b[0m\u001b[1;33m\u001b[0m\u001b[0m\n\u001b[0m\u001b[0;32m    126\u001b[0m     \u001b[1;32mwith\u001b[0m \u001b[0mfiona_env\u001b[0m\u001b[1;33m(\u001b[0m\u001b[1;33m)\u001b[0m\u001b[1;33m:\u001b[0m\u001b[1;33m\u001b[0m\u001b[1;33m\u001b[0m\u001b[0m\n\u001b[0;32m    127\u001b[0m         with fiona.open(\n",
      "\u001b[1;32m~\\Anaconda3\\envs\\geopandas_test\\lib\\site-packages\\geopandas\\io\\file.py\u001b[0m in \u001b[0;36minfer_schema\u001b[1;34m(df)\u001b[0m\n\u001b[0;32m    163\u001b[0m \u001b[1;33m\u001b[0m\u001b[0m\n\u001b[0;32m    164\u001b[0m     \u001b[1;32mif\u001b[0m \u001b[0mdf\u001b[0m\u001b[1;33m.\u001b[0m\u001b[0mempty\u001b[0m\u001b[1;33m:\u001b[0m\u001b[1;33m\u001b[0m\u001b[1;33m\u001b[0m\u001b[0m\n\u001b[1;32m--> 165\u001b[1;33m         \u001b[1;32mraise\u001b[0m \u001b[0mValueError\u001b[0m\u001b[1;33m(\u001b[0m\u001b[1;34m\"Cannot write empty DataFrame to file.\"\u001b[0m\u001b[1;33m)\u001b[0m\u001b[1;33m\u001b[0m\u001b[1;33m\u001b[0m\u001b[0m\n\u001b[0m\u001b[0;32m    166\u001b[0m \u001b[1;33m\u001b[0m\u001b[0m\n\u001b[0;32m    167\u001b[0m     \u001b[1;31m# Since https://github.com/Toblerity/Fiona/issues/446 resolution,\u001b[0m\u001b[1;33m\u001b[0m\u001b[1;33m\u001b[0m\u001b[1;33m\u001b[0m\u001b[0m\n",
      "\u001b[1;31mValueError\u001b[0m: Cannot write empty DataFrame to file."
     ],
     "output_type": "error"
    }
   ],
   "source": [
    "output = workspace + r'\\placeholder.geojson'\n",
    "with open(output, \"w\") as dst:\n",
    "    collection = {\n",
    "        \"type\": \"FeatureCollection\",\n",
    "        \"features\": list(clusters)}\n",
    "    dst.write(json.dumps(collection))\n",
    "    \n",
    "settlements = gpd.read_file(output)  \n",
    "settlements.to_file(workspace + r\"\\rastersettlements.shp\", driver='ESRI Shapefile')\n",
    "settlements = gpd.read_file(workspace + r\"\\rastersettlements.shp\")\n",
    "proj_settlements = settlements.to_crs({ 'init': crs}) \n",
    "os.remove(output)\n",
    "\n",
    "#def min_distance(point, lines):\n",
    "#    return lines.distance(point).min()\n",
    "print(datetime.datetime.now())"
   ]
  },
  {
   "cell_type": "markdown",
   "metadata": {},
   "source": [
    "Select the substations to be used in the analysis (Optional)"
   ]
  },
  {
   "cell_type": "code",
   "execution_count": null,
   "metadata": {},
   "outputs": [],
   "source": [
    "substations=gpd.read_file(filedialog.askopenfilename(filetypes = ((\"shapefile\",\"*.shp\"),(\"all files\",\"*.*\"))))\n",
    "\n",
    "sub_clip = clip.clip_shp(substations, admin)\n",
    "sub_clip.crs = {'init' :'epsg:4326'}\n",
    "sub_proj=sub_clip.to_crs({ 'init': crs})\n",
    "\n",
    "proj_settlements['sub'] = proj_settlements.geometry.apply(lambda g: sub_proj.distance(g).min())\n",
    "print(datetime.datetime.now())"
   ]
  },
  {
   "cell_type": "markdown",
   "metadata": {},
   "source": [
    "\n",
    "Select the existing high voltage transmission lines (Optional)"
   ]
  },
  {
   "cell_type": "code",
   "execution_count": null,
   "metadata": {},
   "outputs": [],
   "source": [
    "existing_hv=gpd.read_file(filedialog.askopenfilename(filetypes = ((\"shapefile\",\"*.shp\"),(\"all files\",\"*.*\"))))\n",
    "\n",
    "ex_hv_clip = clip.clip_shp(existing_hv, admin)\n",
    "ex_hv_clip.crs = {'init' :'epsg:4326'}\n",
    "ex_hv_proj=ex_hv_clip.to_crs({ 'init': crs})\n",
    "\n",
    "proj_settlements['ex_hv'] = proj_settlements.geometry.apply(lambda g: ex_hv_proj.distance(g).min())\n",
    "print(datetime.datetime.now())"
   ]
  },
  {
   "cell_type": "markdown",
   "metadata": {},
   "source": [
    "Select the planned high voltage transmission lines (Optional)\n"
   ]
  },
  {
   "cell_type": "code",
   "execution_count": null,
   "metadata": {},
   "outputs": [],
   "source": [
    "planned_hv=gpd.read_file(filedialog.askopenfilename(filetypes = ((\"shapefile\",\"*.shp\"),(\"all files\",\"*.*\"))))\n",
    "\n",
    "pl_hv_clip = clip.clip_shp(planned_hv, admin)\n",
    "pl_hv_clip.crs = {'init' :'epsg:4326'}\n",
    "pl_hv_proj=pl_hv_clip.to_crs({ 'init': crs})\n",
    "\n",
    "proj_settlements['pl_hv'] = proj_settlements.geometry.apply(lambda g: pl_hv_proj.distance(g).min())\n",
    "print(datetime.datetime.now())"
   ]
  },
  {
   "cell_type": "markdown",
   "metadata": {},
   "source": [
    "Select the existing medium voltage distribution lines (Optional)"
   ]
  },
  {
   "cell_type": "code",
   "execution_count": null,
   "metadata": {},
   "outputs": [],
   "source": [
    "existing_mv=gpd.read_file(filedialog.askopenfilename(filetypes = ((\"shapefile\",\"*.shp\"),(\"all files\",\"*.*\"))))\n",
    "\n",
    "ex_mv_clip = clip.clip_shp(existing_mv, admin)\n",
    "ex_mv_clip.crs = {'init' :'epsg:4326'}\n",
    "ex_mv_proj=ex_mv_clip.to_crs({'init': crs})\n",
    "\n",
    "proj_settlements['ex_mv'] = proj_settlements.geometry.apply(lambda g: ex_mv_proj.distance(g).min())\n",
    "print(datetime.datetime.now())"
   ]
  },
  {
   "cell_type": "markdown",
   "metadata": {},
   "source": [
    "Select the planned medium voltage distribution lines (Optional)"
   ]
  },
  {
   "cell_type": "code",
   "execution_count": null,
   "metadata": {},
   "outputs": [],
   "source": [
    "planned_mv=gpd.read_file(filedialog.askopenfilename(filetypes = ((\"shapefile\",\"*.shp\"),(\"all files\",\"*.*\"))))\n",
    "\n",
    "pl_mv_clip = clip.clip_shp(planned_mv, admin)\n",
    "pl_mv_clip.crs = {'init' :'epsg:4326'}\n",
    "pl_mv_proj=pl_mv_clip.to_crs({ 'init': crs})\n",
    "\n",
    "proj_settlements['pl_mv'] = proj_settlements.geometry.apply(lambda g: pl_mv_proj.distance(g).min())\n",
    "print(datetime.datetime.now())"
   ]
  },
  {
   "cell_type": "markdown",
   "metadata": {},
   "source": [
    "Select the road network to be used (Optional)"
   ]
  },
  {
   "cell_type": "code",
   "execution_count": null,
   "metadata": {},
   "outputs": [],
   "source": [
    "roads=gpd.read_file(filedialog.askopenfilename(filetypes = ((\"shapefile\",\"*.shp\"),(\"all files\",\"*.*\"))))\n",
    "\n",
    "roads_clip = clip.clip_shp(roads, admin)\n",
    "roads_clip.crs = {'init' :'epsg:4326'}\n",
    "roads_proj=roads_clip.to_crs({ 'init': crs})\n",
    "\n",
    "proj_settlements['roads'] = proj_settlements.geometry.apply(lambda g: roads_proj.distance(g).min())\n",
    "print(datetime.datetime.now())"
   ]
  },
  {
   "cell_type": "markdown",
   "metadata": {},
   "source": [
    "Select the transformers to be used (Optional)"
   ]
  },
  {
   "cell_type": "code",
   "execution_count": null,
   "metadata": {},
   "outputs": [],
   "source": [
    "#transformers=gpd.read_file(filedialog.askopenfilename(filetypes = ((\"shapefile\",\"*.shp\"),(\"all files\",\"*.*\"))))\n",
    "#trans_clip = clip.clip_shp(transformers, admin)\n",
    "#trans_clip.crs = {'init' :'epsg:4326'}\n",
    "#trans_proj=trans_clip.to_crs({ 'init': crs})\n",
    "\n",
    "#proj_settlements['trans'] = proj_settlements.geometry.apply(lambda g: trans_proj.distance(g).min())\n",
    "#print(datetime.datetime.now())"
   ]
  },
  {
   "cell_type": "markdown",
   "metadata": {},
   "source": [
    "Select the hydropower dataset to be used (Optional)\n",
    "\n",
    "If a hydropower dataset is selected please identify the column represeting the hydro potential as well as its unit"
   ]
  },
  {
   "cell_type": "code",
   "execution_count": null,
   "metadata": {},
   "outputs": [],
   "source": [
    "#hydro=gpd.read_file(filedialog.askopenfilename(filetypes = ((\"shapefile\",\"*.shp\"),(\"all files\",\"*.*\"))))\n",
    "\n",
    "hydro=gpd.read_file(r\"N:\\Global_Electrification_Platform\\Pilot_case_Malawi\\Database\\Hydropower\\hydro_points.shp\")\n",
    "\n",
    "#hydropower = widgets.Dropdown(options=hydro.head(),\n",
    "#    value=None,\n",
    "#    description='Hydropower:',\n",
    "#    disabled=False)\n",
    "\n",
    "#display(hydropower)\n",
    "\n",
    "#hydrounit = widgets.Dropdown(options=['W', 'kW', 'MW'],\n",
    "#    value='W',\n",
    "#    description='Unit:',\n",
    "#    disabled=False)\n",
    "\n",
    "#display(hydrounit)\n",
    "print(datetime.datetime.now())"
   ]
  },
  {
   "cell_type": "code",
   "execution_count": null,
   "metadata": {},
   "outputs": [],
   "source": [
    "hydro_clip = clip.clip_shp(hydro, admin)\n",
    "hydro_clip.crs = {'init' :'epsg:4326'}\n",
    "hydro_proj=hydro_clip.to_crs({ 'init': crs})\n",
    "pts3 = hydro_proj.geometry.unary_union\n",
    "\n",
    "#x = hydropower.value\n",
    "x = \"PowerMW\"\n",
    "hydro_proj['id'] = np.arange(len(hydro_proj))\n",
    "\n",
    "def near(point, point2=pts3):\n",
    "    nearest = hydro_proj.geometry == nearest_points(point, point2)[1]\n",
    "    return hydro_proj[nearest].get_values()[0]\n",
    "\n",
    "#if hydrounit.value is 'MW':\n",
    "#    proj_settlements['hydropower'] = proj_settlements.apply(lambda row: near(row.geometry)[hydro_proj.columns.get_loc(x)]*1000, axis=1)\n",
    "#elif hydrounit.value is 'kW':\n",
    "#    proj_settlements['hydropower'] = proj_settlements.apply(lambda row: near(row.geometry)[hydro_proj.columns.get_loc(x)], axis=1)\n",
    "#else:\n",
    "#    proj_settlements['hydropower'] = proj_settlements.apply(lambda row: near(row.geometry)[hydro_proj.columns.get_loc(x)]/1000, axis=1)\n",
    " \n",
    "proj_settlements['hydropower'] = proj_settlements.apply(lambda row: near(row.geometry)[hydro_proj.columns.get_loc(x)]*1000, axis=1)    \n",
    "proj_settlements['hydrodist'] = proj_settlements.geometry.apply(lambda g: hydro_proj.distance(g).min())\n",
    "proj_settlements['hydropowerFID'] = proj_settlements.apply(lambda row: near(row.geometry)[hydro_proj.columns.get_loc('id')], axis=1)\n",
    "print(datetime.datetime.now())"
   ]
  },
  {
   "cell_type": "code",
   "execution_count": null,
   "metadata": {},
   "outputs": [],
   "source": [
    "settlements = proj_settlements.to_crs({ 'init': 'epsg:4326'}) \n",
    "\n",
    "settlements.to_file(workspace + r\"\\output.shp\", driver='ESRI Shapefile')\n",
    "settlements = gpd.read_file(workspace + r\"\\output.shp\")\n",
    "print(datetime.datetime.now())"
   ]
  },
  {
   "cell_type": "code",
   "execution_count": null,
   "metadata": {},
   "outputs": [],
   "source": [
    "#settlements.rename(columns={\"NightLight\": \"NightLights\", popunit.value : \"Pop\", \"GridCellAr\":\"GridCellArea\"})\n",
    "settlements.rename(columns={\"NightLight\": \"NightLights\", \"Population\" : \"Pop\", \"Area\":\"GridCellArea\"})\n",
    "\n",
    "if \"lc_majorit\" in proj_settlements:\n",
    "    settlements = settlements.rename(columns={\"lc_majorit\": \"LandCover\"})\n",
    "else:\n",
    "    raise Exception('The landcover column is missing, this is a mandatory column rerun cell X')\n",
    "    \n",
    "if \"dem_mean\" in proj_settlements:\n",
    "    settlements = settlements.rename(columns={\"dem_mean\": \"Elevation\"})\n",
    "else:\n",
    "    raise Exception('The elevation column is missing, this is a mandatory column rerun cell X')    \n",
    "\n",
    "if \"sl_majorit\" in proj_settlements:\n",
    "    settlements = settlements.rename(columns={\"sl_majorit\": \"Slope\"})\n",
    "else:\n",
    "    raise Exception('The slope column is missing, this is a mandatory column rerun cell X')  \n",
    "\n",
    "if \"ghi_mean\" in proj_settlements:\n",
    "    settlements = settlements.rename(columns={\"ghi_mean\": \"GHI\"})\n",
    "else:\n",
    "    raise Exception('The solar column is missing, this is a mandatory column rerun cell X')  \n",
    "    \n",
    "if \"travel_mea\" in proj_settlements:\n",
    "    settlements = settlements.rename(columns={\"travel_mea\": \"TravelHours\"})\n",
    "    settlements[\"TravelHours\"] = settlements[\"TravelHours\"]/60\n",
    "else:\n",
    "    raise Exception('The traveltime column is missing, this is a mandatory column rerun cell X')\n",
    "    \n",
    "if \"wind_mean\" in proj_settlements:\n",
    "    settlements = settlements.rename(columns={\"wind_mean\": \"WindVel\"})\n",
    "else:\n",
    "    raise Exception('The wind speed column is missing, this is a mandatory column rerun cell X')\n",
    "\n",
    "if \"custom_mea\" in proj_settlements:\n",
    "    settlements = settlements.rename(columns={\"custom_mea\": \"ResidentialDemandTierCustom\"})\n",
    "else:\n",
    "    settlements[\"ResidentialDemandTierCustom\"] = 0\n",
    "\n",
    "if \"sub\" in proj_settlements:\n",
    "    settlements = settlements.rename(columns={\"sub\": \"SubstationDist\"})\n",
    "    settlements[\"SubstationDist\"] = settlements[\"SubstationDist\"]/1000\n",
    "else:\n",
    "    settlements[\"SubstationDist\"] = 99\n",
    "\n",
    "if \"ex_hv\" in proj_settlements:\n",
    "    settlements = settlements.rename(columns={\"ex_hv\": \"CurrentHVLineDist\"})\n",
    "    settlements[\"CurrentHVLineDist\"] = settlements[\"CurrentHVLineDist\"]/1000  \n",
    "else:\n",
    "    settlements[\"CurrentHVLineDist\"] = 0    \n",
    "\n",
    "if \"pl_hv\" in proj_settlements:\n",
    "    settlements = settlements.rename(columns={\"pl_hv\": \"PlannedHVLineDist\"})\n",
    "    settlements[\"PlannedHVLineDist\"] = settlements[\"PlannedHVLineDist\"]/1000\n",
    "elif 'ex_hv' not in proj_settlements:\n",
    "    settlements[\"PlannedHVLineDist\"] = 0\n",
    "else:\n",
    "    settlements[\"PlannedHVLineDist\"] = settlements[\"CurrentHVLineDist\"]  \n",
    "\n",
    "if \"ex_mv\" in proj_settlements:\n",
    "    settlements = settlements.rename(columns={\"ex_mv\": \"CurrentMVLineDist\"})\n",
    "    settlements[\"CurrentMVLineDist\"] = settlements[\"CurrentMVLineDist\"]/1000\n",
    "else:\n",
    "    settlements[\"CurrentMVLineDist\"] = 0\n",
    "\n",
    "if \"pl_mv\" in proj_settlements:\n",
    "    settlements = settlements.rename(columns={\"pl_mv\": \"PlannedMVLineDist\"})\n",
    "    settlements[\"PlannedMVLineDist\"] = settlements[\"PlannedMVLineDist\"]/1000\n",
    "elif 'ex_mv' not in proj_settlements:\n",
    "    settlements[\"PlannedMVLineDist\"] = 0\n",
    "else:\n",
    "    settlements[\"PlannedMVLineDist\"] = settlements[\"CurrentMVLineDist\"]    \n",
    "    \n",
    "if \"roads\" in proj_settlements:\n",
    "    settlements = settlements.rename(columns={\"roads\": \"RoadDist\"})\n",
    "    settlements[\"RoadDist\"] = settlements[\"RoadDist\"]/1000\n",
    "else:\n",
    "    settlements[\"RoadDist\"] = 99\n",
    "\n",
    "if \"trans\" in proj_settlements:\n",
    "    settlements = settlements.rename(columns={\"trans\": \"TransformerDist\"})\n",
    "    settlements[\"TransformerDist\"] = settlements[\"TransformerDist\"]/1000\n",
    "else:\n",
    "    settlements[\"TransformerDist\"] = 0\n",
    "\n",
    "if \"hydropow_1\" in proj_settlements:\n",
    "    settlements = settlements.rename(columns={\"hydropow_1\": \"HydropowerFID\"})\n",
    "else:\n",
    "    settlements[\"HydropowerFID\"] = 0\n",
    "\n",
    "if \"hydrodist\" in proj_settlements:\n",
    "    settlements = settlements.rename(columns={\"hydrodist\": \"HydropowerDist\"})\n",
    "    settlements[\"HydropowerDist\"] = settlements[\"HydropowerDist\"]/1000\n",
    "else:\n",
    "    settlements[\"HydropowerDist\"] = 99\n",
    "\n",
    "if \"hydropower\" in proj_settlements:\n",
    "    settlements = settlements.rename(columns={\"hydropower\": \"Hydropower\"})\n",
    "else:\n",
    "    settlements[\"Hydropower\"] = 0\n",
    "\n",
    "settlements[\"IsUrban\"] = 0\n",
    "settlements[\"PerCapitaDemand\"] = 0\n",
    "settlements[\"HealthDemand\"] = 0    \n",
    "settlements[\"EducationDemand\"] = 0\n",
    "settlements[\"AgriDemand\"] = 0\n",
    "settlements[\"CommercialDemand\"] = 0\n",
    "settlements[\"Conflict\"] = 0\n",
    "settlements[\"ElectrificationOrder\"] = 0\n",
    "settlements[\"ResidentialDemandTier1\"] = 7.74\n",
    "settlements[\"ResidentialDemandTier2\"] = 43.8\n",
    "settlements[\"ResidentialDemandTier3\"] = 160.6\n",
    "settlements[\"ResidentialDemandTier4\"] = 423.4\n",
    "settlements[\"ResidentialDemandTier5\"] = 598.6\n",
    "settlements[\"X_deg\"] = settlements.geometry.centroid.x\n",
    "settlements[\"Y_deg\"] = settlements.geometry.centroid.y\n",
    "print(datetime.datetime.now())"
   ]
  },
  {
   "cell_type": "code",
   "execution_count": null,
   "metadata": {},
   "outputs": [],
   "source": [
    "settlements.to_file(workspace + r\"\\output.shp\", driver='ESRI Shapefile')\n",
    "settlements.to_file(workspace + r\"\\output.csv\", driver='CSV')\n",
    "print(datetime.datetime.now())"
   ]
  }
 ],
 "metadata": {
  "kernelspec": {
   "display_name": "Python 3",
   "language": "python",
   "name": "python3"
  },
  "language_info": {
   "codemirror_mode": {
    "name": "ipython",
    "version": 3.0
   },
   "file_extension": ".py",
   "mimetype": "text/x-python",
   "name": "python",
   "nbconvert_exporter": "python",
   "pygments_lexer": "ipython3",
   "version": "3.7.3"
  }
 },
 "nbformat": 4,
 "nbformat_minor": 0
}