{
 "cells": [
  {
   "cell_type": "markdown",
   "metadata": {},
   "source": [
    "# GEP-OnSSET GIS-Extraction Notebook for GEP-OnSSET\n",
    "\n",
    "This is the GEP-OnSSET GIS extraction notebook. It replaces the [QGIS plugin](https://github.com/global-electrification-platform/Cluster-based_extraction_OnSSET/tree/master/Plugin) used in the online course.\n",
    "\n",
    "The main purpose of this notebook is to facilitate the change of single datasets without running through the entire plugin. Using this notebook the user will be able to change however many datasets needed.\n",
    "\n",
    "In order to run an OnSSET analysis the following datasets are needed:\n",
    "* Admin boundaries\n",
    "* Slope\n",
    "* Global horizontal irradiation\n",
    "* Travel time\n",
    "* Wind velocity\n",
    "* Clusters **(these clusters should include: The name of the study area, the amount of nighttime lights, population, population living in areas with nighttime light and an ID column)**. The clusters can be downloaded from [Energydata.info](https://energydata.info/) or generated directly using this [code](https://github.com/global-electrification-platform/Clustering_notebook).\n",
    "\n",
    "In addition to this there are also some optional datasets that can be used in the analysis:\n",
    "* Custom Demand - Can be generated using this [code](https://github.com/global-electrification-platform/CREDIT_layer). Description of the methodology is available [here](https://www.mdpi.com/1996-1073/12/7/1395) has been used.\n",
    "* Substations\n",
    "* Transformers\n",
    "* ESPs (existing mini-grids)\n",
    "* Adm0 & Adm1 boundary layers\n",
    "* Mini/Small hydro\n",
    "* Existing and planned HV-lines\n",
    "* Existing and planned MV-lines \n",
    "* Road network\n",
    "\n",
    "Below instructions for each cell follows. The cells marked with **(Mandatory)** in the title have to be run."
   ]
  },
  {
   "cell_type": "markdown",
   "metadata": {},
   "source": [
    "### Useful hints and common error messages\n",
    "* Make sure that all input layers are using EPSG:4326 as the coordinate system\n",
    "* Make sure that the \"crs\" in cell 2 is in a coordinate system using meters as the unit\n",
    "* It is often useful to clip all the input layers to the country boundaries in order to reduce processing times\n",
    "* Make sure that each dataset actually has some data within the country boundaries\n",
    "* Some of the datasets require the user to choose values from a dropdown list below\n",
    "* For hydro points and mini-grids, the vector layers need some specific column names to work\n",
    "* In case a dataset still does not work, try opening it in QGIS and run the *Fix geometries* tool and save the new layer.\n",
    "* If things do not work, it may be useful to go to the very top of this Jupyter Notebook and start again from cell 1\n"
   ]
  },
  {
   "cell_type": "markdown",
   "metadata": {},
   "source": [
    "## Cell 1 - Importing necessary packages (Mandatory)\n",
    "\n",
    "Packages to be used are imported from the funcs.ipynb."
   ]
  },
  {
   "cell_type": "code",
   "execution_count": 1,
   "metadata": {},
   "outputs": [],
   "source": [
    "%run funcs.ipynb\n",
    "import time"
   ]
  },
  {
   "cell_type": "markdown",
   "metadata": {},
   "source": [
    "## Cell 2 - Setting the target coordinate system (Mandatory)\n",
    "\n",
    "When calculating distances it is important to choose a coordinate system that represents distances correctly in your area of interst. The coordinate system that is given below is the World Mercator, these coordinate system generally work well, but the distortions get larger as you move away from the equator.\n",
    "\n",
    "In order to select your own coordinate system go to [epsg.io](http://epsg.io/) and type in your area of interest, this will give you a list of coordinate systems to choose from. Once you have selected your coordinate system replace the numbers below with the numbers from your coordinate system **(keep the \"EPSG\" part)**.\n",
    "\n",
    "**NOTE** When selecting your coordinate system make sure that you select a system with the unit of meters, this is indicated for all systems on [epsg.io](http://epsg.io/)"
   ]
  },
  {
   "cell_type": "code",
   "execution_count": 2,
   "metadata": {},
   "outputs": [],
   "source": [
    "crs = 'EPSG:3395'"
   ]
  },
  {
   "cell_type": "markdown",
   "metadata": {},
   "source": [
    "## Cell 3 - Select the workspace and the administrative boundaries (Mandatory)\n",
    "\n",
    "Define the workspace. The output layers will populate this folder. It is highly recommended to select an empty folder as your workspace.\n",
    "\n",
    "For the administrative boundaries you will have to select an **Polygon** layer represeting your area of interest.\n",
    "        "
   ]
  },
  {
   "cell_type": "code",
   "execution_count": 3,
   "metadata": {
    "scrolled": true
   },
   "outputs": [],
   "source": [
    "messagebox.showinfo('OnSSET extraction', 'Output folder')\n",
    "workspace = filedialog.askdirectory()"
   ]
  },
  {
   "cell_type": "code",
   "execution_count": 4,
   "metadata": {},
   "outputs": [],
   "source": [
    "messagebox.showinfo('OnSSET', 'Select the admin boundaries')\n",
    "admin = gpd.read_file(filedialog.askopenfilename(filetypes = ((\"vector\",[\"*.shp\", \"*.gpkg\", \"*.geojson\"]),(\"all files\",\"*.*\"))))"
   ]
  },
  {
   "cell_type": "markdown",
   "metadata": {},
   "source": [
    "## Cell 4 - Select the population clusters (Mandatory)\n",
    "\n",
    "Select the clusters to be used in the analysis\n",
    "\n",
    "Please also indicate which column is representing the population data as this will be used later. "
   ]
  },
  {
   "cell_type": "code",
   "execution_count": 5,
   "metadata": {},
   "outputs": [],
   "source": [
    "messagebox.showinfo('OnSSET', 'Select the clusters')\n",
    "clusters = gpd.read_file(filedialog.askopenfilename(filetypes = ((\"vector\",[\"*.shp\", \"*.gpkg\", \"*.geojson\"]),(\"all files\",\"*.*\"))))\n",
    "\n",
    "# Keep only the clusters within the selected admin boundary\n",
    "# clusters = gpd.clip(clusters, admin)\n",
    "\n",
    "popunit = widgets.Dropdown(options=clusters.head(),\n",
    "    value='Population',\n",
    "    description='Population:',\n",
    "    disabled=False)\n"
   ]
  },
  {
   "cell_type": "code",
   "execution_count": 6,
   "metadata": {},
   "outputs": [
    {
     "data": {
      "application/vnd.jupyter.widget-view+json": {
       "model_id": "d9323102cefa494ea209f6d84b0e3517",
       "version_major": 2,
       "version_minor": 0
      },
      "text/plain": [
       "Dropdown(description='Population:', index=3, options=('Area', 'Country', 'cluster_id', 'Population', 'IsUrban'…"
      ]
     },
     "metadata": {},
     "output_type": "display_data"
    }
   ],
   "source": [
    "display(popunit)\n",
    "x = popunit.value"
   ]
  },
  {
   "cell_type": "markdown",
   "metadata": {},
   "source": [
    "## Cell 5 - Select the Global Horizontal Irradiation (GHI) map - Raster map (Mandatory)\n",
    "\n",
    "**If your settlement data already includes GHI data, skip to cell 8. Note however that this dataset is mandatory to run the OnSSET analysis**\n",
    "\n",
    "Select the ghi map that you wish to use in your analysis. This cell will extract the ghi values in your raster map to your clusters."
   ]
  },
  {
   "cell_type": "code",
   "execution_count": 7,
   "metadata": {},
   "outputs": [
    {
     "name": "stdout",
     "output_type": "stream",
     "text": [
      "Sun Aug  4 19:12:09 2024\n"
     ]
    }
   ],
   "source": [
    "messagebox.showinfo('OnSSET', 'Select the Solar GHI map')\n",
    "raster=filedialog.askopenfilename(filetypes = ((\"rasters\",\"*.tif\"),(\"all files\",\"*.*\")))\n",
    "\n",
    "try:\n",
    "    clusters = zonal_stat(raster, clusters, 'mean', 'GHI')\n",
    "    print(time.ctime())\n",
    "except rasterio.RasterioIOError as e:\n",
    "    print('Could not process GHI, layer was not selected')\n",
    "    print(e)"
   ]
  },
  {
   "cell_type": "markdown",
   "metadata": {
    "collapsed": true,
    "jupyter": {
     "outputs_hidden": true
    }
   },
   "source": [
    "## Cell 6 - Select the Travel Time map - Raster map (Mandatory)\n",
    " \n",
    "**If your settlement data already includes travel time data, skip to cell 9. Note however that this dataset is mandatory to run the OnSSET analysis**\n",
    "\n",
    "Select the travel time map that you wish to use in your analysis. This cell will extract the travel time values in your raster map to your clusters."
   ]
  },
  {
   "cell_type": "code",
   "execution_count": 8,
   "metadata": {},
   "outputs": [
    {
     "name": "stdout",
     "output_type": "stream",
     "text": [
      "Sun Aug  4 19:12:32 2024\n"
     ]
    }
   ],
   "source": [
    "messagebox.showinfo('OnSSET', 'Select the Travel Time map')\n",
    "raster=filedialog.askopenfilename(filetypes = ((\"rasters\",\"*.tif\"),(\"all files\",\"*.*\")))\n",
    "\n",
    "try:\n",
    "    clusters = zonal_stat(raster, clusters, 'mean', 'TravelTime')\n",
    "    print(time.ctime())\n",
    "except rasterio.RasterioIOError as e:\n",
    "    print('Could not process Travel Time, layer was not selected')\n",
    "    print(e)    "
   ]
  },
  {
   "cell_type": "markdown",
   "metadata": {},
   "source": [
    "## Cell 7 - Select the Wind Velocity map - Raster map (Mandatory)\n",
    "\n",
    "**If your settlement data already includes wind velocity data, skip to cell 10. Note however that this dataset is mandatory to run the OnSSET analysis**\n",
    "\n",
    "Select the wind velocity map that you wish to use in your analysis. This cell will extract the wind velocity values in your raster map to your clusters."
   ]
  },
  {
   "cell_type": "code",
   "execution_count": 9,
   "metadata": {},
   "outputs": [
    {
     "name": "stdout",
     "output_type": "stream",
     "text": [
      "Sun Aug  4 19:12:55 2024\n"
     ]
    }
   ],
   "source": [
    "messagebox.showinfo('OnSSET', 'Select the Wind Speed map')\n",
    "raster=filedialog.askopenfilename(filetypes = ((\"rasters\",\"*.tif\"),(\"all files\",\"*.*\")))\n",
    "\n",
    "try:\n",
    "    clusters = zonal_stat(raster, clusters, 'mean', 'WindVel')\n",
    "    print(time.ctime())\n",
    "except rasterio.RasterioIOError as e:\n",
    "    print('Could not process Wind Speed, layer was not selected')\n",
    "    print(e)  "
   ]
  },
  {
   "cell_type": "markdown",
   "metadata": {},
   "source": [
    "## Cell 8 - Select the Night Lights map - Raster map (Mandatory)\n",
    "\n",
    "**If your settlement data already includes night lights data, skip to cell 11. Note however that this dataset is mandatory to run the OnSSET analysis**\n",
    "\n",
    "Select the wind velocity map that you wish to use in your analysis. This cell will extract the wind velocity values in your raster map to your clusters."
   ]
  },
  {
   "cell_type": "code",
   "execution_count": 10,
   "metadata": {},
   "outputs": [
    {
     "name": "stdout",
     "output_type": "stream",
     "text": [
      "Sun Aug  4 19:13:21 2024\n"
     ]
    }
   ],
   "source": [
    "messagebox.showinfo('OnSSET', 'Select the Night Lights map')\n",
    "raster=filedialog.askopenfilename(filetypes = ((\"rasters\",\"*.tif\"),(\"all files\",\"*.*\")))\n",
    "\n",
    "try:\n",
    "    clusters = zonal_stat(raster, clusters, 'max', 'NightLight')\n",
    "    print(time.ctime())\n",
    "except rasterio.RasterioIOError as e:\n",
    "    print('Could not process Night Lights, layer was not selected')\n",
    "    print(e) "
   ]
  },
  {
   "cell_type": "markdown",
   "metadata": {},
   "source": [
    "## Cell 9 - Select the Custom Demand OR Demand index layer(s) - Raster map (Optional)\n",
    "\n",
    "This cell may be used to extract the values from a) the Custom Residential Electricity Demand Indicative Target (CREDIT) layer **OR** b) the AHP classification process preceding that. Both options depend on raster layers that can be generated based on available data. \n",
    "\n",
    "You may refer to this [code](https://github.com/global-electrification-platform/CREDIT_layer) for additional information of how to generate these layers. \n",
    "\n",
    "**Note** that we also use two input rasters for urban/rural settlements indicatively. "
   ]
  },
  {
   "cell_type": "code",
   "execution_count": 11,
   "metadata": {},
   "outputs": [
    {
     "name": "stdout",
     "output_type": "stream",
     "text": [
      "Sun Aug  4 19:13:50 2024\n"
     ]
    }
   ],
   "source": [
    "messagebox.showinfo('OnSSET', 'Select the Custom Demand map')\n",
    "raster=filedialog.askopenfilename(filetypes = ((\"rasters\",\"*.tif\"),(\"all files\",\"*.*\")))\n",
    "\n",
    "try:\n",
    "    clusters = zonal_stat(raster, clusters, 'mean', 'CustomDemand')\n",
    "    print(time.ctime())\n",
    "except rasterio.RasterioIOError as e:\n",
    "    print('Could not process Custom Demand, layer was not selected')\n",
    "    print(e)    "
   ]
  },
  {
   "cell_type": "markdown",
   "metadata": {},
   "source": [
    "## Cell 10 - Preparing to run the vector data (Mandatory)\n",
    "\n",
    "**If you are planning on extracting any vector data (substations, transformers, hydro, MV-lines, HV-lines or roads) run this cell**. \n",
    "\n",
    "This cell reprojects the settlements to the coordinate system you specified above."
   ]
  },
  {
   "cell_type": "code",
   "execution_count": 12,
   "metadata": {
    "scrolled": true
   },
   "outputs": [
    {
     "name": "stdout",
     "output_type": "stream",
     "text": [
      "2024-08-04 19:13:52.143182\n"
     ]
    }
   ],
   "source": [
    "clusters = preparing_for_vectors(workspace, clusters, crs)"
   ]
  },
  {
   "cell_type": "markdown",
   "metadata": {},
   "source": [
    "## Cell 11 - Substations - Vector point layer (Optional)\n",
    "\n",
    "**If you do not have substations or wish to keep the ones already in your settlement file, skip to cell 14.**\n",
    "\n",
    "Determines the distances between each settlement point to the closest substation. "
   ]
  },
  {
   "cell_type": "code",
   "execution_count": 13,
   "metadata": {},
   "outputs": [
    {
     "name": "stdout",
     "output_type": "stream",
     "text": [
      "Could not process Substations, layer was not selected\n",
      ": No such file or directory\n"
     ]
    }
   ],
   "source": [
    "try:\n",
    "    clusters = processing_points(\"Substation\", admin, crs, workspace, clusters, mg_filter=False)\n",
    "except fiona.errors.DriverError as e:\n",
    "    print('Could not process Substations, layer was not selected')\n",
    "    print(e)\n",
    "except ValueError as e:\n",
    "    print('Could not process Substations. Check the coordinate system and that there are substations in the study area')\n",
    "    print(e)"
   ]
  },
  {
   "cell_type": "markdown",
   "metadata": {},
   "source": [
    "## Cell 12 - Existing high voltage lines - Vector line layer (Optional)\n",
    "\n",
    "**If you do not have existing high voltage lines or wish to keep the ones already in your settlement file, skip to cell 15.**\n",
    "\n",
    "Determines the distances between each settlement point to the closest existing high voltage line. "
   ]
  },
  {
   "cell_type": "code",
   "execution_count": 14,
   "metadata": {},
   "outputs": [
    {
     "name": "stdout",
     "output_type": "stream",
     "text": [
      "2024-08-04 19:14:23.311969\n"
     ]
    }
   ],
   "source": [
    "try:\n",
    "    clusters = processing_lines(\"Existing_HV\", admin, crs, workspace, clusters)\n",
    "except fiona.errors.DriverError as e:\n",
    "    print('Could not process Existing High Voltage lines, layer was not selected')\n",
    "    print(e)\n",
    "except ValueError as e:\n",
    "    print('Could not process Existing High Voltage lines. Check the coordinate system and that there are substations in the study area')\n",
    "    print(e)"
   ]
  },
  {
   "cell_type": "markdown",
   "metadata": {},
   "source": [
    "## Cell 13 - Planned high voltage lines - Vector line layer (Optional)\n",
    "\n",
    "**If you do not have planned high voltage lines or wish to keep the ones already in your settlement file, skip to cell 16.**\n",
    "\n",
    "Determines the distances between each settlement point to the closest planned high voltage line. "
   ]
  },
  {
   "cell_type": "code",
   "execution_count": 15,
   "metadata": {},
   "outputs": [
    {
     "name": "stdout",
     "output_type": "stream",
     "text": [
      "2024-08-04 19:14:34.583660\n"
     ]
    }
   ],
   "source": [
    "try:\n",
    "    clusters = processing_lines(\"Planned_HV\", admin, crs, workspace, clusters)\n",
    "except fiona.errors.DriverError as e:\n",
    "    print('Could not process Planned High Voltage lines, layer was not selected')\n",
    "    print(e)\n",
    "except ValueError as e:\n",
    "    print('Could not process Planned High Voltage lines. Check the coordinate system and that there are substations in the study area')\n",
    "    print(e)"
   ]
  },
  {
   "cell_type": "markdown",
   "metadata": {},
   "source": [
    "## Cell 14 - Existing medium voltage lines - Vector line layer (Optional)\n",
    "\n",
    "**If you do not have existing medium voltage lines or wish to keep the ones already in your settlement file, skip to cell 17.**\n",
    "\n",
    "Determines the distances between each settlement point to the closest existing medium voltage line. "
   ]
  },
  {
   "cell_type": "code",
   "execution_count": 16,
   "metadata": {},
   "outputs": [
    {
     "name": "stdout",
     "output_type": "stream",
     "text": [
      "2024-08-04 19:15:08.247253\n"
     ]
    }
   ],
   "source": [
    "try:\n",
    "    clusters = processing_lines(\"Existing_MV\", admin, crs, workspace, clusters)\n",
    "except fiona.errors.DriverError as e:\n",
    "    print('Could not process Existing Medium Voltage lines, layer was not selected')\n",
    "    print(e)\n",
    "except ValueError as e:\n",
    "    print('Could not process Existing Medium Voltage lines. Check the coordinate system and that there are substations in the study area')\n",
    "    print(e)"
   ]
  },
  {
   "cell_type": "markdown",
   "metadata": {},
   "source": [
    "## Cell 15 - Planned medium voltage lines - Vector line layer (Optional)\n",
    "\n",
    "**If you do not have planned medium voltage lines or wish to keep the ones already in your settlement file, skip to cell 18.**\n",
    "\n",
    "Determines the distances between each settlement point to the closest planned medium voltage line. "
   ]
  },
  {
   "cell_type": "code",
   "execution_count": 17,
   "metadata": {},
   "outputs": [
    {
     "name": "stdout",
     "output_type": "stream",
     "text": [
      "Could not process Planned Medium Voltage lines, layer was not selected\n",
      ": No such file or directory\n"
     ]
    }
   ],
   "source": [
    "try:\n",
    "    clusters = processing_lines(\"Planned_MV\", admin, crs, workspace, clusters)\n",
    "except fiona.errors.DriverError as e:\n",
    "    print('Could not process Planned Medium Voltage lines, layer was not selected')\n",
    "    print(e)\n",
    "except ValueError as e:\n",
    "    print('Could not process Planned Medium Voltage lines. Check the coordinate system and that there are substations in the study area')\n",
    "    print(e)"
   ]
  },
  {
   "cell_type": "markdown",
   "metadata": {},
   "source": [
    "## Cell 16 - Roads - Vector line layer (Optional)\n",
    "\n",
    "**If you do not have roads or wish to keep the ones already in your settlement file, skip to cell 19.**\n",
    "\n",
    "Determines the distances between each settlement point to the closest road. "
   ]
  },
  {
   "cell_type": "code",
   "execution_count": 18,
   "metadata": {},
   "outputs": [
    {
     "name": "stdout",
     "output_type": "stream",
     "text": [
      "2024-08-04 19:18:06.048248\n"
     ]
    }
   ],
   "source": [
    "try:\n",
    "    clusters = processing_lines(\"Road\", admin, crs, workspace, clusters)\n",
    "except fiona.errors.DriverError as e:\n",
    "    print('Could not process Roads, layer was not selected')\n",
    "    print(e)\n",
    "except ValueError as e:\n",
    "    print('Could not process Roads. Check the coordinate system and that there are substations in the study area')\n",
    "    print(e)"
   ]
  },
  {
   "cell_type": "markdown",
   "metadata": {},
   "source": [
    "## Cell 17 - Service/distribution transformers - Vector point layer (Optional)\n",
    "\n",
    "**If you do not have transformers or wish to keep the ones in the already in the settlement file, skip to cell 20** \n",
    "\n",
    "Determines the distances between each settlement point to the closest transformer. "
   ]
  },
  {
   "cell_type": "code",
   "execution_count": 19,
   "metadata": {},
   "outputs": [
    {
     "name": "stdout",
     "output_type": "stream",
     "text": [
      "2024-08-04 19:18:26.318615\n"
     ]
    }
   ],
   "source": [
    "try:\n",
    "    clusters = processing_points(\"Service Transformer\", admin, crs, workspace, clusters, mg_filter=False)\n",
    "except fiona.errors.DriverError as e:\n",
    "    print('Could not process Service transformers, layer was not selected')\n",
    "    print(e)\n",
    "except ValueError as e:\n",
    "    print('Could not process Service transformers. Check the coordinate system and that there are substations in the study area')\n",
    "    print(e)"
   ]
  },
  {
   "cell_type": "markdown",
   "metadata": {},
   "source": [
    "## Cell 18 and 19 - Hydro points - Vector point layer (Optional)\n",
    "\n",
    "**If you do not have new hydro power points skip to next step\n",
    "\n",
    "**In Cell 20** Select the hydro point layer you wish to use. It is important to have a column representing the power output for each hydro point in your dataset. After selecting the column you will also have to select the unit (W, kW or MW). \n",
    "\n",
    "**In Cell 21** When everything is selected in cell 22, run cell 23 in order to determine the distance to the closest hydro point for each settlement.\n",
    "\n",
    "**Note** that the layer should be vector-points and not vector-multipoints. In case of the latter please do convert that in Qgis (or similar) using SAGA function \"Convert multipoints to points\"."
   ]
  },
  {
   "cell_type": "code",
   "execution_count": 20,
   "metadata": {},
   "outputs": [
    {
     "data": {
      "application/vnd.jupyter.widget-view+json": {
       "model_id": "57711308d9e84cc681e00f8e6ed2e278",
       "version_major": 2,
       "version_minor": 0
      },
      "text/plain": [
       "Dropdown(description='Hydropower:', index=7, options=('OBJECTID', 'river_ID', 'elev', 'head', 'discharge_', 'p…"
      ]
     },
     "metadata": {},
     "output_type": "display_data"
    },
    {
     "data": {
      "application/vnd.jupyter.widget-view+json": {
       "model_id": "cdbd73a98e494d6886116c536cb5ae39",
       "version_major": 2,
       "version_minor": 0
      },
      "text/plain": [
       "Dropdown(description='Unit:', index=2, options=('W', 'kW', 'MW'), value='MW')"
      ]
     },
     "metadata": {},
     "output_type": "display_data"
    }
   ],
   "source": [
    "try:\n",
    "    messagebox.showinfo('OnSSET', 'Select the Hydropower map')\n",
    "    hydro=gpd.read_file(filedialog.askopenfilename(title = \"Select Hydro map\", filetypes = ((\"vector\",[\"*.shp\", \"*.gpkg\", \"*.geojson\"]),(\"all files\",\"*.*\"))))\n",
    "\n",
    "    hydropower = widgets.Dropdown(options=hydro.head(),\n",
    "        value='PowerMW',\n",
    "        description='Hydropower:',\n",
    "        disabled=False)\n",
    "\n",
    "    display(hydropower)\n",
    "\n",
    "    hydrounit = widgets.Dropdown(options=['W', 'kW', 'MW'],\n",
    "        value='MW',\n",
    "        description='Unit:',\n",
    "        disabled=False)\n",
    "\n",
    "    display(hydrounit)\n",
    "except fiona.errors.DriverError as e:\n",
    "    print('Could not process Hydro points, layer was not selected')\n",
    "    print(e)\n",
    "except ValueError as e:\n",
    "    print('Could not process Hydro points. Check the coordinate system and that there are substations in the study area')\n",
    "    print(e)"
   ]
  },
  {
   "cell_type": "code",
   "execution_count": 21,
   "metadata": {},
   "outputs": [
    {
     "name": "stdout",
     "output_type": "stream",
     "text": [
      "2024-08-04 19:18:38.737460\n"
     ]
    }
   ],
   "source": [
    "try:\n",
    "    clusters = processing_hydro(admin, crs, workspace, clusters, hydro, hydropower.value, hydrounit.value)\n",
    "except fiona.errors.DriverError as e:\n",
    "    print('Could not process Hydro points, layer was not selected')\n",
    "    print(e)\n",
    "except NameError as e:\n",
    "    print('Could not process Hydro points, there was an error or layer was not selected')\n",
    "    print(e)"
   ]
  },
  {
   "cell_type": "markdown",
   "metadata": {},
   "source": [
    "# Extra datasets that can be used to improve the analysis"
   ]
  },
  {
   "cell_type": "markdown",
   "metadata": {},
   "source": [
    "## Cell 20 - Existing mini-grids - Vector point layer (Optional extra)\n",
    "\n",
    "This function extracts the nearest mini-grid to each clusters and assigns key characteristics (e.g. name, MV network status, type)."
   ]
  },
  {
   "cell_type": "code",
   "execution_count": 22,
   "metadata": {},
   "outputs": [
    {
     "name": "stdout",
     "output_type": "stream",
     "text": [
      "2024-08-04 19:18:50.726424\n"
     ]
    }
   ],
   "source": [
    "try:\n",
    "    clusters = processing_points(\"MG\", admin, crs, workspace, clusters, mg_filter=True)\n",
    "except fiona.errors.DriverError as e:\n",
    "    print('Could not process Mini-Grids, layer was not selected')\n",
    "    print(e)\n",
    "except ValueError as e:\n",
    "    print('Could not process Mini-Grids. Check the coordinate system and that there are mini-grids in the study area')\n",
    "    print(e)"
   ]
  },
  {
   "cell_type": "markdown",
   "metadata": {},
   "source": [
    "## Cell 21 - Extracting admin 1 name to clusters - Vector polygon layer (Optional extra)\n",
    "\n",
    "This function extracts the admin level 1 name to each cluster based on spatial overlay. \n",
    "\n",
    "**Please do provide the right column name (e.g. \"adm1_name\") in the first variable**"
   ]
  },
  {
   "cell_type": "code",
   "execution_count": 23,
   "metadata": {},
   "outputs": [
    {
     "name": "stdout",
     "output_type": "stream",
     "text": [
      "2024-08-04 19:19:25.880660\n"
     ]
    }
   ],
   "source": [
    "admin_1_name = \"adm1_name\"\n",
    "\n",
    "try:\n",
    "    clusters = get_admin1_name(clusters, admin_1_name, crs)\n",
    "except fiona.errors.DriverError as e:\n",
    "    print('Could not process Admin 1, layer was not selected')\n",
    "    print(e)"
   ]
  },
  {
   "cell_type": "markdown",
   "metadata": {},
   "source": [
    "## Cell 22 - Conditioning & Export (Mandatory)\n",
    "\n",
    "This is the final cell in the extraction. This cell has to be run."
   ]
  },
  {
   "cell_type": "code",
   "execution_count": 24,
   "metadata": {},
   "outputs": [
    {
     "name": "stdout",
     "output_type": "stream",
     "text": [
      "2024-08-04 19:19:26.659028\n",
      "The extraction file is now ready for review & use in the workspace directory as 'GEP-OnSSET_InputFile.csv'!\n"
     ]
    }
   ],
   "source": [
    "clusters = conditioning(clusters, workspace, popunit.value)"
   ]
  },
  {
   "cell_type": "code",
   "execution_count": 25,
   "metadata": {},
   "outputs": [],
   "source": [
    "#clusters.to_csv(\"GEP_OnSSET_InputFile.csv\", index=False)"
   ]
  }
 ],
 "metadata": {
  "celltoolbar": "Raw Cell Format",
  "kernelspec": {
   "display_name": "Python 3 (ipykernel)",
   "language": "python",
   "name": "python3"
  },
  "language_info": {
   "codemirror_mode": {
    "name": "ipython",
    "version": 3
   },
   "file_extension": ".py",
   "mimetype": "text/x-python",
   "name": "python",
   "nbconvert_exporter": "python",
   "pygments_lexer": "ipython3",
   "version": "3.12.4"
  }
 },
 "nbformat": 4,
 "nbformat_minor": 4
}
