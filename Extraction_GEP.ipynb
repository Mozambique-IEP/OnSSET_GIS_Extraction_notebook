{
 "cells": [
  {
   "cell_type": "markdown",
   "metadata": {},
   "source": [
    "Packages to be used"
   ]
  },
  {
   "cell_type": "code",
   "execution_count": 1,
   "metadata": {},
   "outputs": [],
   "source": [
    "import geopandas as gpd\n",
    "import os\n",
    "import fiona\n",
    "import ipywidgets as widgets\n",
    "from IPython.display import display\n",
    "from rasterstats import zonal_stats\n",
    "import rasterio\n",
    "from shapely.ops import nearest_points\n",
    "from earthpy import clip\n",
    "import earthpy.spatial as es\n",
    "import numpy as np\n",
    "import tkinter as tk\n",
    "from tkinter import filedialog, messagebox\n",
    "import gdal\n",
    "\n",
    "root = tk.Tk()\n",
    "root.withdraw()\n",
    "root.attributes(\"-topmost\", True)\n",
    "\n",
    "import json"
   ]
  },
  {
   "cell_type": "code",
   "execution_count": 2,
   "metadata": {},
   "outputs": [],
   "source": [
    "crs = 'EPSG:3395'"
   ]
  },
  {
   "cell_type": "markdown",
   "metadata": {},
   "source": [
    "Define the workspace. The output layers will populate this folder. It is highly recommended to select an empty folder as your workspace\n",
    "        "
   ]
  },
  {
   "cell_type": "code",
   "execution_count": 3,
   "metadata": {
    "scrolled": true
   },
   "outputs": [],
   "source": [
    "messagebox.showinfo('OnSSET extraction', 'Output folder')\n",
    "workspace = filedialog.askdirectory()"
   ]
  },
  {
   "cell_type": "markdown",
   "metadata": {},
   "source": [
    "Select the clusters to be used in the analysis'\n",
    "\n",
    "Please also idicate which column is representing the population data. "
   ]
  },
  {
   "cell_type": "code",
   "execution_count": 4,
   "metadata": {},
   "outputs": [
    {
     "name": "stderr",
     "output_type": "stream",
     "text": [
      "C:\\ProgramData\\Anaconda3\\lib\\site-packages\\pandas\\core\\ops.py:1649: FutureWarning: elementwise comparison failed; returning scalar instead, but in the future will perform elementwise comparison\n",
      "  result = method(y)\n"
     ]
    },
    {
     "data": {
      "application/vnd.jupyter.widget-view+json": {
       "model_id": "8de2566763224db28dff41f3e6caae36",
       "version_major": 2,
       "version_minor": 0
      },
      "text/plain": [
       "Dropdown(description='Population:', options=('id', 'NightLight', 'Country', 'Pop', 'GridCellAr', 'ElecPop', 'g…"
      ]
     },
     "metadata": {},
     "output_type": "display_data"
    }
   ],
   "source": [
    "messagebox.showinfo('OnSSET', 'Select the clusters')\n",
    "clusters=gpd.read_file(filedialog.askopenfilename(filetypes = ((\"shapefile\",\"*.shp\"),(\"all files\",\"*.*\"))))\n",
    "\n",
    "popunit = widgets.Dropdown(options=clusters.head(),\n",
    "    value=None,\n",
    "    description='Population:',\n",
    "    disabled=False)\n",
    "\n",
    "display(popunit)"
   ]
  },
  {
   "cell_type": "markdown",
   "metadata": {},
   "source": [
    "Select the administrative boundaries to be used in the analysis"
   ]
  },
  {
   "cell_type": "code",
   "execution_count": 5,
   "metadata": {},
   "outputs": [],
   "source": [
    "messagebox.showinfo('OnSSET', 'Select the admin boundaries')\n",
    "admin=gpd.read_file(filedialog.askopenfilename(filetypes = ((\"shapefile\",\"*.shp\"),(\"all files\",\"*.*\"))))"
   ]
  },
  {
   "cell_type": "markdown",
   "metadata": {},
   "source": [
    "Select the landcover map"
   ]
  },
  {
   "cell_type": "code",
   "execution_count": 6,
   "metadata": {},
   "outputs": [],
   "source": [
    "messagebox.showinfo('OnSSET', 'Select the landcover map')\n",
    "landCover=rasterio.open(filedialog.askopenfilename(filetypes = ((\"rasters\",\"*.tif\"),(\"all files\",\"*.*\"))))\n",
    "\n",
    "clusters = zonal_stats(\n",
    "    clusters,\n",
    "    landCover.name,\n",
    "    stats=[\"majority\"],\n",
    "    prefix=\"lc_\", geojson_out=True, all_touched=True)"
   ]
  },
  {
   "cell_type": "markdown",
   "metadata": {},
   "source": [
    "Select the elevation map"
   ]
  },
  {
   "cell_type": "code",
   "execution_count": 7,
   "metadata": {},
   "outputs": [],
   "source": [
    "messagebox.showinfo('OnSSET', 'Select the elevation map')\n",
    "elevation=rasterio.open(filedialog.askopenfilename(filetypes = ((\"rasters\",\"*.tif\"),(\"all files\",\"*.*\"))))\n",
    "\n",
    "clusters = zonal_stats(\n",
    "    clusters,\n",
    "    elevation.name,\n",
    "    stats=[\"mean\"],\n",
    "    prefix=\"dem_\", all_touched = True, geojson_out=True)"
   ]
  },
  {
   "cell_type": "code",
   "execution_count": 8,
   "metadata": {},
   "outputs": [],
   "source": [
    "gdal.Warp(workspace + r\"\\dem.tif\",elevation.name,dstSRS=crs)\n",
    "\n",
    "def calculate_slope(DEM):\n",
    "    gdal.DEMProcessing(workspace + r'\\slope.tif', DEM, 'slope')\n",
    "    with rasterio.open(workspace + r'\\slope.tif') as dataset:\n",
    "        slope=dataset.read(1)\n",
    "    return slope\n",
    "\n",
    "slope=calculate_slope(workspace + r\"\\dem.tif\")\n",
    "\n",
    "slope = rasterio.open(workspace + r'\\slope.tif')\n",
    "gdal.Warp(workspace + r'\\slope_4326.tif',slope.name,dstSRS='EPSG:4326')\n",
    "slope_4326 = rasterio.open(workspace + r'\\slope_4326.tif')\n",
    "\n",
    "clusters = zonal_stats(\n",
    "    clusters,\n",
    "    slope_4326.name,\n",
    "    stats=[\"majority\"],\n",
    "    prefix=\"sl_\", all_touched = True, geojson_out=True)"
   ]
  },
  {
   "cell_type": "markdown",
   "metadata": {},
   "source": [
    "Select the ghi map"
   ]
  },
  {
   "cell_type": "code",
   "execution_count": 9,
   "metadata": {},
   "outputs": [],
   "source": [
    "messagebox.showinfo('OnSSET', 'Select the ghi map')\n",
    "ghi=rasterio.open(filedialog.askopenfilename(filetypes = ((\"rasters\",\"*.tif\"),(\"all files\",\"*.*\"))))\n",
    "\n",
    "clusters = zonal_stats(\n",
    "    clusters,\n",
    "    ghi.name,\n",
    "    stats=[\"mean\"],\n",
    "    prefix=\"ghi_\", all_touched = True, geojson_out=True)"
   ]
  },
  {
   "cell_type": "markdown",
   "metadata": {},
   "source": [
    "Select the traveltime map"
   ]
  },
  {
   "cell_type": "code",
   "execution_count": 10,
   "metadata": {},
   "outputs": [],
   "source": [
    "messagebox.showinfo('OnSSET', 'Select the traveltime map')\n",
    "travelTime=rasterio.open(filedialog.askopenfilename(filetypes = ((\"rasters\",\"*.tif\"),(\"all files\",\"*.*\"))))\n",
    "\n",
    "clusters = zonal_stats(\n",
    "    clusters,\n",
    "    travelTime.name,\n",
    "    stats=[\"mean\"],\n",
    "    prefix=\"travel_\", all_touched = True, geojson_out=True)"
   ]
  },
  {
   "cell_type": "markdown",
   "metadata": {},
   "source": [
    "Select the wind velocity map"
   ]
  },
  {
   "cell_type": "code",
   "execution_count": 11,
   "metadata": {},
   "outputs": [],
   "source": [
    "messagebox.showinfo('OnSSET', 'Select the wind velocity map')\n",
    "windVel=rasterio.open(filedialog.askopenfilename(filetypes = ((\"rasters\",\"*.tif\"),(\"all files\",\"*.*\"))))\n",
    "\n",
    "clusters = zonal_stats(\n",
    "    clusters,\n",
    "    windVel.name,\n",
    "    stats=[\"mean\"],\n",
    "    prefix=\"wind_\", all_touched = True, geojson_out=True)"
   ]
  },
  {
   "cell_type": "markdown",
   "metadata": {},
   "source": [
    "Select the custom demand map (Optional)"
   ]
  },
  {
   "cell_type": "code",
   "execution_count": 12,
   "metadata": {},
   "outputs": [],
   "source": [
    "messagebox.showinfo('OnSSET', 'Select the custom demand map')\n",
    "customDemand=rasterio.open(filedialog.askopenfilename(filetypes = ((\"rasters\",\"*.tif\"),(\"all files\",\"*.*\"))))\n",
    "\n",
    "clusters = zonal_stats(\n",
    "    clusters,\n",
    "    customDemand.name,\n",
    "    stats=[\"mean\"],\n",
    "    prefix=\"custom_\", all_touched = True, geojson_out=True)"
   ]
  },
  {
   "cell_type": "markdown",
   "metadata": {},
   "source": [
    "Saving the clusters with extracted rasters"
   ]
  },
  {
   "cell_type": "code",
   "execution_count": 13,
   "metadata": {},
   "outputs": [],
   "source": [
    "output = workspace + r'\\placeholder.geojson'\n",
    "with open(output, \"w\") as dst:\n",
    "    collection = {\n",
    "        \"type\": \"FeatureCollection\",\n",
    "        \"features\": list(clusters)}\n",
    "    dst.write(json.dumps(collection))\n",
    "    \n",
    "settlements = gpd.read_file(output)  \n",
    "settlements.fillna(0, inplace = True)\n",
    "settlements.to_file(workspace + r\"\\rastersettlements.shp\", driver='ESRI Shapefile')\n",
    "settlements = gpd.read_file(workspace + r\"\\rastersettlements.shp\")\n",
    "proj_settlements = settlements.to_crs({ 'init': crs}) \n",
    "os.remove(output)\n",
    "\n",
    "def min_distance(point, lines):\n",
    "    return lines.distance(point).min()"
   ]
  },
  {
   "cell_type": "markdown",
   "metadata": {},
   "source": [
    "Select the substations to be used in the analysis (Optional)"
   ]
  },
  {
   "cell_type": "code",
   "execution_count": 14,
   "metadata": {},
   "outputs": [],
   "source": [
    "substations=gpd.read_file(filedialog.askopenfilename(filetypes = ((\"shapefile\",\"*.shp\"),(\"all files\",\"*.*\"))))\n",
    "sub_clip = clip.clip_shp(substations, admin)\n",
    "sub_proj=sub_clip.to_crs({ 'init': crs})\n",
    "\n",
    "proj_settlements['sub'] = proj_settlements.geometry.apply(lambda g: sub_proj.distance(g).min())"
   ]
  },
  {
   "cell_type": "markdown",
   "metadata": {},
   "source": [
    "\n",
    "Select the existing high voltage transmission lines (Optional)"
   ]
  },
  {
   "cell_type": "code",
   "execution_count": 15,
   "metadata": {},
   "outputs": [],
   "source": [
    "existing_hv=gpd.read_file(filedialog.askopenfilename(filetypes = ((\"shapefile\",\"*.shp\"),(\"all files\",\"*.*\"))))\n",
    "ex_hv_clip = clip.clip_shp(existing_hv, admin)\n",
    "ex_hv_proj=ex_hv_clip.to_crs({ 'init': crs})\n",
    "\n",
    "proj_settlements['ex_hv'] = proj_settlements.geometry.apply(lambda g: ex_hv_proj.distance(g).min())"
   ]
  },
  {
   "cell_type": "markdown",
   "metadata": {},
   "source": [
    "Select the planned high voltage transmission lines (Optional)\n"
   ]
  },
  {
   "cell_type": "code",
   "execution_count": 15,
   "metadata": {},
   "outputs": [],
   "source": [
    "planned_hv=gpd.read_file(filedialog.askopenfilename(filetypes = ((\"shapefile\",\"*.shp\"),(\"all files\",\"*.*\"))))\n",
    "pl_hv_clip = clip.clip_shp(planned_hv, admin)\n",
    "pl_hv_proj=pl_hv_clip.to_crs({ 'init': crs})\n",
    "\n",
    "proj_settlements['pl_hv'] = proj_settlements.geometry.apply(lambda g: pl_hv_proj.distance(g).min())"
   ]
  },
  {
   "cell_type": "markdown",
   "metadata": {},
   "source": [
    "Select the existing medium voltage distribution lines (Optional)"
   ]
  },
  {
   "cell_type": "code",
   "execution_count": 16,
   "metadata": {},
   "outputs": [],
   "source": [
    "existing_mv=gpd.read_file(filedialog.askopenfilename(filetypes = ((\"shapefile\",\"*.shp\"),(\"all files\",\"*.*\"))))\n",
    "ex_mv_clip = clip.clip_shp(existing_mv, admin)\n",
    "ex_mv_proj=ex_mv_clip.to_crs({'init': crs})\n",
    "\n",
    "proj_settlements['ex_mv'] = proj_settlements.geometry.apply(lambda g: ex_mv_proj.distance(g).min())"
   ]
  },
  {
   "cell_type": "markdown",
   "metadata": {},
   "source": [
    "Select the planned medium voltage distribution lines (Optional)"
   ]
  },
  {
   "cell_type": "code",
   "execution_count": null,
   "metadata": {},
   "outputs": [],
   "source": [
    "planned_mv=gpd.read_file(filedialog.askopenfilename(filetypes = ((\"shapefile\",\"*.shp\"),(\"all files\",\"*.*\"))))\n",
    "pl_mv_clip = clip.clip_shp(planned_mv, admin)\n",
    "pl_mv_proj=pl_mv_clip.to_crs({ 'init': crs})\n",
    "\n",
    "proj_settlements['pl_mv'] = proj_settlements.geometry.apply(lambda g: pl_mv_proj.distance(g).min())"
   ]
  },
  {
   "cell_type": "markdown",
   "metadata": {},
   "source": [
    "Select the road network to be used (Optional)"
   ]
  },
  {
   "cell_type": "code",
   "execution_count": 17,
   "metadata": {},
   "outputs": [],
   "source": [
    "roads=gpd.read_file(filedialog.askopenfilename(filetypes = ((\"shapefile\",\"*.shp\"),(\"all files\",\"*.*\"))))\n",
    "roads_clip = clip.clip_shp(roads, admin)\n",
    "roads_proj=roads_clip.to_crs({ 'init': crs})\n",
    "\n",
    "proj_settlements['roads'] = proj_settlements.geometry.apply(lambda g: roads_proj.distance(g).min())"
   ]
  },
  {
   "cell_type": "markdown",
   "metadata": {},
   "source": [
    "Select the transformers to be used (Optional)"
   ]
  },
  {
   "cell_type": "code",
   "execution_count": null,
   "metadata": {},
   "outputs": [],
   "source": [
    "transformers=gpd.read_file(filedialog.askopenfilename(filetypes = ((\"shapefile\",\"*.shp\"),(\"all files\",\"*.*\"))))\n",
    "trans_clip = clip.clip_shp(transformers, admin)\n",
    "trans_proj=trans_clip.to_crs({ 'init': crs})\n",
    "\n",
    "proj_settlements['trans'] = proj_settlements.geometry.apply(lambda g: trans_proj.distance(g).min())"
   ]
  },
  {
   "cell_type": "markdown",
   "metadata": {},
   "source": [
    "Select the hydropower dataset to be used (Optional)\n",
    "\n",
    "If a hydropower dataset is selected please identify the column represeting the hydro potential as well as its unit"
   ]
  },
  {
   "cell_type": "code",
   "execution_count": 21,
   "metadata": {},
   "outputs": [
    {
     "data": {
      "application/vnd.jupyter.widget-view+json": {
       "model_id": "2d6cfa77d71241f6aaa0959deed08201",
       "version_major": 2,
       "version_minor": 0
      },
      "text/plain": [
       "Dropdown(description='Hydropower:', options=('OBJECTID_1', 'OBJECTID', 'river_ID', 'elev', 'head', 'discharge_…"
      ]
     },
     "metadata": {},
     "output_type": "display_data"
    },
    {
     "data": {
      "application/vnd.jupyter.widget-view+json": {
       "model_id": "329fdadf11b84214840b4bdd2369bb9c",
       "version_major": 2,
       "version_minor": 0
      },
      "text/plain": [
       "Dropdown(description='Unit:', options=('W', 'kW', 'MW'), value='W')"
      ]
     },
     "metadata": {},
     "output_type": "display_data"
    }
   ],
   "source": [
    "hydro=gpd.read_file(filedialog.askopenfilename(filetypes = ((\"shapefile\",\"*.shp\"),(\"all files\",\"*.*\"))))\n",
    "\n",
    "hydropower = widgets.Dropdown(options=hydro.head(),\n",
    "    value=None,\n",
    "    description='Hydropower:',\n",
    "    disabled=False)\n",
    "\n",
    "display(hydropower)\n",
    "\n",
    "hydrounit = widgets.Dropdown(options=['W', 'kW', 'MW'],\n",
    "    value='W',\n",
    "    description='Unit:',\n",
    "    disabled=False)\n",
    "\n",
    "display(hydrounit)"
   ]
  },
  {
   "cell_type": "code",
   "execution_count": 23,
   "metadata": {},
   "outputs": [],
   "source": [
    "hydro_clip = clip.clip_shp(hydro, admin)\n",
    "hydro_proj=hydro_clip.to_crs({ 'init': crs})\n",
    "pts3 = hydro_proj.geometry.unary_union\n",
    "\n",
    "x = hydropower.value\n",
    "hydro_proj['id'] = np.arange(len(hydro_proj))\n",
    "\n",
    "def near(point, point2=pts3):\n",
    "    nearest = hydro_proj.geometry == nearest_points(point, point2)[1]\n",
    "    return hydro_proj[nearest].get_values()[0]\n",
    "\n",
    "if hydrounit.value is 'MW':\n",
    "    proj_settlements['hydropower'] = proj_settlements.apply(lambda row: near(row.geometry)[hydro_proj.columns.get_loc(x)]*1000, axis=1)\n",
    "elif hydrounit.value is 'kW':\n",
    "    proj_settlements['hydropower'] = proj_settlements.apply(lambda row: near(row.geometry)[hydro_proj.columns.get_loc(x)], axis=1)\n",
    "else:\n",
    "    proj_settlements['hydropower'] = proj_settlements.apply(lambda row: near(row.geometry)[hydro_proj.columns.get_loc(x)]/1000, axis=1)\n",
    "    \n",
    "proj_settlements['hydrodist'] = proj_settlements.geometry.apply(lambda g: hydro_proj.distance(g).min())\n",
    "proj_settlements['hydropowerFID'] = proj_settlements.apply(lambda row: near(row.geometry)[hydro_proj.columns.get_loc('id')], axis=1)"
   ]
  },
  {
   "cell_type": "code",
   "execution_count": 38,
   "metadata": {},
   "outputs": [],
   "source": [
    "settlements = proj_settlements.to_crs({ 'init': 'epsg:4326'}) \n",
    "\n",
    "settlements.to_file(workspace + r\"\\output.shp\", driver='ESRI Shapefile')\n",
    "settlements = gpd.read_file(workspace + r\"\\output.shp\")"
   ]
  },
  {
   "cell_type": "code",
   "execution_count": 43,
   "metadata": {},
   "outputs": [],
   "source": [
    "settlements.rename(columns={\"NightLight\": \"NightLights\", popunit.value : \"Pop\", \"GridCellAr\":\"GridCellArea\"})\n",
    "\n",
    "if \"lc_majorit\" in proj_settlements:\n",
    "    settlements = settlements.rename(columns={\"lc_majorit\": \"LandCover\"})\n",
    "else:\n",
    "    raise Exception('The landcover map is column, this is a mandatory column rerun cell X')\n",
    "    \n",
    "if \"dem_mean\" in proj_settlements:\n",
    "    settlements = settlements.rename(columns={\"dem_mean\": \"Elevation\"})\n",
    "else:\n",
    "    raise Exception('The elevation column is missing, this is a mandatory column rerun cell X')    \n",
    "\n",
    "if \"sl_majorit\" in proj_settlements:\n",
    "    settlements = settlements.rename(columns={\"sl_majorit\": \"Slope\"})\n",
    "else:\n",
    "    raise Exception('The slope column is missing, this is a mandatory column rerun cell X')  \n",
    "\n",
    "if \"ghi_mean\" in proj_settlements:\n",
    "    settlements = settlements.rename(columns={\"ghi_mean\": \"GHI\"})\n",
    "else:\n",
    "    raise Exception('The solar column is missing, this is a mandatory column rerun cell X')  \n",
    "    \n",
    "if \"travel_mea\" in proj_settlements:\n",
    "    settlements = settlements.rename(columns={\"travel_mea\": \"TravelHours\"})\n",
    "else:\n",
    "    raise Exception('The traveltime column is missing, this is a mandatory column rerun cell X')\n",
    "    \n",
    "if \"wind_mean\" in proj_settlements:\n",
    "    settlements = settlements.rename(columns={\"wind_mean\": \"WindVel\"})\n",
    "else:\n",
    "    raise Exception('The wind speed column is missing, this is a mandatory column rerun cell X')\n",
    "\n",
    "if \"custom_mea\" in proj_settlements:\n",
    "    settlements = settlements.rename(columns={\"custom_mea\": \"ResidentialDemandTierCustom\"})\n",
    "else:\n",
    "    settlements[\"ResidentialDemandTierCustom\"] = 0\n",
    "\n",
    "if \"sub\" in proj_settlements:\n",
    "    settlements = settlements.rename(columns={\"sub\": \"SubstationDist\"})\n",
    "    settlements[\"SubstationDist\"] = settlements[\"SubstationDist\"]/1000\n",
    "else:\n",
    "    settlements[\"SubstationDist\"] = 99\n",
    "\n",
    "if \"ex_hv\" in proj_settlements:\n",
    "    settlements = settlements.rename(columns={\"ex_hv\": \"CurrentHVLineDist\"})\n",
    "    settlements[\"CurrentHVLineDist\"] = settlements[\"CurrentHVLineDist\"]/1000  \n",
    "else:\n",
    "    settlements[\"CurrentHVLineDist\"] = 0    \n",
    "\n",
    "if \"pl_hv\" in proj_settlements:\n",
    "    settlements = settlements.rename(columns={\"pl_hv\": \"PlannedHVLineDist\"})\n",
    "    settlements[\"PlannedHVLineDist\"] = settlements[\"PlannedHVLineDist\"]/1000\n",
    "elif 'ex_hv' not in proj_settlements:\n",
    "    settlements[\"PlannedHVLineDist\"] = 0\n",
    "else:\n",
    "    settlements[\"PlannedHVLineDist\"] = settlements[\"CurrentHVLineDist\"]  \n",
    "\n",
    "if \"ex_mv\" in proj_settlements:\n",
    "    settlements = settlements.rename(columns={\"ex_mv\": \"CurrentMVLineDist\"})\n",
    "    settlements[\"CurrentMVLineDist\"] = settlements[\"CurrentMVLineDist\"]/1000\n",
    "else:\n",
    "    settlements[\"CurrentMVLineDist\"] = 0\n",
    "\n",
    "if \"pl_mv\" in proj_settlements:\n",
    "    settlements = settlements.rename(columns={\"pl_mv\": \"PlannedMVLineDist\"})\n",
    "    settlements[\"PlannedMVLineDist\"] = settlements[\"PlannedMVLineDist\"]/1000\n",
    "elif 'ex_mv' not in proj_settlements:\n",
    "    settlements[\"PlannedMVLineDist\"] = 0\n",
    "else:\n",
    "    settlements[\"PlannedMVLineDist\"] = settlements[\"CurrentMVLineDist\"]    \n",
    "    \n",
    "if \"roads\" in proj_settlements:\n",
    "    settlements = settlements.rename(columns={\"roads\": \"RoadDist\"})\n",
    "    settlements[\"RoadDist\"] = settlements[\"RoadDist\"]/1000\n",
    "else:\n",
    "    settlements[\"RoadDist\"] = 99\n",
    "\n",
    "if \"trans\" in proj_settlements:\n",
    "    settlements = settlements.rename(columns={\"trans\": \"TransformerDist\"})\n",
    "    settlements[\"TransformerDist\"] = settlements[\"TransformerDist\"]/1000\n",
    "else:\n",
    "    settlements[\"TransformerDist\"] = 0\n",
    "\n",
    "if \"hydropow_1\" in proj_settlements:\n",
    "    settlements = settlements.rename(columns={\"hydropow_1\": \"HydropowerFID\"})\n",
    "else:\n",
    "    settlements[\"HydropowerFID\"] = 0\n",
    "\n",
    "if \"hydrodist\" in proj_settlements:\n",
    "    settlements = settlements.rename(columns={\"hydrodist\": \"HydropowerDist\"})\n",
    "    settlements[\"HydropowerDist\"] = settlements[\"HydropowerDist\"]/1000\n",
    "else:\n",
    "    settlements[\"HydropowerDist\"] = 99\n",
    "\n",
    "if \"hydropower\" in proj_settlements:\n",
    "    settlements = settlements.rename(columns={\"hydropower\": \"Hydropower\"})\n",
    "else:\n",
    "    settlements[\"Hydropower\"] = 0\n",
    "\n",
    "settlements[\"IsUrban\"] = 0\n",
    "settlements[\"PerCapitaDemand\"] = 0\n",
    "settlements[\"HealthDemand\"] = 0    \n",
    "settlements[\"EducationDemand\"] = 0\n",
    "settlements[\"AgriDemand\"] = 0\n",
    "settlements[\"CommercialDemand\"] = 0\n",
    "settlements[\"Conflict\"] = 0\n",
    "settlements[\"ElectrificationOrder\"] = 0\n",
    "settlements[\"ResidentialDemandTier1\"] = 7.74\n",
    "settlements[\"ResidentialDemandTier2\"] = 43.8\n",
    "settlements[\"ResidentialDemandTier3\"] = 160.6\n",
    "settlements[\"ResidentialDemandTier4\"] = 423.4\n",
    "settlements[\"ResidentialDemandTier5\"] = 598.6\n",
    "settlements[\"X_deg\"] = settlements.geometry.centroid.x\n",
    "settlements[\"Y_deg\"] = settlements.geometry.centroid.y\n"
   ]
  },
  {
   "cell_type": "code",
   "execution_count": 44,
   "metadata": {},
   "outputs": [
    {
     "ename": "RuntimeError",
     "evalue": "Failed to write record: {'id': '3005', 'type': 'Feature', 'properties': {'id': 3006, 'NightLight': 0.0, 'Country': 'Gambia', 'Pop': 4093.86531, 'GridCellAr': 1.313, 'ElecPop': 0.0, 'LandCover': 14.0, 'Elevation': 37.333333333333336, 'Slope': 0.056119997054338, 'GHI': 2099.0, 'TravelHours': 49.833333333333336, 'WindVel': 4.246530914306641, 'ResidentialDemandTierCustom': 240.510009765625, 'SubstationDist': 33.387986546763976, 'CurrentHVLineDist': 23.184115744688228, 'PlannedHVLineDist': 23.184115744688228, 'CurrentMVLineDist': 0, 'PlannedMVLineDist': 0, 'RoadDist': 99, 'TransformerDist': 0, 'HydropowerFID': 0, 'HydropowerDist': 99, 'Hydropower': 0, 'IsUrban': 0, 'PerCapitaDemand': 0, 'HealthDemand': 0, 'EducationDemand': 0, 'AgriDemand': 0, 'CommercialDemand': 0, 'Conflict': 0, 'ElectrificationOrder': 0, 'ResidentialDemandTier1': 7.74, 'ResidentialDemandTier2': 43.8, 'ResidentialDemandTier3': 160.6, 'ResidentialDemandTier4': 423.4, 'ResidentialDemandTier5': 598.6, 'X_deg': -16.38133420778878, 'Y_deg': 13.461937801677893}, 'geometry': {'type': 'Polygon', 'coordinates': (((-16.382877611388427, 13.454716352549003), (-16.383579156350585, 13.454716352549003), (-16.384091169110356, 13.45477967247018), (-16.38455276545264, 13.454836757461631), (-16.38455276545264, 13.455549993839968), (-16.386211252850185, 13.455549993839968), (-16.386211688983153, 13.4555500052605), (-16.386212123920714, 13.45555003949085), (-16.38621255647073, 13.455550096437129), (-16.38621298544761, 13.455550175943287), (-16.386213409675563, 13.455550277791415), (-16.386213827991803, 13.455550401702341), (-16.386214239249764, 13.455550547336403), (-16.386214642322212, 13.455550714294482), (-16.38621503610435, 13.455550902118944), (-16.38621541951685, 13.455551110294925), (-16.386215791508807, 13.455551338251894), (-16.386216151060623, 13.455551585365), (-16.38621649718678, 13.45555185095694), (-16.38621682893857, 13.455552134299746), (-16.3862171454067, 13.45555243461679), (-16.38621744572373, 13.455552751084907), (-16.386217729066534, 13.455553082836696), (-16.386217994658473, 13.455553428962874), (-16.386218241771584, 13.45555378851467), (-16.386218469728547, 13.45555416050662), (-16.38621867790455, 13.45555454391913), (-16.386218865729, 13.455554937701264), (-16.38621903268707, 13.455555340773708), (-16.386219178321156, 13.45555575203168), (-16.38621930223207, 13.455556170347913), (-16.386219404080187, 13.455556594575881), (-16.386219483586352, 13.455557023552762), (-16.386219540532643, 13.455557456102767), (-16.386219574762976, 13.455557891040325), (-16.38621958618352, 13.455558327173287), (-16.38621958618352, 13.456391968464251), (-16.386219574762976, 13.456392404597214), (-16.386219540532643, 13.456392839534772), (-16.386219483586352, 13.456393272084801), (-16.386219404080187, 13.456393701061682), (-16.38621930223207, 13.456394125289625), (-16.386219178321156, 13.456394543605871), (-16.38621903268707, 13.45639495486383), (-16.386218865729, 13.456395357936287), (-16.38621867790455, 13.456395751718421), (-16.386218469728547, 13.456396135130918), (-16.386218241771584, 13.45639650712288), (-16.386217994658473, 13.45639686667469), (-16.386217729066534, 13.456397212800843), (-16.38621744572373, 13.456397544552631), (-16.3862171454067, 13.456397861020774), (-16.38621682893857, 13.456398161337793), (-16.38621649718678, 13.456398444680598), (-16.386216151060623, 13.45639871027255), (-16.386215791508807, 13.456398957385643), (-16.38621541951685, 13.456399185342613), (-16.38621503610435, 13.45639939351862), (-16.386214642322212, 13.456399581343069), (-16.386214239249764, 13.456399748301136), (-16.386213827991803, 13.45639989393521), (-16.386213409675563, 13.456400017846134), (-16.38621298544761, 13.456400119694251), (-16.38621255647073, 13.456400199200422), (-16.386212123920714, 13.4564002561467), (-16.386211688983153, 13.456400290377038), (-16.386211252850185, 13.456400301797583), (-16.384544432119306, 13.456400301797583), (-16.384543995986338, 13.456400290377038), (-16.384543561048776, 13.4564002561467), (-16.384543128498763, 13.456400199200422), (-16.38454269952188, 13.456400119694251), (-16.38454227529393, 13.456400017846134), (-16.384541856977688, 13.45639989393521), (-16.384541445719726, 13.456399748301136), (-16.38454104264728, 13.456399581343069), (-16.384540648865144, 13.45639939351862), (-16.384540265452642, 13.456399185342613), (-16.384539893460683, 13.456398957385643), (-16.384539533908868, 13.45639871027255), (-16.38453918778271, 13.456398444680598), (-16.38453885603092, 13.456398161337793), (-16.384538539562797, 13.456397861020774), (-16.384538239245764, 13.456397544552631), (-16.384537955902964, 13.456397212800843), (-16.38453769031102, 13.45639686667469), (-16.384537443197907, 13.45639650712288), (-16.384537215240943, 13.456396135130918), (-16.38453700706494, 13.456395751718421), (-16.384536819240495, 13.456395357936287), (-16.38453665228242, 13.45639495486383), (-16.38453650664834, 13.456394543605871), (-16.384536382737423, 13.456394125289625), (-16.384536280889304, 13.456393701061682), (-16.38453620138314, 13.456393272084801), (-16.384536144436847, 13.456392839534772), (-16.38453611020652, 13.456392404597214), (-16.384536098785976, 13.456391968464251), (-16.384536098785976, 13.455566660506632), (-16.383719355087198, 13.455566660506632), (-16.383719355087198, 13.457217276421883), (-16.385377842484747, 13.457217276421883), (-16.385378278617715, 13.457217287842429), (-16.385378713555273, 13.457217322072754), (-16.38537914610529, 13.457217379019033), (-16.38537957508217, 13.457217458525204), (-16.385379999310118, 13.45721756037332), (-16.385380417626365, 13.457217684284243), (-16.385380828884323, 13.457217829918319), (-16.38538123195677, 13.457217996876397), (-16.385381625738905, 13.457218184700835), (-16.385382009151407, 13.457218392876841), (-16.38538238114337, 13.45721862083381), (-16.38538274069518, 13.457218867946944), (-16.38538308682134, 13.45721913353887), (-16.385383418573127, 13.457219416881662), (-16.385383735041252, 13.457219717198706), (-16.385384035358285, 13.457220033666836), (-16.38538431870109, 13.457220365418612), (-16.38538458429303, 13.45722071154479), (-16.385384831406142, 13.457221071096587), (-16.385385059363106, 13.45722144308855), (-16.385385267539114, 13.457221826501058), (-16.385385455363558, 13.457222220283192), (-16.38538562232163, 13.457222623355625), (-16.385385767955714, 13.457223034613596), (-16.385385891866626, 13.457223452929842), (-16.38538599371475, 13.457223877157785), (-16.385386073220914, 13.457224306134666), (-16.385386130167205, 13.457224738684696), (-16.385386164397534, 13.457225173622254), (-16.385386175818077, 13.457225609755202), (-16.385386175818077, 13.458892892337131), (-16.385386164397534, 13.458893328470095), (-16.385386130167205, 13.458893763407664), (-16.385386073220914, 13.458894195957669), (-16.38538599371475, 13.45889462493455), (-16.385385891866626, 13.458895049162505), (-16.385385767955714, 13.458895467478738), (-16.38538562232163, 13.458895878736698), (-16.385385455363558, 13.458896281809142), (-16.385385267539114, 13.458896675591289), (-16.385385059363106, 13.458897059003785), (-16.385384831406142, 13.458897430995748), (-16.38538458429303, 13.45889779054757), (-16.38538431870109, 13.458898136673723), (-16.385384035358285, 13.458898468425526), (-16.385383735041252, 13.458898784893629), (-16.385383418573127, 13.458899085210673), (-16.38538308682134, 13.458899368553466), (-16.38538274069518, 13.458899634145405), (-16.38538238114337, 13.458899881258525), (-16.385382009151407, 13.458900109215493), (-16.385381625738905, 13.458900317391487), (-16.38538123195677, 13.45890050521595), (-16.385380828884323, 13.458900672174003), (-16.385380417626365, 13.458900817808091), (-16.385379999310118, 13.458900941719016), (-16.38537957508217, 13.458901043567119), (-16.38537914610529, 13.458901123073302), (-16.385378713555273, 13.45890118001958), (-16.385378278617715, 13.458901214249906), (-16.385377842484747, 13.458901225670452), (-16.38455276545264, 13.458901225670452), (-16.38455276545264, 13.45971820029475), (-16.385377842484747, 13.45971820029475), (-16.385378278617715, 13.459718211715296), (-16.385378713555273, 13.459718245945622), (-16.38537914610529, 13.459718302891913), (-16.38537957508217, 13.459718382398096), (-16.385379999310118, 13.4597184842462), (-16.385380417626365, 13.459718608157125), (-16.385380828884323, 13.459718753791199), (-16.38538123195677, 13.459718920749264), (-16.385381625738905, 13.459719108573728), (-16.385382009151407, 13.459719316749721), (-16.38538238114337, 13.45971954470669), (-16.38538274069518, 13.459719791819797), (-16.38538308682134, 13.459720057411737), (-16.385383418573127, 13.459720340754542), (-16.385383735041252, 13.459720641071574), (-16.385384035358285, 13.459720957539716), (-16.38538431870109, 13.459721289291505), (-16.38538458429303, 13.459721635417646), (-16.385384831406142, 13.459721994969454), (-16.385385059363106, 13.459722366961417), (-16.385385267539114, 13.459722750373926), (-16.385385455363558, 13.45972314415606), (-16.38538562232163, 13.459723547228517), (-16.385385767955714, 13.459723958486464), (-16.385385891866626, 13.45972437680271), (-16.38538599371475, 13.459724801030665), (-16.385386073220914, 13.459725230007546), (-16.385386130167205, 13.45972566255755), (-16.385386164397534, 13.459726097495109), (-16.385386175818077, 13.459726533628084), (-16.385386175818077, 13.460551841585703), (-16.386202919516858, 13.460551841585703), (-16.386202919516858, 13.459726533628084), (-16.3862029309374, 13.459726097495109), (-16.386202965167726, 13.45972566255755), (-16.38620302211402, 13.459725230007546), (-16.386203101620186, 13.459724801030665), (-16.386203203468305, 13.45972437680271), (-16.38620332737922, 13.459723958486464), (-16.3862034730133, 13.459723547228517), (-16.386203639971377, 13.45972314415606), (-16.38620382779582, 13.459722750373926), (-16.386204035971822, 13.459722366961417), (-16.386204263928793, 13.459721994969454), (-16.386204511041903, 13.459721635417646), (-16.38620477663385, 13.459721289291505), (-16.386205059976643, 13.459720957539716), (-16.386205360293683, 13.459720641071574), (-16.3862056767618, 13.459720340754542), (-16.386206008513597, 13.459720057411737), (-16.386206354639754, 13.459719791819797), (-16.386206714191562, 13.45971954470669), (-16.38620708618352, 13.459719316749721), (-16.386207469596023, 13.459719108573728), (-16.386207863378164, 13.459718920749264), (-16.38620826645061, 13.459718753791199), (-16.386208677708566, 13.459718608157125), (-16.38620909602481, 13.4597184842462), (-16.386209520252766, 13.459718382398096), (-16.38620994922964, 13.459718302891913), (-16.386210381779662, 13.459718245945622), (-16.38621081671722, 13.459718211715296), (-16.386211252850185, 13.45971820029475), (-16.38704466321563, 13.45971820029475), (-16.387045099348594, 13.459718211715296), (-16.387045534286155, 13.459718245945622), (-16.387045966836173, 13.459718302891913), (-16.387046395813048, 13.459718382398096), (-16.387046820041, 13.4597184842462), (-16.387047238357244, 13.459718608157125), (-16.38704764961521, 13.459718753791199), (-16.38704805268765, 13.459718920749264), (-16.38704844646979, 13.459719108573728), (-16.387048829882293, 13.459719316749721), (-16.38704920187425, 13.45971954470669), (-16.387049561426064, 13.459719791819797), (-16.38704990755222, 13.459720057411737), (-16.38705023930401, 13.459720340754542), (-16.387050555772138, 13.459720641071574), (-16.38705085608917, 13.459720957539716), (-16.38705113943197, 13.459721289291505), (-16.387051405023914, 13.459721635417646), (-16.387051652137025, 13.459721994969454), (-16.387051880093992, 13.459722366961417), (-16.387052088269993, 13.459722750373926), (-16.387052276094437, 13.45972314415606), (-16.387052443052514, 13.459723547228517), (-16.387052588686597, 13.459723958486464), (-16.387052712597512, 13.45972437680271), (-16.387052814445628, 13.459724801030665), (-16.387052893951797, 13.459725230007546), (-16.387052950898088, 13.45972566255755), (-16.387052985128413, 13.459726097495109), (-16.38705299654896, 13.459726533628084), (-16.38705299654896, 13.460551841585703), (-16.387878073581067, 13.460551841585703), (-16.387878509714035, 13.46055185300626), (-16.38787894465159, 13.460551887236585), (-16.387879377201607, 13.460551944182866), (-16.38787980617849, 13.460552023689035), (-16.38788023040644, 13.460552125537165), (-16.387880648722685, 13.460552249448076), (-16.387881059980646, 13.460552395082152), (-16.387881463053088, 13.460552562040242), (-16.38788185683523, 13.460552749864693), (-16.38788224024773, 13.460552958040672), (-16.38788261223969, 13.460553185997643), (-16.387882971791505, 13.460553433110762), (-16.38788331791766, 13.460553698702714), (-16.38788364966945, 13.460553982045493), (-16.387883966137576, 13.460554282362537), (-16.38788426645461, 13.460554598830667), (-16.38788454979741, 13.460554930582443), (-16.387884815389352, 13.460555276708622), (-16.387885062502463, 13.46055563626043), (-16.38788529045943, 13.460556008252382), (-16.387885498635434, 13.460556391664877), (-16.387885686459878, 13.460556785447023), (-16.387885853417952, 13.460557188519457), (-16.387885999052035, 13.460557599777415), (-16.38788612296295, 13.460558018093675), (-16.38788622481107, 13.460558442321618), (-16.387886304317234, 13.46055887129851), (-16.387886361263526, 13.460559303848514), (-16.38788639549385, 13.460559738786072), (-16.387886406914394, 13.460560174919035), (-16.387886406914394, 13.462227457500964), (-16.38788639549385, 13.462227893633926), (-16.387886361263526, 13.462228328571484), (-16.387886304317234, 13.462228761121501), (-16.38788622481107, 13.462229190098382), (-16.38788612296295, 13.462229614326336), (-16.387885999052035, 13.462230032642584), (-16.387885853417952, 13.462230443900555), (-16.387885686459878, 13.462230846972988), (-16.387885498635434, 13.462231240755122), (-16.38788529045943, 13.462231624167618), (-16.387885062502463, 13.46223199615958), (-16.387884815389352, 13.462232355711402), (-16.38788454979741, 13.462232701837543), (-16.38788426645461, 13.462233033589357), (-16.387883966137576, 13.462233350057474), (-16.38788364966945, 13.462233650374506), (-16.38788331791766, 13.462233933717298), (-16.387882971791505, 13.462234199309249), (-16.38788261223969, 13.462234446422356), (-16.38788224024773, 13.462234674379326), (-16.38788185683523, 13.462234882555318), (-16.387881463053088, 13.46223507037977), (-16.387881059980646, 13.462235237337849), (-16.387880648722685, 13.462235382971922), (-16.38788023040644, 13.46223550688286), (-16.38787980617849, 13.462235608730976), (-16.387879377201607, 13.462235688237147), (-16.38787894465159, 13.462235745183426), (-16.387878509714035, 13.462235779413739), (-16.387878073581067, 13.462235790834283), (-16.38705299654896, 13.462235790834283), (-16.38705299654896, 13.464728381373844), (-16.387052985128413, 13.464728817506794), (-16.387052950898088, 13.464729252444364), (-16.387052893951797, 13.464729684994381), (-16.387052814445628, 13.464730113971262), (-16.387052712597512, 13.464730538199206), (-16.387052588686597, 13.464730956515464), (-16.387052443052514, 13.464731367773423), (-16.387052276094437, 13.464731770845855), (-16.387052088269993, 13.464732164628002), (-16.387051880093992, 13.464732548040498), (-16.387051652137025, 13.464732920032473), (-16.387051405023914, 13.46473327958427), (-16.38705113943197, 13.464733625710423), (-16.38705085608917, 13.464733957462212), (-16.387050555772138, 13.464734273930342), (-16.38705023930401, 13.464734574247373), (-16.38704990755222, 13.464734857590178), (-16.387049561426064, 13.46473512318213), (-16.38704920187425, 13.464735370295237), (-16.387048829882293, 13.464735598252194), (-16.38704844646979, 13.464735806428212), (-16.38704805268765, 13.464735994252637), (-16.38704764961521, 13.464736161210716), (-16.387047238357244, 13.464736306844816), (-16.387046820041, 13.464736430755728), (-16.387046395813048, 13.464736532603832), (-16.387045966836173, 13.464736612110002), (-16.387045534286155, 13.464736669056293), (-16.387045099348594, 13.464736703286619), (-16.38704466321563, 13.464736714707163), (-16.38621958618352, 13.464736714707163), (-16.38621958618352, 13.465562022664797), (-16.386219574762976, 13.46556245879776), (-16.386219540532643, 13.465562893735317), (-16.386219483586352, 13.465563326285332), (-16.386219404080187, 13.465563755262226), (-16.38621930223207, 13.465564179490181), (-16.386219178321156, 13.465564597806415), (-16.38621903268707, 13.465565009064386), (-16.386218865729, 13.46556541213682), (-16.38621867790455, 13.465565805918967), (-16.386218469728547, 13.465566189331449), (-16.386218241771584, 13.465566561323413), (-16.386217994658473, 13.465566920875235), (-16.386217729066534, 13.465567267001388), (-16.38621744572373, 13.46556759875319), (-16.3862171454067, 13.465567915221307), (-16.38621682893857, 13.465568215538337), (-16.38621649718678, 13.46556849888113), (-16.386216151060623, 13.465568764473069), (-16.386215791508807, 13.465569011586188), (-16.38621541951685, 13.465569239543157), (-16.38621503610435, 13.465569447719163), (-16.386214642322212, 13.465569635543615), (-16.386214239249764, 13.46556980250168), (-16.386213827991803, 13.465569948135768), (-16.386213409675563, 13.46557007204668), (-16.38621298544761, 13.465570173894795), (-16.38621255647073, 13.465570253400966), (-16.386212123920714, 13.465570310347246), (-16.386211688983153, 13.465570344577571), (-16.386211252850185, 13.465570355998116), (-16.385386175818077, 13.465570355998116), (-16.385386175818077, 13.466395663955748), (-16.385386164397534, 13.466396100088723), (-16.385386130167205, 13.46639653502628), (-16.385386073220914, 13.466396967576285), (-16.38538599371475, 13.466397396553164), (-16.385385891866626, 13.46639782078112), (-16.385385767955714, 13.466398239097368), (-16.38538562232163, 13.466398650355327), (-16.385385455363558, 13.466399053427784), (-16.385385267539114, 13.466399447209918), (-16.385385059363106, 13.466399830622414), (-16.385384831406142, 13.466400202614377), (-16.38538458429303, 13.466400562166186), (-16.38538431870109, 13.466400908292352), (-16.385384035358285, 13.466401240044128), (-16.385383735041252, 13.466401556512258), (-16.385383418573127, 13.46640185682929), (-16.38538308682134, 13.466402140172095), (-16.38538274069518, 13.466402405764033), (-16.38538238114337, 13.46640265287714), (-16.385382009151407, 13.46640288083411), (-16.385381625738905, 13.466403089010116), (-16.38538123195677, 13.466403276834578), (-16.385380828884323, 13.466403443792633), (-16.385380417626365, 13.466403589426731), (-16.385379999310118, 13.46640371333763), (-16.38537957508217, 13.466403815185748), (-16.38537914610529, 13.466403894691917), (-16.385378713555273, 13.46640395163821), (-16.385378278617715, 13.466403985868535), (-16.385377842484747, 13.46640399728908), (-16.383719355087198, 13.46640399728908), (-16.383719355087198, 13.467229305246725), (-16.383719343666655, 13.467229741379688), (-16.383719309436326, 13.467230176317246), (-16.383719252490035, 13.467230608867249), (-16.38371917298387, 13.467231037844142), (-16.38371907113575, 13.467231462072085), (-16.383718947224832, 13.467231880388319), (-16.383718801590753, 13.467232291646303), (-16.383718634632682, 13.467232694718735), (-16.383718446808235, 13.46723308850087), (-16.38371823863223, 13.46723347191339), (-16.383718010675263, 13.467233843905328), (-16.383717763562153, 13.467234203457137), (-16.38371749797021, 13.46723454958329), (-16.38371721462741, 13.467234881335093), (-16.383716914310376, 13.467235197803209), (-16.383716597842252, 13.467235498120266), (-16.38371626609046, 13.467235781463058), (-16.3837159199643, 13.467236047054998), (-16.38371556041249, 13.467236294168105), (-16.38371518842053, 13.467236522125074), (-16.383714805008026, 13.467236730301067), (-16.383714411225892, 13.467236918125518), (-16.383714008153447, 13.467237085083596), (-16.383713596895486, 13.467237230717684), (-16.38371317857924, 13.467237354628596), (-16.383712754351286, 13.467237456476711), (-16.383712325374407, 13.46723753598287), (-16.38371189282439, 13.467237592929173), (-16.383711457886836, 13.4672376271595), (-16.383711021753868, 13.467237638580032), (-16.381219123990874, 13.467237638580032), (-16.381219123990874, 13.468054613204345), (-16.382877611388427, 13.468054613204345), (-16.38287804752139, 13.468054624624877), (-16.382878482458953, 13.468054658855214), (-16.38287891500897, 13.468054715801507), (-16.382879343985845, 13.468054795307664), (-16.3828797682138, 13.46805489715578), (-16.38288018653004, 13.468055021066705), (-16.382880597788006, 13.468055166700779), (-16.38288100086045, 13.46805533365887), (-16.382881394642588, 13.468055521483308), (-16.38288177805509, 13.468055729659302), (-16.38288215004705, 13.46805595761627), (-16.38288250959886, 13.468056204729391), (-16.38288285572502, 13.46805647032133), (-16.38288318747681, 13.468056753664122), (-16.382883503944935, 13.468057053981166), (-16.38288380426197, 13.468057370449284), (-16.38288408760477, 13.468057702201085), (-16.38288435319671, 13.468058048327226), (-16.382884600309822, 13.468058407879047), (-16.38288482826679, 13.468058779870997), (-16.38288503644279, 13.468059163283506), (-16.382885224267234, 13.468059557065652), (-16.38288539122531, 13.468059960138085), (-16.382885536859394, 13.468060371396044), (-16.38288566077031, 13.468060789712304), (-16.382885762618425, 13.468061213940246), (-16.382885842124594, 13.468061642917126), (-16.382885899070885, 13.468062075467143), (-16.382885933301218, 13.468062510404714), (-16.382885944721757, 13.468062946537676), (-16.382885944721757, 13.468896587828628), (-16.382885933301218, 13.468897023961604), (-16.382885899070885, 13.468897458899148), (-16.382885842124594, 13.468897891449165), (-16.382885762618425, 13.468898320426046), (-16.38288566077031, 13.468898744654002), (-16.382885536859394, 13.46889916297026), (-16.38288539122531, 13.468899574228207), (-16.382885224267234, 13.468899977300664), (-16.38288503644279, 13.468900371082785), (-16.38288482826679, 13.468900754495282), (-16.382884600309822, 13.468901126487244), (-16.38288435319671, 13.468901486039066), (-16.38288408760477, 13.46890183216522), (-16.38288380426197, 13.468902163917008), (-16.382883503944935, 13.468902480385125), (-16.38288318747681, 13.46890278070217), (-16.38288285572502, 13.468903064044962), (-16.38288250959886, 13.4689033296369), (-16.38288215004705, 13.468903576750034), (-16.38288177805509, 13.46890380470699), (-16.382881394642588, 13.468904012882996), (-16.38288100086045, 13.468904200707433), (-16.382880597788006, 13.468904367665512), (-16.38288018653004, 13.468904513299586), (-16.3828797682138, 13.468904637210512), (-16.382879343985845, 13.46890473905864), (-16.38287891500897, 13.468904818564798), (-16.382878482458953, 13.468904875511077), (-16.38287804752139, 13.468904909741415), (-16.382877611388427, 13.468904921161961), (-16.38121079065754, 13.468904921161961), (-16.381210354524573, 13.468904909741415), (-16.381209919587018, 13.468904875511077), (-16.381209487037, 13.468904818564798), (-16.38120905806012, 13.46890473905864), (-16.38120863383217, 13.468904637210512), (-16.381208215515922, 13.468904513299586), (-16.381207804257965, 13.468904367665512), (-16.38120740118552, 13.468904200707433), (-16.381207007403383, 13.468904012882996), (-16.38120662399088, 13.46890380470699), (-16.38120625199892, 13.468903576750034), (-16.38120589244711, 13.4689033296369), (-16.381205546320952, 13.468903064044962), (-16.381205214569157, 13.46890278070217), (-16.381204898101036, 13.468902480385125), (-16.381204597784002, 13.468902163917008), (-16.381204314441202, 13.46890183216522), (-16.38120404884926, 13.468901486039066), (-16.38120380173615, 13.468901126487244), (-16.38120357377918, 13.468900754495282), (-16.381203365603174, 13.468900371082785), (-16.38120317777873, 13.468899977300664), (-16.38120301082066, 13.468899574228207), (-16.381202865186577, 13.46889916297026), (-16.38120274127566, 13.468898744654002), (-16.38120263942754, 13.468898320426046), (-16.381202559921377, 13.468897891449165), (-16.381202502975082, 13.468897458899148), (-16.381202468744757, 13.468897023961604), (-16.381202457324214, 13.468896587828628), (-16.381202457324214, 13.468071279870996), (-16.379543969926665, 13.468071279870996), (-16.379543533793697, 13.468071268450451), (-16.37954309885614, 13.468071234220126), (-16.379542666306122, 13.468071177273833), (-16.379542237329243, 13.468071097767677), (-16.37954181310129, 13.468070995919547), (-16.379541394785047, 13.468070872008647), (-16.379540983527086, 13.468070726374547), (-16.379540580454638, 13.46807055941647), (-16.379540186672504, 13.468070371592045), (-16.379539803260002, 13.468070163416039), (-16.379539431268043, 13.468069935459068), (-16.37953907171623, 13.468069688345949), (-16.379538725590074, 13.468069422754011), (-16.37953839383828, 13.468069139411204), (-16.379538077370157, 13.468068839094174), (-16.379537777053123, 13.468068522626044), (-16.379537493710323, 13.468068190874256), (-16.379537228118377, 13.468067844748102), (-16.37953698100527, 13.468067485196293), (-16.379536753048303, 13.468067113204329), (-16.379536544872295, 13.468066729791822), (-16.379536357047854, 13.468066336009688), (-16.37953619008978, 13.468065932937256), (-16.379536044455698, 13.468065521679296), (-16.37953592054478, 13.468065103363049), (-16.379535818696663, 13.468064679135093), (-16.379535739190498, 13.468064250158214), (-16.379535682244207, 13.468063817608197), (-16.379535648013874, 13.468063382670627), (-16.37953563659333, 13.468062946537676), (-16.37953563659333, 13.467237638580032), (-16.378710559561224, 13.467237638580032), (-16.378710123428256, 13.4672376271595), (-16.378709688490698, 13.467237592929173), (-16.37870925594068, 13.46723753598287), (-16.378708826963802, 13.467237456476711), (-16.378708402735846, 13.467237354628596), (-16.378707984419606, 13.467237230717684), (-16.37870757316164, 13.467237085083596), (-16.3787071700892, 13.467236918125518), (-16.378706776307062, 13.467236730301067), (-16.37870639289456, 13.467236522125074), (-16.3787060209026, 13.467236294168105), (-16.37870566135079, 13.467236047054998), (-16.378705315224632, 13.467235781463058), (-16.37870498347284, 13.467235498120266), (-16.378704667004715, 13.467235197803209), (-16.37870436668768, 13.467234881335093), (-16.378704083344882, 13.46723454958329), (-16.378703817752935, 13.467234203457137), (-16.37870357063983, 13.467233843905328), (-16.378703342682865, 13.46723347191339), (-16.378703134506857, 13.46723308850087), (-16.378702946682413, 13.467232694718735), (-16.378702779724335, 13.467232291646303), (-16.378702634090256, 13.467231880388319), (-16.378702510179338, 13.467231462072085), (-16.378702408331222, 13.467231037844142), (-16.378702328825057, 13.467230608867249), (-16.378702271878765, 13.467230176317246), (-16.378702237648433, 13.467229741379688), (-16.378702226227894, 13.467229305246725), (-16.378702226227894, 13.46640399728908), (-16.376210328464904, 13.46640399728908), (-16.376209892331936, 13.466403985868535), (-16.376209457394374, 13.46640395163821), (-16.376209024844357, 13.466403894691917), (-16.37620859586748, 13.466403815185748), (-16.37620817163953, 13.46640371333763), (-16.376207753323285, 13.466403589426731), (-16.376207342065324, 13.466403443792633), (-16.37620693899288, 13.466403276834578), (-16.376206545210742, 13.466403089010116), (-16.37620616179824, 13.46640288083411), (-16.37620578980628, 13.46640265287714), (-16.376205430254466, 13.466402405764033), (-16.376205084128312, 13.466402140172095), (-16.376204752376523, 13.46640185682929), (-16.376204435908395, 13.466401556512258), (-16.37620413559136, 13.466401240044128), (-16.376203852248562, 13.466400908292352), (-16.37620358665662, 13.466400562166186), (-16.37620333954351, 13.466400202614377), (-16.37620311158654, 13.466399830622414), (-16.376202903410537, 13.466399447209918), (-16.376202715586093, 13.466399053427784), (-16.37620254862802, 13.466398650355327), (-16.376202402993936, 13.466398239097368), (-16.37620227908302, 13.46639782078112), (-16.3762021772349, 13.466397396553164), (-16.376202097728733, 13.466396967576285), (-16.376202040782445, 13.46639653502628), (-16.376202006552116, 13.466396100088723), (-16.37620199513157, 13.466395663955748), (-16.37620199513157, 13.465570355998116), (-16.375376918099462, 13.465570355998116), (-16.375376481966494, 13.465570344577571), (-16.375376047028936, 13.465570310347246), (-16.37537561447892, 13.465570253400966), (-16.37537518550204, 13.465570173894795), (-16.375374761274088, 13.46557007204668), (-16.375374342957844, 13.465569948135768), (-16.375373931699883, 13.46556980250168), (-16.375373528627435, 13.465569635543615), (-16.3753731348453, 13.465569447719163), (-16.3753727514328, 13.465569239543157), (-16.37537237944084, 13.465569011586188), (-16.375372019889028, 13.465568764473069), (-16.37537167376287, 13.46556849888113), (-16.37537134201108, 13.465568215538337), (-16.375371025542954, 13.465567915221307), (-16.37537072522592, 13.46556759875319), (-16.37537044188312, 13.465567267001388), (-16.375370176291174, 13.465566920875235), (-16.375369929178067, 13.465566561323413), (-16.3753697012211, 13.465566189331449), (-16.3753694930451, 13.465565805918967), (-16.37536930522065, 13.46556541213682), (-16.375369138262577, 13.465565009064386), (-16.375368992628495, 13.465564597806415), (-16.375368868717576, 13.465564179490181), (-16.37536876686946, 13.465563755262226), (-16.375368687363295, 13.465563326285332), (-16.375368630417004, 13.465562893735317), (-16.37536859618667, 13.46556245879776), (-16.37536858476613, 13.465562022664797), (-16.37536858476613, 13.46389474008288), (-16.37536859618667, 13.463894303949905), (-16.375368630417004, 13.463893869012347), (-16.375368687363295, 13.46389343646233), (-16.37536876686946, 13.46389300748545), (-16.375368868717576, 13.463892583257493), (-16.375368992628495, 13.463892164941273), (-16.375369138262577, 13.463891753683288), (-16.37536930522065, 13.463891350610856), (-16.3753694930451, 13.463890956828722), (-16.3753697012211, 13.463890573416226), (-16.375369929178067, 13.46389020142425), (-16.375370176291174, 13.463889841872442), (-16.37537044188312, 13.463889495746301), (-16.37537072522592, 13.4638891639945), (-16.375371025542954, 13.46388884752637), (-16.37537134201108, 13.463888547209326), (-16.37537167376287, 13.463888263866545), (-16.375372019889028, 13.463887998274595), (-16.37537237944084, 13.463887751161474), (-16.3753727514328, 13.463887523204505), (-16.3753731348453, 13.463887315028524), (-16.375373528627435, 13.463887127204062), (-16.375373931699883, 13.463886960245995), (-16.375374342957844, 13.463886814611909), (-16.375374761274088, 13.463886690700997), (-16.37537518550204, 13.463886588852867), (-16.37537561447892, 13.463886509346723), (-16.375376047028936, 13.463886452400418), (-16.375376481966494, 13.463886418170093), (-16.375376918099462, 13.463886406749548), (-16.37620199513157, 13.463886406749548), (-16.37620199513157, 13.462235790834283), (-16.375376918099462, 13.462235790834283), (-16.375376481966494, 13.462235779413739), (-16.375376047028936, 13.462235745183426), (-16.37537561447892, 13.462235688237147), (-16.37537518550204, 13.462235608730976), (-16.375374761274088, 13.46223550688286), (-16.375374342957844, 13.462235382971922), (-16.375373931699883, 13.462235237337849), (-16.375373528627435, 13.46223507037977), (-16.3753731348453, 13.462234882555318), (-16.3753727514328, 13.462234674379326), (-16.37537237944084, 13.462234446422356), (-16.375372019889028, 13.462234199309249), (-16.37537167376287, 13.462233933717298), (-16.37537134201108, 13.462233650374506), (-16.375371025542954, 13.462233350057474), (-16.37537072522592, 13.462233033589357), (-16.37537044188312, 13.462232701837543), (-16.375370176291174, 13.462232355711402), (-16.375369929178067, 13.46223199615958), (-16.3753697012211, 13.462231624167618), (-16.3753694930451, 13.462231240755122), (-16.37536930522065, 13.462230846972988), (-16.375369138262577, 13.462230443900555), (-16.375368992628495, 13.462230032642584), (-16.375368868717576, 13.462229614326336), (-16.37536876686946, 13.462229190098382), (-16.375368687363295, 13.462228761121501), (-16.375368630417004, 13.462228328571484), (-16.37536859618667, 13.462227893633926), (-16.37536858476613, 13.462227457500964), (-16.37536858476613, 13.459726533628084), (-16.37536859618667, 13.459726097495109), (-16.375368630417004, 13.45972566255755), (-16.375368687363295, 13.459725230007546), (-16.37536876686946, 13.459724801030665), (-16.375368868717576, 13.45972437680271), (-16.375368992628495, 13.459723958486464), (-16.375369138262577, 13.459723547228517), (-16.37536930522065, 13.45972314415606), (-16.3753694930451, 13.459722750373926), (-16.3753697012211, 13.459722366961417), (-16.375369929178067, 13.459721994969454), (-16.375370176291174, 13.459721635417646), (-16.37537044188312, 13.459721289291505), (-16.37537072522592, 13.459720957539716), (-16.375371025542954, 13.459720641071574), (-16.37537134201108, 13.459720340754542), (-16.37537167376287, 13.459720057411737), (-16.375372019889028, 13.459719791819797), (-16.37537237944084, 13.45971954470669), (-16.3753727514328, 13.459719316749721), (-16.3753731348453, 13.459719108573728), (-16.375373528627435, 13.459718920749264), (-16.375373931699883, 13.459718753791199), (-16.375374342957844, 13.459718608157125), (-16.375374761274088, 13.4597184842462), (-16.37537518550204, 13.459718382398096), (-16.37537561447892, 13.459718302891913), (-16.375376047028936, 13.459718245945622), (-16.375376481966494, 13.459718211715296), (-16.375376918099462, 13.45971820029475), (-16.37620199513157, 13.45971820029475), (-16.37620199513157, 13.458892892337131), (-16.376202006552116, 13.458892456204156), (-16.376202040782445, 13.458892021266598), (-16.376202097728733, 13.458891588716595), (-16.3762021772349, 13.458891159739702), (-16.37620227908302, 13.458890735511746), (-16.376202402993936, 13.458890317195525), (-16.37620254862802, 13.458889905937541), (-16.376202715586093, 13.458889502865095), (-16.376202903410537, 13.45888910908296), (-16.37620311158654, 13.458888725670453), (-16.37620333954351, 13.458888353678502), (-16.37620358665662, 13.458887994126693), (-16.376203852248562, 13.458887648000553), (-16.37620413559136, 13.458887316248738), (-16.376204435908395, 13.458886999780622), (-16.376204752376523, 13.458886699463578), (-16.376205084128312, 13.458886416120786), (-16.376205430254466, 13.458886150528834), (-16.37620578980628, 13.458885903415727), (-16.37620616179824, 13.45888567545877), (-16.376206545210742, 13.458885467282776), (-16.37620693899288, 13.458885279458325), (-16.376207342065324, 13.458885112500235), (-16.376207753323285, 13.458884966866172), (-16.37620817163953, 13.458884842955236), (-16.37620859586748, 13.45888474110712), (-16.376209024844357, 13.45888466160095), (-16.376209457394374, 13.458884604654669), (-16.376209892331936, 13.458884570424331), (-16.376210328464904, 13.458884559003799), (-16.377035405497015, 13.458884559003799), (-16.377035405497015, 13.458059251046167), (-16.377035416917558, 13.458058814913192), (-16.377035451147886, 13.458058379975647), (-16.377035508094178, 13.458057947425617), (-16.377035587600343, 13.458057518448749), (-16.377035689448462, 13.458057094220807), (-16.377035813359374, 13.458056675904547), (-16.37703595899346, 13.458056264646588), (-16.377036125951534, 13.458055861574143), (-16.377036313775978, 13.458055467791997), (-16.377036521951982, 13.4580550843795), (-16.377036749908946, 13.45805471238755), (-16.37703699702206, 13.458054352835742), (-16.377037262614007, 13.458054006709576), (-16.377037545956803, 13.458053674957787), (-16.37703784627384, 13.45805335848967), (-16.37703816274196, 13.458053058172625), (-16.37703849449375, 13.45805277482982), (-16.377038840619907, 13.458052509237882), (-16.377039200171723, 13.458052262124761), (-16.37703957216368, 13.458052034167817), (-16.377039955576183, 13.458051825991813), (-16.37704034935832, 13.458051638167362), (-16.377040752430766, 13.458051471209282), (-16.377041163688727, 13.458051325575196), (-16.37704158200497, 13.458051201664285), (-16.377042006232923, 13.458051099816167), (-16.377042435209802, 13.458051020309997), (-16.377042867759815, 13.458050963363705), (-16.377043302697377, 13.45805092913338), (-16.377043738830345, 13.458050917712836), (-16.377868815862453, 13.458050917712836), (-16.377868815862453, 13.455558327173287), (-16.377868827282995, 13.455557891040325), (-16.37786886151332, 13.455557456102767), (-16.377868918459612, 13.455557023552762), (-16.37786899796578, 13.455556594575881), (-16.3778690998139, 13.455556170347913), (-16.377869223724815, 13.45555575203168), (-16.377869369358894, 13.455555340773708), (-16.37786953631697, 13.455554937701264), (-16.377869724141416, 13.45555454391913), (-16.377869932317417, 13.45555416050662), (-16.377870160274387, 13.45555378851467), (-16.377870407387498, 13.455553428962874), (-16.377870672979437, 13.455553082836696), (-16.377870956322237, 13.455552751084907), (-16.37787125663927, 13.45555243461679), (-16.377871573107395, 13.455552134299746), (-16.37787190485919, 13.45555185095694), (-16.377872250985348, 13.455551585365), (-16.37787261053716, 13.455551338251894), (-16.37787298252912, 13.455551110294925), (-16.37787336594162, 13.455550902118944), (-16.37787375972376, 13.455550714294482), (-16.3778741627962, 13.455550547336403), (-16.377874574054164, 13.455550401702341), (-16.37787499237041, 13.455550277791415), (-16.37787541659836, 13.455550175943287), (-16.37787584557524, 13.455550096437129), (-16.377876278125257, 13.45555003949085), (-16.377876713062815, 13.4555500052605), (-16.37787714919578, 13.455549993839968), (-16.379543969926665, 13.455549993839968), (-16.379544406059633, 13.4555500052605), (-16.379544840997188, 13.45555003949085), (-16.379545273547205, 13.455550096437129), (-16.379545702524084, 13.455550175943287), (-16.37954612675204, 13.455550277791415), (-16.379546545068283, 13.455550401702341), (-16.379546956326244, 13.455550547336403), (-16.37954735939869, 13.455550714294482), (-16.379547753180827, 13.455550902118944), (-16.37954813659333, 13.455551110294925), (-16.379548508585287, 13.455551338251894), (-16.379548868137096, 13.455551585365), (-16.379549214263253, 13.45555185095694), (-16.37954954601505, 13.455552134299746), (-16.379549862483174, 13.45555243461679), (-16.379550162800207, 13.455552751084907), (-16.379550446143007, 13.455553082836696), (-16.37955071173495, 13.455553428962874), (-16.379550958848057, 13.45555378851467), (-16.379551186805028, 13.45555416050662), (-16.379551394981032, 13.45555454391913), (-16.379551582805476, 13.455554937701264), (-16.37955174976355, 13.455555340773708), (-16.37955189539763, 13.45555575203168), (-16.379552019308548, 13.455556170347913), (-16.379552121156667, 13.455556594575881), (-16.379552200662832, 13.455557023552762), (-16.379552257609124, 13.455557456102767), (-16.379552291839452, 13.455557891040325), (-16.379552303259995, 13.455558327173287), (-16.379552303259995, 13.457225609755202), (-16.379552291839452, 13.457226045888179), (-16.379552257609124, 13.457226480825737), (-16.379552200662832, 13.457226913375752), (-16.379552121156667, 13.457227342352645), (-16.379552019308548, 13.457227766580589), (-16.37955189539763, 13.457228184896822), (-16.37955174976355, 13.457228596154781), (-16.379551582805476, 13.45722899922724), (-16.379551394981032, 13.457229393009374), (-16.379551186805028, 13.457229776421869), (-16.379550958848057, 13.457230148413833), (-16.37955071173495, 13.457230507965642), (-16.379550446143007, 13.457230854091794), (-16.379550162800207, 13.457231185843597), (-16.379549862483174, 13.457231502311712), (-16.37954954601505, 13.457231802628744), (-16.379549214263253, 13.457232085971562), (-16.379548868137096, 13.457232351563489), (-16.379548508585287, 13.457232598676608), (-16.37954813659333, 13.457232826633565), (-16.379547753180827, 13.45723303480957), (-16.37954735939869, 13.457233222634034), (-16.379546956326244, 13.4572333895921), (-16.379546545068283, 13.457233535226175), (-16.37954612675204, 13.457233659137087), (-16.379545702524084, 13.457233760985215), (-16.379545273547205, 13.457233840491373), (-16.379544840997188, 13.457233897437664), (-16.379544406059633, 13.457233931667991), (-16.379543969926665, 13.457233943088536), (-16.378718892894554, 13.457233943088536), (-16.378718892894554, 13.458050917712836), (-16.379543969926665, 13.458050917712836), (-16.379544406059633, 13.45805092913338), (-16.379544840997188, 13.458050963363705), (-16.379545273547205, 13.458051020309997), (-16.379545702524084, 13.458051099816167), (-16.37954612675204, 13.458051201664285), (-16.379546545068283, 13.458051325575196), (-16.379546956326244, 13.458051471209282), (-16.37954735939869, 13.458051638167362), (-16.379547753180827, 13.458051825991813), (-16.37954813659333, 13.458052034167817), (-16.379548508585287, 13.458052262124761), (-16.379548868137096, 13.458052509237882), (-16.379549214263253, 13.45805277482982), (-16.37954954601505, 13.458053058172625), (-16.379549862483174, 13.45805335848967), (-16.379550162800207, 13.458053674957787), (-16.379550446143007, 13.458054006709576), (-16.37955071173495, 13.458054352835742), (-16.379550958848057, 13.45805471238755), (-16.379551186805028, 13.4580550843795), (-16.379551394981032, 13.458055467791997), (-16.379551582805476, 13.458055861574143), (-16.37955174976355, 13.458056264646588), (-16.37955189539763, 13.458056675904547), (-16.379552019308548, 13.458057094220807), (-16.379552121156667, 13.458057518448749), (-16.379552200662832, 13.458057947425617), (-16.379552257609124, 13.458058379975647), (-16.379552291839452, 13.458058814913192), (-16.379552303259995, 13.458059251046167), (-16.379552303259995, 13.458884559003799), (-16.380369046958773, 13.458884559003799), (-16.380369046958773, 13.457225609755202), (-16.380369058379323, 13.457225173622254), (-16.380369092609648, 13.457224738684696), (-16.380369149555936, 13.457224306134666), (-16.380369229062104, 13.457223877157785), (-16.380369330910224, 13.457223452929842), (-16.380369454821135, 13.457223034613596), (-16.38036960045522, 13.457222623355625), (-16.380369767413296, 13.457222220283192), (-16.38036995523774, 13.457221826501058), (-16.380370163413744, 13.45722144308855), (-16.38037039137071, 13.457221071096587), (-16.38037063848382, 13.45722071154479), (-16.38037090407576, 13.457220365418612), (-16.380371187418564, 13.457220033666836), (-16.380371487735594, 13.457219717198706), (-16.380371804203723, 13.457219416881662), (-16.380372135955515, 13.45721913353887), (-16.380372482081672, 13.457218867946944), (-16.380372841633484, 13.45721862083381), (-16.380373213625443, 13.457218392876841), (-16.380373597037945, 13.457218184700835), (-16.38037399082008, 13.457217996876397), (-16.380374393892524, 13.457217829918319), (-16.38037480515049, 13.457217684284243), (-16.380375223466732, 13.45721756037332), (-16.380375647694684, 13.457217458525204), (-16.38037607667156, 13.457217379019033), (-16.380376509221577, 13.457217322072754), (-16.38037694415914, 13.457217287842429), (-16.380377380292106, 13.457217276421883), (-16.381202457324214, 13.457217276421883), (-16.381202457324214, 13.456391968464251), (-16.381202468744757, 13.456391532331288), (-16.381202502975082, 13.456391097393718), (-16.381202559921377, 13.456390664843713), (-16.38120263942754, 13.456390235866834), (-16.38120274127566, 13.456389811638891), (-16.381202865186577, 13.456389393322633), (-16.38120301082066, 13.456388982064686), (-16.38120317777873, 13.45638857899224), (-16.381203365603174, 13.456388185210093), (-16.38120357377918, 13.456387801797586), (-16.38120380173615, 13.456387429805622), (-16.38120404884926, 13.456387070253825), (-16.381204314441202, 13.456386724127672), (-16.381204597784002, 13.456386392375858), (-16.381204898101036, 13.45638607590774), (-16.381205214569157, 13.456385775590709), (-16.381205546320952, 13.456385492247904), (-16.38120589244711, 13.456385226655978), (-16.38120625199892, 13.456384979542847), (-16.38120662399088, 13.456384751585889), (-16.381207007403383, 13.456384543409884), (-16.38120740118552, 13.456384355585433), (-16.381207804257965, 13.456384188627368), (-16.381208215515922, 13.456384042993292), (-16.38120863383217, 13.456383919082368), (-16.38120905806012, 13.456383817234265), (-16.381209487037, 13.456383737728082), (-16.381209919587018, 13.456383680781789), (-16.381210354524573, 13.456383646551464), (-16.38121079065754, 13.45638363513092), (-16.382035867689655, 13.45638363513092), (-16.382035867689655, 13.455558327173287), (-16.382035879110198, 13.455557891040325), (-16.382035913340523, 13.455557456102767), (-16.382035970286818, 13.455557023552762), (-16.38203604979298, 13.455556594575881), (-16.382036151641103, 13.455556170347913), (-16.382036275552018, 13.45555575203168), (-16.382036421186097, 13.455555340773708), (-16.382036588144175, 13.455554937701264), (-16.38203677596862, 13.45555454391913), (-16.38203698414462, 13.45555416050662), (-16.38203721210159, 13.45555378851467), (-16.3820374592147, 13.455553428962874), (-16.38203772480664, 13.455553082836696), (-16.38203800814944, 13.455552751084907), (-16.382038308466473, 13.45555243461679), (-16.382038624934598, 13.455552134299746), (-16.382038956686394, 13.45555185095694), (-16.38203930281255, 13.455551585365), (-16.38203966236436, 13.455551338251894), (-16.38204003435632, 13.455551110294925), (-16.382040417768824, 13.455550902118944), (-16.38204081155096, 13.455550714294482), (-16.382041214623403, 13.455550547336403), (-16.38204162588137, 13.455550401702341), (-16.38204204419761, 13.455550277791415), (-16.382042468425563, 13.455550175943287), (-16.382042897402442, 13.455550096437129), (-16.38204332995246, 13.45555003949085), (-16.38204376489002, 13.4555500052605), (-16.382044201022982, 13.455549993839968), (-16.382869278055097, 13.455549993839968), (-16.382869278055097, 13.454724685882335), (-16.38286928947564, 13.454724249749372), (-16.382869323705968, 13.454723814811802), (-16.38286938065226, 13.454723382261799), (-16.382869460158425, 13.454722953284918), (-16.38286956200654, 13.454722529056975), (-16.38286968591746, 13.454722110740729), (-16.382869831551538, 13.45472169948277), (-16.382869998509616, 13.454721296410325), (-16.38287018633406, 13.454720902628177), (-16.382870394510064, 13.454720519215682), (-16.38287062246703, 13.454720147223718), (-16.382870869580138, 13.454719787671896), (-16.382871135172085, 13.454719441545757), (-16.38287141851488, 13.454719109793967), (-16.382871718831918, 13.454718793325824), (-16.382872035300043, 13.454718493008794), (-16.382872367051835, 13.45471820966599), (-16.382872713177992, 13.45471794407405), (-16.382873072729804, 13.45471769696093), (-16.38287344472176, 13.454717469003974), (-16.38287382813426, 13.45471726082798), (-16.382874221916403, 13.454717073003517), (-16.382874624988848, 13.454716906045451), (-16.38287503624681, 13.454716760411376), (-16.38287545456305, 13.454716636500452), (-16.382875878791005, 13.454716534652336), (-16.382876307767884, 13.454716455146166), (-16.3828767403179, 13.454716398199887), (-16.38287717525546, 13.454716363969547), (-16.382877611388427, 13.454716352549003)),)}}",
     "output_type": "error",
     "traceback": [
      "\u001b[1;31m---------------------------------------------------------------------------\u001b[0m",
      "\u001b[1;31mRuntimeError\u001b[0m                              Traceback (most recent call last)",
      "\u001b[1;32m<ipython-input-44-c9b153fe4976>\u001b[0m in \u001b[0;36m<module>\u001b[1;34m\u001b[0m\n\u001b[0;32m      1\u001b[0m \u001b[0msettlements\u001b[0m\u001b[1;33m.\u001b[0m\u001b[0mto_file\u001b[0m\u001b[1;33m(\u001b[0m\u001b[0mworkspace\u001b[0m \u001b[1;33m+\u001b[0m \u001b[1;34mr\"\\output.shp\"\u001b[0m\u001b[1;33m,\u001b[0m \u001b[0mdriver\u001b[0m\u001b[1;33m=\u001b[0m\u001b[1;34m'ESRI Shapefile'\u001b[0m\u001b[1;33m)\u001b[0m\u001b[1;33m\u001b[0m\u001b[1;33m\u001b[0m\u001b[0m\n\u001b[1;32m----> 2\u001b[1;33m \u001b[0msettlements\u001b[0m\u001b[1;33m.\u001b[0m\u001b[0mto_file\u001b[0m\u001b[1;33m(\u001b[0m\u001b[0mworkspace\u001b[0m \u001b[1;33m+\u001b[0m \u001b[1;34mr\"\\output.csv\"\u001b[0m\u001b[1;33m,\u001b[0m \u001b[0mdriver\u001b[0m\u001b[1;33m=\u001b[0m\u001b[1;34m'CSV'\u001b[0m\u001b[1;33m)\u001b[0m\u001b[1;33m\u001b[0m\u001b[1;33m\u001b[0m\u001b[0m\n\u001b[0m",
      "\u001b[1;32mC:\\ProgramData\\Anaconda3\\lib\\site-packages\\geopandas\\geodataframe.py\u001b[0m in \u001b[0;36mto_file\u001b[1;34m(self, filename, driver, schema, **kwargs)\u001b[0m\n\u001b[0;32m    411\u001b[0m         \"\"\"\n\u001b[0;32m    412\u001b[0m         \u001b[1;32mfrom\u001b[0m \u001b[0mgeopandas\u001b[0m\u001b[1;33m.\u001b[0m\u001b[0mio\u001b[0m\u001b[1;33m.\u001b[0m\u001b[0mfile\u001b[0m \u001b[1;32mimport\u001b[0m \u001b[0mto_file\u001b[0m\u001b[1;33m\u001b[0m\u001b[1;33m\u001b[0m\u001b[0m\n\u001b[1;32m--> 413\u001b[1;33m         \u001b[0mto_file\u001b[0m\u001b[1;33m(\u001b[0m\u001b[0mself\u001b[0m\u001b[1;33m,\u001b[0m \u001b[0mfilename\u001b[0m\u001b[1;33m,\u001b[0m \u001b[0mdriver\u001b[0m\u001b[1;33m,\u001b[0m \u001b[0mschema\u001b[0m\u001b[1;33m,\u001b[0m \u001b[1;33m**\u001b[0m\u001b[0mkwargs\u001b[0m\u001b[1;33m)\u001b[0m\u001b[1;33m\u001b[0m\u001b[1;33m\u001b[0m\u001b[0m\n\u001b[0m\u001b[0;32m    414\u001b[0m \u001b[1;33m\u001b[0m\u001b[0m\n\u001b[0;32m    415\u001b[0m     \u001b[1;32mdef\u001b[0m \u001b[0mto_crs\u001b[0m\u001b[1;33m(\u001b[0m\u001b[0mself\u001b[0m\u001b[1;33m,\u001b[0m \u001b[0mcrs\u001b[0m\u001b[1;33m=\u001b[0m\u001b[1;32mNone\u001b[0m\u001b[1;33m,\u001b[0m \u001b[0mepsg\u001b[0m\u001b[1;33m=\u001b[0m\u001b[1;32mNone\u001b[0m\u001b[1;33m,\u001b[0m \u001b[0minplace\u001b[0m\u001b[1;33m=\u001b[0m\u001b[1;32mFalse\u001b[0m\u001b[1;33m)\u001b[0m\u001b[1;33m:\u001b[0m\u001b[1;33m\u001b[0m\u001b[1;33m\u001b[0m\u001b[0m\n",
      "\u001b[1;32mC:\\ProgramData\\Anaconda3\\lib\\site-packages\\geopandas\\io\\file.py\u001b[0m in \u001b[0;36mto_file\u001b[1;34m(df, filename, driver, schema, **kwargs)\u001b[0m\n\u001b[0;32m    115\u001b[0m         with fiona.open(filename, 'w', driver=driver, crs=df.crs,\n\u001b[0;32m    116\u001b[0m                         schema=schema, **kwargs) as colxn:\n\u001b[1;32m--> 117\u001b[1;33m             \u001b[0mcolxn\u001b[0m\u001b[1;33m.\u001b[0m\u001b[0mwriterecords\u001b[0m\u001b[1;33m(\u001b[0m\u001b[0mdf\u001b[0m\u001b[1;33m.\u001b[0m\u001b[0miterfeatures\u001b[0m\u001b[1;33m(\u001b[0m\u001b[1;33m)\u001b[0m\u001b[1;33m)\u001b[0m\u001b[1;33m\u001b[0m\u001b[1;33m\u001b[0m\u001b[0m\n\u001b[0m\u001b[0;32m    118\u001b[0m \u001b[1;33m\u001b[0m\u001b[0m\n\u001b[0;32m    119\u001b[0m \u001b[1;33m\u001b[0m\u001b[0m\n",
      "\u001b[1;32mC:\\ProgramData\\Anaconda3\\lib\\site-packages\\fiona\\collection.py\u001b[0m in \u001b[0;36mwriterecords\u001b[1;34m(self, records)\u001b[0m\n\u001b[0;32m    347\u001b[0m         \u001b[1;32mif\u001b[0m \u001b[0mself\u001b[0m\u001b[1;33m.\u001b[0m\u001b[0mmode\u001b[0m \u001b[1;32mnot\u001b[0m \u001b[1;32min\u001b[0m \u001b[1;33m(\u001b[0m\u001b[1;34m'a'\u001b[0m\u001b[1;33m,\u001b[0m \u001b[1;34m'w'\u001b[0m\u001b[1;33m)\u001b[0m\u001b[1;33m:\u001b[0m\u001b[1;33m\u001b[0m\u001b[1;33m\u001b[0m\u001b[0m\n\u001b[0;32m    348\u001b[0m             \u001b[1;32mraise\u001b[0m \u001b[0mIOError\u001b[0m\u001b[1;33m(\u001b[0m\u001b[1;34m\"collection not open for writing\"\u001b[0m\u001b[1;33m)\u001b[0m\u001b[1;33m\u001b[0m\u001b[1;33m\u001b[0m\u001b[0m\n\u001b[1;32m--> 349\u001b[1;33m         \u001b[0mself\u001b[0m\u001b[1;33m.\u001b[0m\u001b[0msession\u001b[0m\u001b[1;33m.\u001b[0m\u001b[0mwriterecs\u001b[0m\u001b[1;33m(\u001b[0m\u001b[0mrecords\u001b[0m\u001b[1;33m,\u001b[0m \u001b[0mself\u001b[0m\u001b[1;33m)\u001b[0m\u001b[1;33m\u001b[0m\u001b[1;33m\u001b[0m\u001b[0m\n\u001b[0m\u001b[0;32m    350\u001b[0m         \u001b[0mself\u001b[0m\u001b[1;33m.\u001b[0m\u001b[0m_len\u001b[0m \u001b[1;33m=\u001b[0m \u001b[0mself\u001b[0m\u001b[1;33m.\u001b[0m\u001b[0msession\u001b[0m\u001b[1;33m.\u001b[0m\u001b[0mget_length\u001b[0m\u001b[1;33m(\u001b[0m\u001b[1;33m)\u001b[0m\u001b[1;33m\u001b[0m\u001b[1;33m\u001b[0m\u001b[0m\n\u001b[0;32m    351\u001b[0m         \u001b[0mself\u001b[0m\u001b[1;33m.\u001b[0m\u001b[0m_bounds\u001b[0m \u001b[1;33m=\u001b[0m \u001b[0mself\u001b[0m\u001b[1;33m.\u001b[0m\u001b[0msession\u001b[0m\u001b[1;33m.\u001b[0m\u001b[0mget_extent\u001b[0m\u001b[1;33m(\u001b[0m\u001b[1;33m)\u001b[0m\u001b[1;33m\u001b[0m\u001b[1;33m\u001b[0m\u001b[0m\n",
      "\u001b[1;32mfiona/ogrext.pyx\u001b[0m in \u001b[0;36mfiona.ogrext.WritingSession.writerecs\u001b[1;34m()\u001b[0m\n",
      "\u001b[1;31mRuntimeError\u001b[0m: Failed to write record: {'id': '3005', 'type': 'Feature', 'properties': {'id': 3006, 'NightLight': 0.0, 'Country': 'Gambia', 'Pop': 4093.86531, 'GridCellAr': 1.313, 'ElecPop': 0.0, 'LandCover': 14.0, 'Elevation': 37.333333333333336, 'Slope': 0.056119997054338, 'GHI': 2099.0, 'TravelHours': 49.833333333333336, 'WindVel': 4.246530914306641, 'ResidentialDemandTierCustom': 240.510009765625, 'SubstationDist': 33.387986546763976, 'CurrentHVLineDist': 23.184115744688228, 'PlannedHVLineDist': 23.184115744688228, 'CurrentMVLineDist': 0, 'PlannedMVLineDist': 0, 'RoadDist': 99, 'TransformerDist': 0, 'HydropowerFID': 0, 'HydropowerDist': 99, 'Hydropower': 0, 'IsUrban': 0, 'PerCapitaDemand': 0, 'HealthDemand': 0, 'EducationDemand': 0, 'AgriDemand': 0, 'CommercialDemand': 0, 'Conflict': 0, 'ElectrificationOrder': 0, 'ResidentialDemandTier1': 7.74, 'ResidentialDemandTier2': 43.8, 'ResidentialDemandTier3': 160.6, 'ResidentialDemandTier4': 423.4, 'ResidentialDemandTier5': 598.6, 'X_deg': -16.38133420778878, 'Y_deg': 13.461937801677893}, 'geometry': {'type': 'Polygon', 'coordinates': (((-16.382877611388427, 13.454716352549003), (-16.383579156350585, 13.454716352549003), (-16.384091169110356, 13.45477967247018), (-16.38455276545264, 13.454836757461631), (-16.38455276545264, 13.455549993839968), (-16.386211252850185, 13.455549993839968), (-16.386211688983153, 13.4555500052605), (-16.386212123920714, 13.45555003949085), (-16.38621255647073, 13.455550096437129), (-16.38621298544761, 13.455550175943287), (-16.386213409675563, 13.455550277791415), (-16.386213827991803, 13.455550401702341), (-16.386214239249764, 13.455550547336403), (-16.386214642322212, 13.455550714294482), (-16.38621503610435, 13.455550902118944), (-16.38621541951685, 13.455551110294925), (-16.386215791508807, 13.455551338251894), (-16.386216151060623, 13.455551585365), (-16.38621649718678, 13.45555185095694), (-16.38621682893857, 13.455552134299746), (-16.3862171454067, 13.45555243461679), (-16.38621744572373, 13.455552751084907), (-16.386217729066534, 13.455553082836696), (-16.386217994658473, 13.455553428962874), (-16.386218241771584, 13.45555378851467), (-16.386218469728547, 13.45555416050662), (-16.38621867790455, 13.45555454391913), (-16.386218865729, 13.455554937701264), (-16.38621903268707, 13.455555340773708), (-16.386219178321156, 13.45555575203168), (-16.38621930223207, 13.455556170347913), (-16.386219404080187, 13.455556594575881), (-16.386219483586352, 13.455557023552762), (-16.386219540532643, 13.455557456102767), (-16.386219574762976, 13.455557891040325), (-16.38621958618352, 13.455558327173287), (-16.38621958618352, 13.456391968464251), (-16.386219574762976, 13.456392404597214), (-16.386219540532643, 13.456392839534772), (-16.386219483586352, 13.456393272084801), (-16.386219404080187, 13.456393701061682), (-16.38621930223207, 13.456394125289625), (-16.386219178321156, 13.456394543605871), (-16.38621903268707, 13.45639495486383), (-16.386218865729, 13.456395357936287), (-16.38621867790455, 13.456395751718421), (-16.386218469728547, 13.456396135130918), (-16.386218241771584, 13.45639650712288), (-16.386217994658473, 13.45639686667469), (-16.386217729066534, 13.456397212800843), (-16.38621744572373, 13.456397544552631), (-16.3862171454067, 13.456397861020774), (-16.38621682893857, 13.456398161337793), (-16.38621649718678, 13.456398444680598), (-16.386216151060623, 13.45639871027255), (-16.386215791508807, 13.456398957385643), (-16.38621541951685, 13.456399185342613), (-16.38621503610435, 13.45639939351862), (-16.386214642322212, 13.456399581343069), (-16.386214239249764, 13.456399748301136), (-16.386213827991803, 13.45639989393521), (-16.386213409675563, 13.456400017846134), (-16.38621298544761, 13.456400119694251), (-16.38621255647073, 13.456400199200422), (-16.386212123920714, 13.4564002561467), (-16.386211688983153, 13.456400290377038), (-16.386211252850185, 13.456400301797583), (-16.384544432119306, 13.456400301797583), (-16.384543995986338, 13.456400290377038), (-16.384543561048776, 13.4564002561467), (-16.384543128498763, 13.456400199200422), (-16.38454269952188, 13.456400119694251), (-16.38454227529393, 13.456400017846134), (-16.384541856977688, 13.45639989393521), (-16.384541445719726, 13.456399748301136), (-16.38454104264728, 13.456399581343069), (-16.384540648865144, 13.45639939351862), (-16.384540265452642, 13.456399185342613), (-16.384539893460683, 13.456398957385643), (-16.384539533908868, 13.45639871027255), (-16.38453918778271, 13.456398444680598), (-16.38453885603092, 13.456398161337793), (-16.384538539562797, 13.456397861020774), (-16.384538239245764, 13.456397544552631), (-16.384537955902964, 13.456397212800843), (-16.38453769031102, 13.45639686667469), (-16.384537443197907, 13.45639650712288), (-16.384537215240943, 13.456396135130918), (-16.38453700706494, 13.456395751718421), (-16.384536819240495, 13.456395357936287), (-16.38453665228242, 13.45639495486383), (-16.38453650664834, 13.456394543605871), (-16.384536382737423, 13.456394125289625), (-16.384536280889304, 13.456393701061682), (-16.38453620138314, 13.456393272084801), (-16.384536144436847, 13.456392839534772), (-16.38453611020652, 13.456392404597214), (-16.384536098785976, 13.456391968464251), (-16.384536098785976, 13.455566660506632), (-16.383719355087198, 13.455566660506632), (-16.383719355087198, 13.457217276421883), (-16.385377842484747, 13.457217276421883), (-16.385378278617715, 13.457217287842429), (-16.385378713555273, 13.457217322072754), (-16.38537914610529, 13.457217379019033), (-16.38537957508217, 13.457217458525204), (-16.385379999310118, 13.45721756037332), (-16.385380417626365, 13.457217684284243), (-16.385380828884323, 13.457217829918319), (-16.38538123195677, 13.457217996876397), (-16.385381625738905, 13.457218184700835), (-16.385382009151407, 13.457218392876841), (-16.38538238114337, 13.45721862083381), (-16.38538274069518, 13.457218867946944), (-16.38538308682134, 13.45721913353887), (-16.385383418573127, 13.457219416881662), (-16.385383735041252, 13.457219717198706), (-16.385384035358285, 13.457220033666836), (-16.38538431870109, 13.457220365418612), (-16.38538458429303, 13.45722071154479), (-16.385384831406142, 13.457221071096587), (-16.385385059363106, 13.45722144308855), (-16.385385267539114, 13.457221826501058), (-16.385385455363558, 13.457222220283192), (-16.38538562232163, 13.457222623355625), (-16.385385767955714, 13.457223034613596), (-16.385385891866626, 13.457223452929842), (-16.38538599371475, 13.457223877157785), (-16.385386073220914, 13.457224306134666), (-16.385386130167205, 13.457224738684696), (-16.385386164397534, 13.457225173622254), (-16.385386175818077, 13.457225609755202), (-16.385386175818077, 13.458892892337131), (-16.385386164397534, 13.458893328470095), (-16.385386130167205, 13.458893763407664), (-16.385386073220914, 13.458894195957669), (-16.38538599371475, 13.45889462493455), (-16.385385891866626, 13.458895049162505), (-16.385385767955714, 13.458895467478738), (-16.38538562232163, 13.458895878736698), (-16.385385455363558, 13.458896281809142), (-16.385385267539114, 13.458896675591289), (-16.385385059363106, 13.458897059003785), (-16.385384831406142, 13.458897430995748), (-16.38538458429303, 13.45889779054757), (-16.38538431870109, 13.458898136673723), (-16.385384035358285, 13.458898468425526), (-16.385383735041252, 13.458898784893629), (-16.385383418573127, 13.458899085210673), (-16.38538308682134, 13.458899368553466), (-16.38538274069518, 13.458899634145405), (-16.38538238114337, 13.458899881258525), (-16.385382009151407, 13.458900109215493), (-16.385381625738905, 13.458900317391487), (-16.38538123195677, 13.45890050521595), (-16.385380828884323, 13.458900672174003), (-16.385380417626365, 13.458900817808091), (-16.385379999310118, 13.458900941719016), (-16.38537957508217, 13.458901043567119), (-16.38537914610529, 13.458901123073302), (-16.385378713555273, 13.45890118001958), (-16.385378278617715, 13.458901214249906), (-16.385377842484747, 13.458901225670452), (-16.38455276545264, 13.458901225670452), (-16.38455276545264, 13.45971820029475), (-16.385377842484747, 13.45971820029475), (-16.385378278617715, 13.459718211715296), (-16.385378713555273, 13.459718245945622), (-16.38537914610529, 13.459718302891913), (-16.38537957508217, 13.459718382398096), (-16.385379999310118, 13.4597184842462), (-16.385380417626365, 13.459718608157125), (-16.385380828884323, 13.459718753791199), (-16.38538123195677, 13.459718920749264), (-16.385381625738905, 13.459719108573728), (-16.385382009151407, 13.459719316749721), (-16.38538238114337, 13.45971954470669), (-16.38538274069518, 13.459719791819797), (-16.38538308682134, 13.459720057411737), (-16.385383418573127, 13.459720340754542), (-16.385383735041252, 13.459720641071574), (-16.385384035358285, 13.459720957539716), (-16.38538431870109, 13.459721289291505), (-16.38538458429303, 13.459721635417646), (-16.385384831406142, 13.459721994969454), (-16.385385059363106, 13.459722366961417), (-16.385385267539114, 13.459722750373926), (-16.385385455363558, 13.45972314415606), (-16.38538562232163, 13.459723547228517), (-16.385385767955714, 13.459723958486464), (-16.385385891866626, 13.45972437680271), (-16.38538599371475, 13.459724801030665), (-16.385386073220914, 13.459725230007546), (-16.385386130167205, 13.45972566255755), (-16.385386164397534, 13.459726097495109), (-16.385386175818077, 13.459726533628084), (-16.385386175818077, 13.460551841585703), (-16.386202919516858, 13.460551841585703), (-16.386202919516858, 13.459726533628084), (-16.3862029309374, 13.459726097495109), (-16.386202965167726, 13.45972566255755), (-16.38620302211402, 13.459725230007546), (-16.386203101620186, 13.459724801030665), (-16.386203203468305, 13.45972437680271), (-16.38620332737922, 13.459723958486464), (-16.3862034730133, 13.459723547228517), (-16.386203639971377, 13.45972314415606), (-16.38620382779582, 13.459722750373926), (-16.386204035971822, 13.459722366961417), (-16.386204263928793, 13.459721994969454), (-16.386204511041903, 13.459721635417646), (-16.38620477663385, 13.459721289291505), (-16.386205059976643, 13.459720957539716), (-16.386205360293683, 13.459720641071574), (-16.3862056767618, 13.459720340754542), (-16.386206008513597, 13.459720057411737), (-16.386206354639754, 13.459719791819797), (-16.386206714191562, 13.45971954470669), (-16.38620708618352, 13.459719316749721), (-16.386207469596023, 13.459719108573728), (-16.386207863378164, 13.459718920749264), (-16.38620826645061, 13.459718753791199), (-16.386208677708566, 13.459718608157125), (-16.38620909602481, 13.4597184842462), (-16.386209520252766, 13.459718382398096), (-16.38620994922964, 13.459718302891913), (-16.386210381779662, 13.459718245945622), (-16.38621081671722, 13.459718211715296), (-16.386211252850185, 13.45971820029475), (-16.38704466321563, 13.45971820029475), (-16.387045099348594, 13.459718211715296), (-16.387045534286155, 13.459718245945622), (-16.387045966836173, 13.459718302891913), (-16.387046395813048, 13.459718382398096), (-16.387046820041, 13.4597184842462), (-16.387047238357244, 13.459718608157125), (-16.38704764961521, 13.459718753791199), (-16.38704805268765, 13.459718920749264), (-16.38704844646979, 13.459719108573728), (-16.387048829882293, 13.459719316749721), (-16.38704920187425, 13.45971954470669), (-16.387049561426064, 13.459719791819797), (-16.38704990755222, 13.459720057411737), (-16.38705023930401, 13.459720340754542), (-16.387050555772138, 13.459720641071574), (-16.38705085608917, 13.459720957539716), (-16.38705113943197, 13.459721289291505), (-16.387051405023914, 13.459721635417646), (-16.387051652137025, 13.459721994969454), (-16.387051880093992, 13.459722366961417), (-16.387052088269993, 13.459722750373926), (-16.387052276094437, 13.45972314415606), (-16.387052443052514, 13.459723547228517), (-16.387052588686597, 13.459723958486464), (-16.387052712597512, 13.45972437680271), (-16.387052814445628, 13.459724801030665), (-16.387052893951797, 13.459725230007546), (-16.387052950898088, 13.45972566255755), (-16.387052985128413, 13.459726097495109), (-16.38705299654896, 13.459726533628084), (-16.38705299654896, 13.460551841585703), (-16.387878073581067, 13.460551841585703), (-16.387878509714035, 13.46055185300626), (-16.38787894465159, 13.460551887236585), (-16.387879377201607, 13.460551944182866), (-16.38787980617849, 13.460552023689035), (-16.38788023040644, 13.460552125537165), (-16.387880648722685, 13.460552249448076), (-16.387881059980646, 13.460552395082152), (-16.387881463053088, 13.460552562040242), (-16.38788185683523, 13.460552749864693), (-16.38788224024773, 13.460552958040672), (-16.38788261223969, 13.460553185997643), (-16.387882971791505, 13.460553433110762), (-16.38788331791766, 13.460553698702714), (-16.38788364966945, 13.460553982045493), (-16.387883966137576, 13.460554282362537), (-16.38788426645461, 13.460554598830667), (-16.38788454979741, 13.460554930582443), (-16.387884815389352, 13.460555276708622), (-16.387885062502463, 13.46055563626043), (-16.38788529045943, 13.460556008252382), (-16.387885498635434, 13.460556391664877), (-16.387885686459878, 13.460556785447023), (-16.387885853417952, 13.460557188519457), (-16.387885999052035, 13.460557599777415), (-16.38788612296295, 13.460558018093675), (-16.38788622481107, 13.460558442321618), (-16.387886304317234, 13.46055887129851), (-16.387886361263526, 13.460559303848514), (-16.38788639549385, 13.460559738786072), (-16.387886406914394, 13.460560174919035), (-16.387886406914394, 13.462227457500964), (-16.38788639549385, 13.462227893633926), (-16.387886361263526, 13.462228328571484), (-16.387886304317234, 13.462228761121501), (-16.38788622481107, 13.462229190098382), (-16.38788612296295, 13.462229614326336), (-16.387885999052035, 13.462230032642584), (-16.387885853417952, 13.462230443900555), (-16.387885686459878, 13.462230846972988), (-16.387885498635434, 13.462231240755122), (-16.38788529045943, 13.462231624167618), (-16.387885062502463, 13.46223199615958), (-16.387884815389352, 13.462232355711402), (-16.38788454979741, 13.462232701837543), (-16.38788426645461, 13.462233033589357), (-16.387883966137576, 13.462233350057474), (-16.38788364966945, 13.462233650374506), (-16.38788331791766, 13.462233933717298), (-16.387882971791505, 13.462234199309249), (-16.38788261223969, 13.462234446422356), (-16.38788224024773, 13.462234674379326), (-16.38788185683523, 13.462234882555318), (-16.387881463053088, 13.46223507037977), (-16.387881059980646, 13.462235237337849), (-16.387880648722685, 13.462235382971922), (-16.38788023040644, 13.46223550688286), (-16.38787980617849, 13.462235608730976), (-16.387879377201607, 13.462235688237147), (-16.38787894465159, 13.462235745183426), (-16.387878509714035, 13.462235779413739), (-16.387878073581067, 13.462235790834283), (-16.38705299654896, 13.462235790834283), (-16.38705299654896, 13.464728381373844), (-16.387052985128413, 13.464728817506794), (-16.387052950898088, 13.464729252444364), (-16.387052893951797, 13.464729684994381), (-16.387052814445628, 13.464730113971262), (-16.387052712597512, 13.464730538199206), (-16.387052588686597, 13.464730956515464), (-16.387052443052514, 13.464731367773423), (-16.387052276094437, 13.464731770845855), (-16.387052088269993, 13.464732164628002), (-16.387051880093992, 13.464732548040498), (-16.387051652137025, 13.464732920032473), (-16.387051405023914, 13.46473327958427), (-16.38705113943197, 13.464733625710423), (-16.38705085608917, 13.464733957462212), (-16.387050555772138, 13.464734273930342), (-16.38705023930401, 13.464734574247373), (-16.38704990755222, 13.464734857590178), (-16.387049561426064, 13.46473512318213), (-16.38704920187425, 13.464735370295237), (-16.387048829882293, 13.464735598252194), (-16.38704844646979, 13.464735806428212), (-16.38704805268765, 13.464735994252637), (-16.38704764961521, 13.464736161210716), (-16.387047238357244, 13.464736306844816), (-16.387046820041, 13.464736430755728), (-16.387046395813048, 13.464736532603832), (-16.387045966836173, 13.464736612110002), (-16.387045534286155, 13.464736669056293), (-16.387045099348594, 13.464736703286619), (-16.38704466321563, 13.464736714707163), (-16.38621958618352, 13.464736714707163), (-16.38621958618352, 13.465562022664797), (-16.386219574762976, 13.46556245879776), (-16.386219540532643, 13.465562893735317), (-16.386219483586352, 13.465563326285332), (-16.386219404080187, 13.465563755262226), (-16.38621930223207, 13.465564179490181), (-16.386219178321156, 13.465564597806415), (-16.38621903268707, 13.465565009064386), (-16.386218865729, 13.46556541213682), (-16.38621867790455, 13.465565805918967), (-16.386218469728547, 13.465566189331449), (-16.386218241771584, 13.465566561323413), (-16.386217994658473, 13.465566920875235), (-16.386217729066534, 13.465567267001388), (-16.38621744572373, 13.46556759875319), (-16.3862171454067, 13.465567915221307), (-16.38621682893857, 13.465568215538337), (-16.38621649718678, 13.46556849888113), (-16.386216151060623, 13.465568764473069), (-16.386215791508807, 13.465569011586188), (-16.38621541951685, 13.465569239543157), (-16.38621503610435, 13.465569447719163), (-16.386214642322212, 13.465569635543615), (-16.386214239249764, 13.46556980250168), (-16.386213827991803, 13.465569948135768), (-16.386213409675563, 13.46557007204668), (-16.38621298544761, 13.465570173894795), (-16.38621255647073, 13.465570253400966), (-16.386212123920714, 13.465570310347246), (-16.386211688983153, 13.465570344577571), (-16.386211252850185, 13.465570355998116), (-16.385386175818077, 13.465570355998116), (-16.385386175818077, 13.466395663955748), (-16.385386164397534, 13.466396100088723), (-16.385386130167205, 13.46639653502628), (-16.385386073220914, 13.466396967576285), (-16.38538599371475, 13.466397396553164), (-16.385385891866626, 13.46639782078112), (-16.385385767955714, 13.466398239097368), (-16.38538562232163, 13.466398650355327), (-16.385385455363558, 13.466399053427784), (-16.385385267539114, 13.466399447209918), (-16.385385059363106, 13.466399830622414), (-16.385384831406142, 13.466400202614377), (-16.38538458429303, 13.466400562166186), (-16.38538431870109, 13.466400908292352), (-16.385384035358285, 13.466401240044128), (-16.385383735041252, 13.466401556512258), (-16.385383418573127, 13.46640185682929), (-16.38538308682134, 13.466402140172095), (-16.38538274069518, 13.466402405764033), (-16.38538238114337, 13.46640265287714), (-16.385382009151407, 13.46640288083411), (-16.385381625738905, 13.466403089010116), (-16.38538123195677, 13.466403276834578), (-16.385380828884323, 13.466403443792633), (-16.385380417626365, 13.466403589426731), (-16.385379999310118, 13.46640371333763), (-16.38537957508217, 13.466403815185748), (-16.38537914610529, 13.466403894691917), (-16.385378713555273, 13.46640395163821), (-16.385378278617715, 13.466403985868535), (-16.385377842484747, 13.46640399728908), (-16.383719355087198, 13.46640399728908), (-16.383719355087198, 13.467229305246725), (-16.383719343666655, 13.467229741379688), (-16.383719309436326, 13.467230176317246), (-16.383719252490035, 13.467230608867249), (-16.38371917298387, 13.467231037844142), (-16.38371907113575, 13.467231462072085), (-16.383718947224832, 13.467231880388319), (-16.383718801590753, 13.467232291646303), (-16.383718634632682, 13.467232694718735), (-16.383718446808235, 13.46723308850087), (-16.38371823863223, 13.46723347191339), (-16.383718010675263, 13.467233843905328), (-16.383717763562153, 13.467234203457137), (-16.38371749797021, 13.46723454958329), (-16.38371721462741, 13.467234881335093), (-16.383716914310376, 13.467235197803209), (-16.383716597842252, 13.467235498120266), (-16.38371626609046, 13.467235781463058), (-16.3837159199643, 13.467236047054998), (-16.38371556041249, 13.467236294168105), (-16.38371518842053, 13.467236522125074), (-16.383714805008026, 13.467236730301067), (-16.383714411225892, 13.467236918125518), (-16.383714008153447, 13.467237085083596), (-16.383713596895486, 13.467237230717684), (-16.38371317857924, 13.467237354628596), (-16.383712754351286, 13.467237456476711), (-16.383712325374407, 13.46723753598287), (-16.38371189282439, 13.467237592929173), (-16.383711457886836, 13.4672376271595), (-16.383711021753868, 13.467237638580032), (-16.381219123990874, 13.467237638580032), (-16.381219123990874, 13.468054613204345), (-16.382877611388427, 13.468054613204345), (-16.38287804752139, 13.468054624624877), (-16.382878482458953, 13.468054658855214), (-16.38287891500897, 13.468054715801507), (-16.382879343985845, 13.468054795307664), (-16.3828797682138, 13.46805489715578), (-16.38288018653004, 13.468055021066705), (-16.382880597788006, 13.468055166700779), (-16.38288100086045, 13.46805533365887), (-16.382881394642588, 13.468055521483308), (-16.38288177805509, 13.468055729659302), (-16.38288215004705, 13.46805595761627), (-16.38288250959886, 13.468056204729391), (-16.38288285572502, 13.46805647032133), (-16.38288318747681, 13.468056753664122), (-16.382883503944935, 13.468057053981166), (-16.38288380426197, 13.468057370449284), (-16.38288408760477, 13.468057702201085), (-16.38288435319671, 13.468058048327226), (-16.382884600309822, 13.468058407879047), (-16.38288482826679, 13.468058779870997), (-16.38288503644279, 13.468059163283506), (-16.382885224267234, 13.468059557065652), (-16.38288539122531, 13.468059960138085), (-16.382885536859394, 13.468060371396044), (-16.38288566077031, 13.468060789712304), (-16.382885762618425, 13.468061213940246), (-16.382885842124594, 13.468061642917126), (-16.382885899070885, 13.468062075467143), (-16.382885933301218, 13.468062510404714), (-16.382885944721757, 13.468062946537676), (-16.382885944721757, 13.468896587828628), (-16.382885933301218, 13.468897023961604), (-16.382885899070885, 13.468897458899148), (-16.382885842124594, 13.468897891449165), (-16.382885762618425, 13.468898320426046), (-16.38288566077031, 13.468898744654002), (-16.382885536859394, 13.46889916297026), (-16.38288539122531, 13.468899574228207), (-16.382885224267234, 13.468899977300664), (-16.38288503644279, 13.468900371082785), (-16.38288482826679, 13.468900754495282), (-16.382884600309822, 13.468901126487244), (-16.38288435319671, 13.468901486039066), (-16.38288408760477, 13.46890183216522), (-16.38288380426197, 13.468902163917008), (-16.382883503944935, 13.468902480385125), (-16.38288318747681, 13.46890278070217), (-16.38288285572502, 13.468903064044962), (-16.38288250959886, 13.4689033296369), (-16.38288215004705, 13.468903576750034), (-16.38288177805509, 13.46890380470699), (-16.382881394642588, 13.468904012882996), (-16.38288100086045, 13.468904200707433), (-16.382880597788006, 13.468904367665512), (-16.38288018653004, 13.468904513299586), (-16.3828797682138, 13.468904637210512), (-16.382879343985845, 13.46890473905864), (-16.38287891500897, 13.468904818564798), (-16.382878482458953, 13.468904875511077), (-16.38287804752139, 13.468904909741415), (-16.382877611388427, 13.468904921161961), (-16.38121079065754, 13.468904921161961), (-16.381210354524573, 13.468904909741415), (-16.381209919587018, 13.468904875511077), (-16.381209487037, 13.468904818564798), (-16.38120905806012, 13.46890473905864), (-16.38120863383217, 13.468904637210512), (-16.381208215515922, 13.468904513299586), (-16.381207804257965, 13.468904367665512), (-16.38120740118552, 13.468904200707433), (-16.381207007403383, 13.468904012882996), (-16.38120662399088, 13.46890380470699), (-16.38120625199892, 13.468903576750034), (-16.38120589244711, 13.4689033296369), (-16.381205546320952, 13.468903064044962), (-16.381205214569157, 13.46890278070217), (-16.381204898101036, 13.468902480385125), (-16.381204597784002, 13.468902163917008), (-16.381204314441202, 13.46890183216522), (-16.38120404884926, 13.468901486039066), (-16.38120380173615, 13.468901126487244), (-16.38120357377918, 13.468900754495282), (-16.381203365603174, 13.468900371082785), (-16.38120317777873, 13.468899977300664), (-16.38120301082066, 13.468899574228207), (-16.381202865186577, 13.46889916297026), (-16.38120274127566, 13.468898744654002), (-16.38120263942754, 13.468898320426046), (-16.381202559921377, 13.468897891449165), (-16.381202502975082, 13.468897458899148), (-16.381202468744757, 13.468897023961604), (-16.381202457324214, 13.468896587828628), (-16.381202457324214, 13.468071279870996), (-16.379543969926665, 13.468071279870996), (-16.379543533793697, 13.468071268450451), (-16.37954309885614, 13.468071234220126), (-16.379542666306122, 13.468071177273833), (-16.379542237329243, 13.468071097767677), (-16.37954181310129, 13.468070995919547), (-16.379541394785047, 13.468070872008647), (-16.379540983527086, 13.468070726374547), (-16.379540580454638, 13.46807055941647), (-16.379540186672504, 13.468070371592045), (-16.379539803260002, 13.468070163416039), (-16.379539431268043, 13.468069935459068), (-16.37953907171623, 13.468069688345949), (-16.379538725590074, 13.468069422754011), (-16.37953839383828, 13.468069139411204), (-16.379538077370157, 13.468068839094174), (-16.379537777053123, 13.468068522626044), (-16.379537493710323, 13.468068190874256), (-16.379537228118377, 13.468067844748102), (-16.37953698100527, 13.468067485196293), (-16.379536753048303, 13.468067113204329), (-16.379536544872295, 13.468066729791822), (-16.379536357047854, 13.468066336009688), (-16.37953619008978, 13.468065932937256), (-16.379536044455698, 13.468065521679296), (-16.37953592054478, 13.468065103363049), (-16.379535818696663, 13.468064679135093), (-16.379535739190498, 13.468064250158214), (-16.379535682244207, 13.468063817608197), (-16.379535648013874, 13.468063382670627), (-16.37953563659333, 13.468062946537676), (-16.37953563659333, 13.467237638580032), (-16.378710559561224, 13.467237638580032), (-16.378710123428256, 13.4672376271595), (-16.378709688490698, 13.467237592929173), (-16.37870925594068, 13.46723753598287), (-16.378708826963802, 13.467237456476711), (-16.378708402735846, 13.467237354628596), (-16.378707984419606, 13.467237230717684), (-16.37870757316164, 13.467237085083596), (-16.3787071700892, 13.467236918125518), (-16.378706776307062, 13.467236730301067), (-16.37870639289456, 13.467236522125074), (-16.3787060209026, 13.467236294168105), (-16.37870566135079, 13.467236047054998), (-16.378705315224632, 13.467235781463058), (-16.37870498347284, 13.467235498120266), (-16.378704667004715, 13.467235197803209), (-16.37870436668768, 13.467234881335093), (-16.378704083344882, 13.46723454958329), (-16.378703817752935, 13.467234203457137), (-16.37870357063983, 13.467233843905328), (-16.378703342682865, 13.46723347191339), (-16.378703134506857, 13.46723308850087), (-16.378702946682413, 13.467232694718735), (-16.378702779724335, 13.467232291646303), (-16.378702634090256, 13.467231880388319), (-16.378702510179338, 13.467231462072085), (-16.378702408331222, 13.467231037844142), (-16.378702328825057, 13.467230608867249), (-16.378702271878765, 13.467230176317246), (-16.378702237648433, 13.467229741379688), (-16.378702226227894, 13.467229305246725), (-16.378702226227894, 13.46640399728908), (-16.376210328464904, 13.46640399728908), (-16.376209892331936, 13.466403985868535), (-16.376209457394374, 13.46640395163821), (-16.376209024844357, 13.466403894691917), (-16.37620859586748, 13.466403815185748), (-16.37620817163953, 13.46640371333763), (-16.376207753323285, 13.466403589426731), (-16.376207342065324, 13.466403443792633), (-16.37620693899288, 13.466403276834578), (-16.376206545210742, 13.466403089010116), (-16.37620616179824, 13.46640288083411), (-16.37620578980628, 13.46640265287714), (-16.376205430254466, 13.466402405764033), (-16.376205084128312, 13.466402140172095), (-16.376204752376523, 13.46640185682929), (-16.376204435908395, 13.466401556512258), (-16.37620413559136, 13.466401240044128), (-16.376203852248562, 13.466400908292352), (-16.37620358665662, 13.466400562166186), (-16.37620333954351, 13.466400202614377), (-16.37620311158654, 13.466399830622414), (-16.376202903410537, 13.466399447209918), (-16.376202715586093, 13.466399053427784), (-16.37620254862802, 13.466398650355327), (-16.376202402993936, 13.466398239097368), (-16.37620227908302, 13.46639782078112), (-16.3762021772349, 13.466397396553164), (-16.376202097728733, 13.466396967576285), (-16.376202040782445, 13.46639653502628), (-16.376202006552116, 13.466396100088723), (-16.37620199513157, 13.466395663955748), (-16.37620199513157, 13.465570355998116), (-16.375376918099462, 13.465570355998116), (-16.375376481966494, 13.465570344577571), (-16.375376047028936, 13.465570310347246), (-16.37537561447892, 13.465570253400966), (-16.37537518550204, 13.465570173894795), (-16.375374761274088, 13.46557007204668), (-16.375374342957844, 13.465569948135768), (-16.375373931699883, 13.46556980250168), (-16.375373528627435, 13.465569635543615), (-16.3753731348453, 13.465569447719163), (-16.3753727514328, 13.465569239543157), (-16.37537237944084, 13.465569011586188), (-16.375372019889028, 13.465568764473069), (-16.37537167376287, 13.46556849888113), (-16.37537134201108, 13.465568215538337), (-16.375371025542954, 13.465567915221307), (-16.37537072522592, 13.46556759875319), (-16.37537044188312, 13.465567267001388), (-16.375370176291174, 13.465566920875235), (-16.375369929178067, 13.465566561323413), (-16.3753697012211, 13.465566189331449), (-16.3753694930451, 13.465565805918967), (-16.37536930522065, 13.46556541213682), (-16.375369138262577, 13.465565009064386), (-16.375368992628495, 13.465564597806415), (-16.375368868717576, 13.465564179490181), (-16.37536876686946, 13.465563755262226), (-16.375368687363295, 13.465563326285332), (-16.375368630417004, 13.465562893735317), (-16.37536859618667, 13.46556245879776), (-16.37536858476613, 13.465562022664797), (-16.37536858476613, 13.46389474008288), (-16.37536859618667, 13.463894303949905), (-16.375368630417004, 13.463893869012347), (-16.375368687363295, 13.46389343646233), (-16.37536876686946, 13.46389300748545), (-16.375368868717576, 13.463892583257493), (-16.375368992628495, 13.463892164941273), (-16.375369138262577, 13.463891753683288), (-16.37536930522065, 13.463891350610856), (-16.3753694930451, 13.463890956828722), (-16.3753697012211, 13.463890573416226), (-16.375369929178067, 13.46389020142425), (-16.375370176291174, 13.463889841872442), (-16.37537044188312, 13.463889495746301), (-16.37537072522592, 13.4638891639945), (-16.375371025542954, 13.46388884752637), (-16.37537134201108, 13.463888547209326), (-16.37537167376287, 13.463888263866545), (-16.375372019889028, 13.463887998274595), (-16.37537237944084, 13.463887751161474), (-16.3753727514328, 13.463887523204505), (-16.3753731348453, 13.463887315028524), (-16.375373528627435, 13.463887127204062), (-16.375373931699883, 13.463886960245995), (-16.375374342957844, 13.463886814611909), (-16.375374761274088, 13.463886690700997), (-16.37537518550204, 13.463886588852867), (-16.37537561447892, 13.463886509346723), (-16.375376047028936, 13.463886452400418), (-16.375376481966494, 13.463886418170093), (-16.375376918099462, 13.463886406749548), (-16.37620199513157, 13.463886406749548), (-16.37620199513157, 13.462235790834283), (-16.375376918099462, 13.462235790834283), (-16.375376481966494, 13.462235779413739), (-16.375376047028936, 13.462235745183426), (-16.37537561447892, 13.462235688237147), (-16.37537518550204, 13.462235608730976), (-16.375374761274088, 13.46223550688286), (-16.375374342957844, 13.462235382971922), (-16.375373931699883, 13.462235237337849), (-16.375373528627435, 13.46223507037977), (-16.3753731348453, 13.462234882555318), (-16.3753727514328, 13.462234674379326), (-16.37537237944084, 13.462234446422356), (-16.375372019889028, 13.462234199309249), (-16.37537167376287, 13.462233933717298), (-16.37537134201108, 13.462233650374506), (-16.375371025542954, 13.462233350057474), (-16.37537072522592, 13.462233033589357), (-16.37537044188312, 13.462232701837543), (-16.375370176291174, 13.462232355711402), (-16.375369929178067, 13.46223199615958), (-16.3753697012211, 13.462231624167618), (-16.3753694930451, 13.462231240755122), (-16.37536930522065, 13.462230846972988), (-16.375369138262577, 13.462230443900555), (-16.375368992628495, 13.462230032642584), (-16.375368868717576, 13.462229614326336), (-16.37536876686946, 13.462229190098382), (-16.375368687363295, 13.462228761121501), (-16.375368630417004, 13.462228328571484), (-16.37536859618667, 13.462227893633926), (-16.37536858476613, 13.462227457500964), (-16.37536858476613, 13.459726533628084), (-16.37536859618667, 13.459726097495109), (-16.375368630417004, 13.45972566255755), (-16.375368687363295, 13.459725230007546), (-16.37536876686946, 13.459724801030665), (-16.375368868717576, 13.45972437680271), (-16.375368992628495, 13.459723958486464), (-16.375369138262577, 13.459723547228517), (-16.37536930522065, 13.45972314415606), (-16.3753694930451, 13.459722750373926), (-16.3753697012211, 13.459722366961417), (-16.375369929178067, 13.459721994969454), (-16.375370176291174, 13.459721635417646), (-16.37537044188312, 13.459721289291505), (-16.37537072522592, 13.459720957539716), (-16.375371025542954, 13.459720641071574), (-16.37537134201108, 13.459720340754542), (-16.37537167376287, 13.459720057411737), (-16.375372019889028, 13.459719791819797), (-16.37537237944084, 13.45971954470669), (-16.3753727514328, 13.459719316749721), (-16.3753731348453, 13.459719108573728), (-16.375373528627435, 13.459718920749264), (-16.375373931699883, 13.459718753791199), (-16.375374342957844, 13.459718608157125), (-16.375374761274088, 13.4597184842462), (-16.37537518550204, 13.459718382398096), (-16.37537561447892, 13.459718302891913), (-16.375376047028936, 13.459718245945622), (-16.375376481966494, 13.459718211715296), (-16.375376918099462, 13.45971820029475), (-16.37620199513157, 13.45971820029475), (-16.37620199513157, 13.458892892337131), (-16.376202006552116, 13.458892456204156), (-16.376202040782445, 13.458892021266598), (-16.376202097728733, 13.458891588716595), (-16.3762021772349, 13.458891159739702), (-16.37620227908302, 13.458890735511746), (-16.376202402993936, 13.458890317195525), (-16.37620254862802, 13.458889905937541), (-16.376202715586093, 13.458889502865095), (-16.376202903410537, 13.45888910908296), (-16.37620311158654, 13.458888725670453), (-16.37620333954351, 13.458888353678502), (-16.37620358665662, 13.458887994126693), (-16.376203852248562, 13.458887648000553), (-16.37620413559136, 13.458887316248738), (-16.376204435908395, 13.458886999780622), (-16.376204752376523, 13.458886699463578), (-16.376205084128312, 13.458886416120786), (-16.376205430254466, 13.458886150528834), (-16.37620578980628, 13.458885903415727), (-16.37620616179824, 13.45888567545877), (-16.376206545210742, 13.458885467282776), (-16.37620693899288, 13.458885279458325), (-16.376207342065324, 13.458885112500235), (-16.376207753323285, 13.458884966866172), (-16.37620817163953, 13.458884842955236), (-16.37620859586748, 13.45888474110712), (-16.376209024844357, 13.45888466160095), (-16.376209457394374, 13.458884604654669), (-16.376209892331936, 13.458884570424331), (-16.376210328464904, 13.458884559003799), (-16.377035405497015, 13.458884559003799), (-16.377035405497015, 13.458059251046167), (-16.377035416917558, 13.458058814913192), (-16.377035451147886, 13.458058379975647), (-16.377035508094178, 13.458057947425617), (-16.377035587600343, 13.458057518448749), (-16.377035689448462, 13.458057094220807), (-16.377035813359374, 13.458056675904547), (-16.37703595899346, 13.458056264646588), (-16.377036125951534, 13.458055861574143), (-16.377036313775978, 13.458055467791997), (-16.377036521951982, 13.4580550843795), (-16.377036749908946, 13.45805471238755), (-16.37703699702206, 13.458054352835742), (-16.377037262614007, 13.458054006709576), (-16.377037545956803, 13.458053674957787), (-16.37703784627384, 13.45805335848967), (-16.37703816274196, 13.458053058172625), (-16.37703849449375, 13.45805277482982), (-16.377038840619907, 13.458052509237882), (-16.377039200171723, 13.458052262124761), (-16.37703957216368, 13.458052034167817), (-16.377039955576183, 13.458051825991813), (-16.37704034935832, 13.458051638167362), (-16.377040752430766, 13.458051471209282), (-16.377041163688727, 13.458051325575196), (-16.37704158200497, 13.458051201664285), (-16.377042006232923, 13.458051099816167), (-16.377042435209802, 13.458051020309997), (-16.377042867759815, 13.458050963363705), (-16.377043302697377, 13.45805092913338), (-16.377043738830345, 13.458050917712836), (-16.377868815862453, 13.458050917712836), (-16.377868815862453, 13.455558327173287), (-16.377868827282995, 13.455557891040325), (-16.37786886151332, 13.455557456102767), (-16.377868918459612, 13.455557023552762), (-16.37786899796578, 13.455556594575881), (-16.3778690998139, 13.455556170347913), (-16.377869223724815, 13.45555575203168), (-16.377869369358894, 13.455555340773708), (-16.37786953631697, 13.455554937701264), (-16.377869724141416, 13.45555454391913), (-16.377869932317417, 13.45555416050662), (-16.377870160274387, 13.45555378851467), (-16.377870407387498, 13.455553428962874), (-16.377870672979437, 13.455553082836696), (-16.377870956322237, 13.455552751084907), (-16.37787125663927, 13.45555243461679), (-16.377871573107395, 13.455552134299746), (-16.37787190485919, 13.45555185095694), (-16.377872250985348, 13.455551585365), (-16.37787261053716, 13.455551338251894), (-16.37787298252912, 13.455551110294925), (-16.37787336594162, 13.455550902118944), (-16.37787375972376, 13.455550714294482), (-16.3778741627962, 13.455550547336403), (-16.377874574054164, 13.455550401702341), (-16.37787499237041, 13.455550277791415), (-16.37787541659836, 13.455550175943287), (-16.37787584557524, 13.455550096437129), (-16.377876278125257, 13.45555003949085), (-16.377876713062815, 13.4555500052605), (-16.37787714919578, 13.455549993839968), (-16.379543969926665, 13.455549993839968), (-16.379544406059633, 13.4555500052605), (-16.379544840997188, 13.45555003949085), (-16.379545273547205, 13.455550096437129), (-16.379545702524084, 13.455550175943287), (-16.37954612675204, 13.455550277791415), (-16.379546545068283, 13.455550401702341), (-16.379546956326244, 13.455550547336403), (-16.37954735939869, 13.455550714294482), (-16.379547753180827, 13.455550902118944), (-16.37954813659333, 13.455551110294925), (-16.379548508585287, 13.455551338251894), (-16.379548868137096, 13.455551585365), (-16.379549214263253, 13.45555185095694), (-16.37954954601505, 13.455552134299746), (-16.379549862483174, 13.45555243461679), (-16.379550162800207, 13.455552751084907), (-16.379550446143007, 13.455553082836696), (-16.37955071173495, 13.455553428962874), (-16.379550958848057, 13.45555378851467), (-16.379551186805028, 13.45555416050662), (-16.379551394981032, 13.45555454391913), (-16.379551582805476, 13.455554937701264), (-16.37955174976355, 13.455555340773708), (-16.37955189539763, 13.45555575203168), (-16.379552019308548, 13.455556170347913), (-16.379552121156667, 13.455556594575881), (-16.379552200662832, 13.455557023552762), (-16.379552257609124, 13.455557456102767), (-16.379552291839452, 13.455557891040325), (-16.379552303259995, 13.455558327173287), (-16.379552303259995, 13.457225609755202), (-16.379552291839452, 13.457226045888179), (-16.379552257609124, 13.457226480825737), (-16.379552200662832, 13.457226913375752), (-16.379552121156667, 13.457227342352645), (-16.379552019308548, 13.457227766580589), (-16.37955189539763, 13.457228184896822), (-16.37955174976355, 13.457228596154781), (-16.379551582805476, 13.45722899922724), (-16.379551394981032, 13.457229393009374), (-16.379551186805028, 13.457229776421869), (-16.379550958848057, 13.457230148413833), (-16.37955071173495, 13.457230507965642), (-16.379550446143007, 13.457230854091794), (-16.379550162800207, 13.457231185843597), (-16.379549862483174, 13.457231502311712), (-16.37954954601505, 13.457231802628744), (-16.379549214263253, 13.457232085971562), (-16.379548868137096, 13.457232351563489), (-16.379548508585287, 13.457232598676608), (-16.37954813659333, 13.457232826633565), (-16.379547753180827, 13.45723303480957), (-16.37954735939869, 13.457233222634034), (-16.379546956326244, 13.4572333895921), (-16.379546545068283, 13.457233535226175), (-16.37954612675204, 13.457233659137087), (-16.379545702524084, 13.457233760985215), (-16.379545273547205, 13.457233840491373), (-16.379544840997188, 13.457233897437664), (-16.379544406059633, 13.457233931667991), (-16.379543969926665, 13.457233943088536), (-16.378718892894554, 13.457233943088536), (-16.378718892894554, 13.458050917712836), (-16.379543969926665, 13.458050917712836), (-16.379544406059633, 13.45805092913338), (-16.379544840997188, 13.458050963363705), (-16.379545273547205, 13.458051020309997), (-16.379545702524084, 13.458051099816167), (-16.37954612675204, 13.458051201664285), (-16.379546545068283, 13.458051325575196), (-16.379546956326244, 13.458051471209282), (-16.37954735939869, 13.458051638167362), (-16.379547753180827, 13.458051825991813), (-16.37954813659333, 13.458052034167817), (-16.379548508585287, 13.458052262124761), (-16.379548868137096, 13.458052509237882), (-16.379549214263253, 13.45805277482982), (-16.37954954601505, 13.458053058172625), (-16.379549862483174, 13.45805335848967), (-16.379550162800207, 13.458053674957787), (-16.379550446143007, 13.458054006709576), (-16.37955071173495, 13.458054352835742), (-16.379550958848057, 13.45805471238755), (-16.379551186805028, 13.4580550843795), (-16.379551394981032, 13.458055467791997), (-16.379551582805476, 13.458055861574143), (-16.37955174976355, 13.458056264646588), (-16.37955189539763, 13.458056675904547), (-16.379552019308548, 13.458057094220807), (-16.379552121156667, 13.458057518448749), (-16.379552200662832, 13.458057947425617), (-16.379552257609124, 13.458058379975647), (-16.379552291839452, 13.458058814913192), (-16.379552303259995, 13.458059251046167), (-16.379552303259995, 13.458884559003799), (-16.380369046958773, 13.458884559003799), (-16.380369046958773, 13.457225609755202), (-16.380369058379323, 13.457225173622254), (-16.380369092609648, 13.457224738684696), (-16.380369149555936, 13.457224306134666), (-16.380369229062104, 13.457223877157785), (-16.380369330910224, 13.457223452929842), (-16.380369454821135, 13.457223034613596), (-16.38036960045522, 13.457222623355625), (-16.380369767413296, 13.457222220283192), (-16.38036995523774, 13.457221826501058), (-16.380370163413744, 13.45722144308855), (-16.38037039137071, 13.457221071096587), (-16.38037063848382, 13.45722071154479), (-16.38037090407576, 13.457220365418612), (-16.380371187418564, 13.457220033666836), (-16.380371487735594, 13.457219717198706), (-16.380371804203723, 13.457219416881662), (-16.380372135955515, 13.45721913353887), (-16.380372482081672, 13.457218867946944), (-16.380372841633484, 13.45721862083381), (-16.380373213625443, 13.457218392876841), (-16.380373597037945, 13.457218184700835), (-16.38037399082008, 13.457217996876397), (-16.380374393892524, 13.457217829918319), (-16.38037480515049, 13.457217684284243), (-16.380375223466732, 13.45721756037332), (-16.380375647694684, 13.457217458525204), (-16.38037607667156, 13.457217379019033), (-16.380376509221577, 13.457217322072754), (-16.38037694415914, 13.457217287842429), (-16.380377380292106, 13.457217276421883), (-16.381202457324214, 13.457217276421883), (-16.381202457324214, 13.456391968464251), (-16.381202468744757, 13.456391532331288), (-16.381202502975082, 13.456391097393718), (-16.381202559921377, 13.456390664843713), (-16.38120263942754, 13.456390235866834), (-16.38120274127566, 13.456389811638891), (-16.381202865186577, 13.456389393322633), (-16.38120301082066, 13.456388982064686), (-16.38120317777873, 13.45638857899224), (-16.381203365603174, 13.456388185210093), (-16.38120357377918, 13.456387801797586), (-16.38120380173615, 13.456387429805622), (-16.38120404884926, 13.456387070253825), (-16.381204314441202, 13.456386724127672), (-16.381204597784002, 13.456386392375858), (-16.381204898101036, 13.45638607590774), (-16.381205214569157, 13.456385775590709), (-16.381205546320952, 13.456385492247904), (-16.38120589244711, 13.456385226655978), (-16.38120625199892, 13.456384979542847), (-16.38120662399088, 13.456384751585889), (-16.381207007403383, 13.456384543409884), (-16.38120740118552, 13.456384355585433), (-16.381207804257965, 13.456384188627368), (-16.381208215515922, 13.456384042993292), (-16.38120863383217, 13.456383919082368), (-16.38120905806012, 13.456383817234265), (-16.381209487037, 13.456383737728082), (-16.381209919587018, 13.456383680781789), (-16.381210354524573, 13.456383646551464), (-16.38121079065754, 13.45638363513092), (-16.382035867689655, 13.45638363513092), (-16.382035867689655, 13.455558327173287), (-16.382035879110198, 13.455557891040325), (-16.382035913340523, 13.455557456102767), (-16.382035970286818, 13.455557023552762), (-16.38203604979298, 13.455556594575881), (-16.382036151641103, 13.455556170347913), (-16.382036275552018, 13.45555575203168), (-16.382036421186097, 13.455555340773708), (-16.382036588144175, 13.455554937701264), (-16.38203677596862, 13.45555454391913), (-16.38203698414462, 13.45555416050662), (-16.38203721210159, 13.45555378851467), (-16.3820374592147, 13.455553428962874), (-16.38203772480664, 13.455553082836696), (-16.38203800814944, 13.455552751084907), (-16.382038308466473, 13.45555243461679), (-16.382038624934598, 13.455552134299746), (-16.382038956686394, 13.45555185095694), (-16.38203930281255, 13.455551585365), (-16.38203966236436, 13.455551338251894), (-16.38204003435632, 13.455551110294925), (-16.382040417768824, 13.455550902118944), (-16.38204081155096, 13.455550714294482), (-16.382041214623403, 13.455550547336403), (-16.38204162588137, 13.455550401702341), (-16.38204204419761, 13.455550277791415), (-16.382042468425563, 13.455550175943287), (-16.382042897402442, 13.455550096437129), (-16.38204332995246, 13.45555003949085), (-16.38204376489002, 13.4555500052605), (-16.382044201022982, 13.455549993839968), (-16.382869278055097, 13.455549993839968), (-16.382869278055097, 13.454724685882335), (-16.38286928947564, 13.454724249749372), (-16.382869323705968, 13.454723814811802), (-16.38286938065226, 13.454723382261799), (-16.382869460158425, 13.454722953284918), (-16.38286956200654, 13.454722529056975), (-16.38286968591746, 13.454722110740729), (-16.382869831551538, 13.45472169948277), (-16.382869998509616, 13.454721296410325), (-16.38287018633406, 13.454720902628177), (-16.382870394510064, 13.454720519215682), (-16.38287062246703, 13.454720147223718), (-16.382870869580138, 13.454719787671896), (-16.382871135172085, 13.454719441545757), (-16.38287141851488, 13.454719109793967), (-16.382871718831918, 13.454718793325824), (-16.382872035300043, 13.454718493008794), (-16.382872367051835, 13.45471820966599), (-16.382872713177992, 13.45471794407405), (-16.382873072729804, 13.45471769696093), (-16.38287344472176, 13.454717469003974), (-16.38287382813426, 13.45471726082798), (-16.382874221916403, 13.454717073003517), (-16.382874624988848, 13.454716906045451), (-16.38287503624681, 13.454716760411376), (-16.38287545456305, 13.454716636500452), (-16.382875878791005, 13.454716534652336), (-16.382876307767884, 13.454716455146166), (-16.3828767403179, 13.454716398199887), (-16.38287717525546, 13.454716363969547), (-16.382877611388427, 13.454716352549003)),)}}"
     ]
    }
   ],
   "source": [
    "settlements.to_file(workspace + r\"\\output.shp\", driver='ESRI Shapefile')\n",
    "settlements.to_file(workspace + r\"\\output.csv\", driver='CSV')"
   ]
  },
  {
   "cell_type": "code",
   "execution_count": null,
   "metadata": {},
   "outputs": [],
   "source": []
  },
  {
   "cell_type": "code",
   "execution_count": null,
   "metadata": {},
   "outputs": [],
   "source": []
  }
 ],
 "metadata": {
  "kernelspec": {
   "display_name": "Python 3",
   "language": "python",
   "name": "python3"
  },
  "language_info": {
   "codemirror_mode": {
    "name": "ipython",
    "version": 3
   },
   "file_extension": ".py",
   "mimetype": "text/x-python",
   "name": "python",
   "nbconvert_exporter": "python",
   "pygments_lexer": "ipython3",
   "version": "3.7.3"
  }
 },
 "nbformat": 4,
 "nbformat_minor": 2
}
