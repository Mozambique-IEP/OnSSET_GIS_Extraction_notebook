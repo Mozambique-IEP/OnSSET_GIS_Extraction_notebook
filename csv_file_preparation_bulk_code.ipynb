{
 "cells": [
  {
   "cell_type": "markdown",
   "metadata": {},
   "source": [
    "# GEP-OnSSET GIS-Extraction Notebook for GEP-OnSSET\n",
    "\n",
    "This is the GEP-OnSSET GIS extraction notebook that runs in bulk. \n",
    "First, browse and select each layer, then run the processing for all layers.\n",
    "\n",
    "You may start by selecting this cell, then in the menu click **Run > Run All Cells**"
   ]
  },
  {
   "cell_type": "markdown",
   "metadata": {
    "jp-MarkdownHeadingCollapsed": true
   },
   "source": [
    "### Useful hints and common error messages\n",
    "* Make sure that all input layers are using EPSG:4326 as the coordinate system\n",
    "* Make sure that the target \"crs\" is in a coordinate system using meters as the unit\n",
    "* It is often useful to clip all the input layers to the country boundaries in order to reduce processing times\n",
    "* Make sure that each dataset actually has some data within the country boundaries\n",
    "* Some of the datasets require the user to choose values from a dropdown list below\n",
    "* For hydro points and mini-grids, the vector layers need some specific column names to work\n",
    "* In case a dataset still does not work, try opening it in QGIS and run the *Fix geometries* tool and save the new layer.\n",
    "* If things do not work, it may be useful to go to the very top of this Jupyter Notebook and start again from cell 1"
   ]
  },
  {
   "cell_type": "markdown",
   "metadata": {},
   "source": [
    "## Importing necessary packages (Mandatory)\n",
    "\n",
    "Packages to be used are imported from the funcs.ipynb."
   ]
  },
  {
   "cell_type": "code",
   "execution_count": null,
   "metadata": {},
   "outputs": [],
   "source": [
    "%run funcs.ipynb\n",
    "import traceback\n",
    "import time\n",
    "#import warnings\n",
    "\n",
    "#warnings.filterwarnings(\"ignore\")"
   ]
  },
  {
   "cell_type": "markdown",
   "metadata": {},
   "source": [
    "# Step 1: Indicate the layers and parameters to be used"
   ]
  },
  {
   "cell_type": "markdown",
   "metadata": {},
   "source": [
    "First, define the coordinate system (crs). \n",
    "Then select the correct layer each time. If there is a layer you do not have or wish to use, press **Cancel**"
   ]
  },
  {
   "cell_type": "code",
   "execution_count": null,
   "metadata": {},
   "outputs": [],
   "source": [
    "crs = 'EPSG:3395'"
   ]
  },
  {
   "cell_type": "code",
   "execution_count": null,
   "metadata": {},
   "outputs": [],
   "source": [
    "messagebox.showinfo('OnSSET extraction', 'Output folder')\n",
    "workspace = filedialog.askdirectory()"
   ]
  },
  {
   "cell_type": "code",
   "execution_count": null,
   "metadata": {},
   "outputs": [],
   "source": [
    "messagebox.showinfo('OnSSET', 'Select the admin boundaries')\n",
    "admin = filedialog.askopenfilename(filetypes = ((\"vector\",[\"*.shp\", \"*.gpkg\", \"*.geojson\"]),(\"all files\",\"*.*\")))"
   ]
  },
  {
   "cell_type": "code",
   "execution_count": null,
   "metadata": {},
   "outputs": [],
   "source": [
    "messagebox.showinfo('OnSSET', 'Select the clusters')\n",
    "clusters_path = filedialog.askopenfilename(filetypes = ((\"vector\",[\"*.shp\", \"*.gpkg\", \"*.geojson\"]),(\"all files\",\"*.*\")))\n",
    "clusters = gpd.read_file(clusters_path)\n",
    "options = clusters.columns.tolist()\n",
    "messagebox.showinfo('OnSSET', 'Select the column with population counts in the clusters')\n",
    "x = dropdown_popup(options)\n",
    "print('Population column: ' + x)"
   ]
  },
  {
   "cell_type": "code",
   "execution_count": null,
   "metadata": {},
   "outputs": [],
   "source": [
    "## Raster layers\n",
    "messagebox.showinfo('OnSSET', 'Select the Solar GHI layer')\n",
    "ghi_layer = filedialog.askopenfilename(filetypes = ((\"rasters\",\"*.tif\"),(\"all files\",\"*.*\")))"
   ]
  },
  {
   "cell_type": "code",
   "execution_count": null,
   "metadata": {},
   "outputs": [],
   "source": [
    "messagebox.showinfo('OnSSET', 'Select the Travel Time layer')\n",
    "travel_layer = filedialog.askopenfilename(filetypes = ((\"rasters\",\"*.tif\"),(\"all files\",\"*.*\")))"
   ]
  },
  {
   "cell_type": "code",
   "execution_count": null,
   "metadata": {},
   "outputs": [],
   "source": [
    "messagebox.showinfo('OnSSET', 'Select the Elevation layer')\n",
    "elevation_layer = filedialog.askopenfilename(filetypes = ((\"rasters\",\"*.tif\"),(\"all files\",\"*.*\")))"
   ]
  },
  {
   "cell_type": "code",
   "execution_count": null,
   "metadata": {},
   "outputs": [],
   "source": [
    "messagebox.showinfo('OnSSET', 'Select the Land Cover layer')\n",
    "lc_layer = filedialog.askopenfilename(filetypes = ((\"rasters\",\"*.tif\"),(\"all files\",\"*.*\")))"
   ]
  },
  {
   "cell_type": "code",
   "execution_count": null,
   "metadata": {},
   "outputs": [],
   "source": [
    "messagebox.showinfo('OnSSET', 'Select the Wind layer')\n",
    "wind_layer = filedialog.askopenfilename(filetypes = ((\"rasters\",\"*.tif\"),(\"all files\",\"*.*\")))"
   ]
  },
  {
   "cell_type": "code",
   "execution_count": null,
   "metadata": {},
   "outputs": [],
   "source": [
    "messagebox.showinfo('OnSSET', 'Select the Night Lights layer')\n",
    "ntl_layer = filedialog.askopenfilename(filetypes = ((\"rasters\",\"*.tif\"),(\"all files\",\"*.*\")))"
   ]
  },
  {
   "cell_type": "code",
   "execution_count": null,
   "metadata": {},
   "outputs": [],
   "source": [
    "messagebox.showinfo('OnSSET', 'Select the Custom Demand layer')\n",
    "custDem_layer = filedialog.askopenfilename(filetypes = ((\"rasters\",\"*.tif\"),(\"all files\",\"*.*\")))"
   ]
  },
  {
   "cell_type": "code",
   "execution_count": null,
   "metadata": {},
   "outputs": [],
   "source": [
    "messagebox.showinfo('OnSSET', 'Select the Substations layer')\n",
    "sub_layer = filedialog.askopenfilename(filetypes = ((\"vector\",[\"*.shp\", \"*.gpkg\", \"*.geojson\"]),(\"all files\",\"*.*\")))"
   ]
  },
  {
   "cell_type": "code",
   "execution_count": null,
   "metadata": {},
   "outputs": [],
   "source": [
    "messagebox.showinfo('OnSSET', 'Select the Existing HV layer')\n",
    "HVexist_layer = filedialog.askopenfilename(filetypes = ((\"vector\",[\"*.shp\", \"*.gpkg\", \"*.geojson\"]),(\"all files\",\"*.*\")))"
   ]
  },
  {
   "cell_type": "code",
   "execution_count": null,
   "metadata": {},
   "outputs": [],
   "source": [
    "messagebox.showinfo('OnSSET', 'Select the Planned HV layer')\n",
    "HVplan_layer = filedialog.askopenfilename(filetypes = ((\"vector\",[\"*.shp\", \"*.gpkg\", \"*.geojson\"]),(\"all files\",\"*.*\")))"
   ]
  },
  {
   "cell_type": "code",
   "execution_count": null,
   "metadata": {},
   "outputs": [],
   "source": [
    "messagebox.showinfo('OnSSET', 'Select the Existing MV layer')\n",
    "MVexist_layer = filedialog.askopenfilename(filetypes = ((\"vector\",[\"*.shp\", \"*.gpkg\", \"*.geojson\"]),(\"all files\",\"*.*\")))"
   ]
  },
  {
   "cell_type": "code",
   "execution_count": null,
   "metadata": {},
   "outputs": [],
   "source": [
    "messagebox.showinfo('OnSSET', 'Select the Planned MV layer')\n",
    "MVplan_layer = filedialog.askopenfilename(filetypes = ((\"vector\",[\"*.shp\", \"*.gpkg\", \"*.geojson\"]),(\"all files\",\"*.*\")))"
   ]
  },
  {
   "cell_type": "code",
   "execution_count": null,
   "metadata": {},
   "outputs": [],
   "source": [
    "messagebox.showinfo('OnSSET', 'Select the Roads layer')\n",
    "road_layer = filedialog.askopenfilename(filetypes = ((\"vector\",[\"*.shp\", \"*.gpkg\", \"*.geojson\"]),(\"all files\",\"*.*\")))"
   ]
  },
  {
   "cell_type": "code",
   "execution_count": null,
   "metadata": {},
   "outputs": [],
   "source": [
    "messagebox.showinfo('OnSSET', 'Select the Distribution Transformer layer')\n",
    "trx_layer = filedialog.askopenfilename(filetypes = ((\"vector\",[\"*.shp\", \"*.gpkg\", \"*.geojson\"]),(\"all files\",\"*.*\")))"
   ]
  },
  {
   "cell_type": "code",
   "execution_count": null,
   "metadata": {},
   "outputs": [],
   "source": [
    "messagebox.showinfo('OnSSET', 'Select the Hydro layer')\n",
    "hydro_layer = filedialog.askopenfilename(filetypes = ((\"vector\",[\"*.shp\", \"*.gpkg\", \"*.geojson\"]),(\"all files\",\"*.*\")))\n",
    "hydro=gpd.read_file(hydro_layer)\n",
    "\n",
    "messagebox.showinfo('OnSSET', 'Select the column which describes the hydropower POWER potential in each location')\n",
    "options = hydro.columns.tolist()\n",
    "hydropower = dropdown_popup(options)\n",
    "\n",
    "messagebox.showinfo('OnSSET', 'Select the UNIT of the power potential')\n",
    "options=['W', 'kW', 'MW']\n",
    "hydrounit = dropdown_popup(options)\n",
    "print(hydropower)\n",
    "print(hydrounit)"
   ]
  },
  {
   "cell_type": "code",
   "execution_count": null,
   "metadata": {},
   "outputs": [],
   "source": [
    "messagebox.showinfo('OnSSET', 'Select the Mini Grid layer')\n",
    "exist_MG_layer = filedialog.askopenfilename(filetypes = ((\"vector\",[\"*.shp\", \"*.gpkg\", \"*.geojson\"]),(\"all files\",\"*.*\")))"
   ]
  },
  {
   "cell_type": "code",
   "execution_count": null,
   "metadata": {},
   "outputs": [],
   "source": [
    "messagebox.showinfo('OnSSET', 'Select the Admin 1 layer')\n",
    "adm1_layer = filedialog.askopenfilename(filetypes = ((\"vector\",[\"*.shp\", \"*.gpkg\", \"*.geojson\"]),(\"all files\",\"*.*\")))\n",
    "\n",
    "if adm1_layer != '':\n",
    "    admin_1 = gpd.read_file(adm1_layer)\n",
    "    messagebox.showinfo('OnSSET', 'Select the column which contains the Admin 1 level names')\n",
    "    options = admin_1.columns.tolist()\n",
    "    admin_col_name = dropdown_popup(options)"
   ]
  },
  {
   "cell_type": "markdown",
   "metadata": {},
   "source": [
    "# Step 2: Process layers"
   ]
  },
  {
   "cell_type": "markdown",
   "metadata": {},
   "source": [
    "## Import admin"
   ]
  },
  {
   "cell_type": "code",
   "execution_count": null,
   "metadata": {
    "scrolled": true
   },
   "outputs": [],
   "source": [
    "admin = gpd.read_file(admin)"
   ]
  },
  {
   "cell_type": "markdown",
   "metadata": {},
   "source": [
    "## Extract Global Horizontal Irradiation (GHI) from Raster layer"
   ]
  },
  {
   "cell_type": "code",
   "execution_count": null,
   "metadata": {},
   "outputs": [],
   "source": [
    "out, ghi_path = zonal_stat_bulk('GHI', ghi_layer, clusters, 'mean')\n",
    "if type(out) == gpd.geodataframe.GeoDataFrame:\n",
    "    clusters = out"
   ]
  },
  {
   "cell_type": "markdown",
   "metadata": {
    "collapsed": true,
    "jupyter": {
     "outputs_hidden": true
    }
   },
   "source": [
    "## Extract Travel Time from Raster layer"
   ]
  },
  {
   "cell_type": "code",
   "execution_count": null,
   "metadata": {},
   "outputs": [],
   "source": [
    "out, travel_path = zonal_stat_bulk('TravelTime', travel_layer, clusters, 'mean')\n",
    "if type(out) == gpd.geodataframe.GeoDataFrame:\n",
    "    clusters = out"
   ]
  },
  {
   "cell_type": "markdown",
   "metadata": {},
   "source": [
    "## Extract Land Cover from Raster layer"
   ]
  },
  {
   "cell_type": "code",
   "execution_count": null,
   "metadata": {},
   "outputs": [],
   "source": [
    "out, lc_path = zonal_stat_bulk('LandCover', lc_layer, clusters, 'mode')\n",
    "if type(out) == gpd.geodataframe.GeoDataFrame:\n",
    "    clusters = out"
   ]
  },
  {
   "cell_type": "markdown",
   "metadata": {},
   "source": [
    "## Extract Elevation and Slope from Raster layer"
   ]
  },
  {
   "cell_type": "code",
   "execution_count": null,
   "metadata": {},
   "outputs": [],
   "source": [
    "try:\n",
    "    clusters = processing_elevation_and_slope_bulk(elevation_layer, \"Elevation\",\"mean\",clusters, workspace,crs)\n",
    "except Error as e:\n",
    "    print('Could not process Elevation, or layer was not selected')\n",
    "    print(e)"
   ]
  },
  {
   "cell_type": "markdown",
   "metadata": {},
   "source": [
    "## Extract Wind Velocity from Raster layer"
   ]
  },
  {
   "cell_type": "code",
   "execution_count": null,
   "metadata": {},
   "outputs": [],
   "source": [
    "out, wind_path = zonal_stat_bulk('WindVel', wind_layer, clusters, 'mean')\n",
    "if type(out) == gpd.geodataframe.GeoDataFrame:\n",
    "    clusters = out"
   ]
  },
  {
   "cell_type": "markdown",
   "metadata": {},
   "source": [
    "## Extract Night Lights from Raster layer"
   ]
  },
  {
   "cell_type": "code",
   "execution_count": null,
   "metadata": {},
   "outputs": [],
   "source": [
    "out, ntl_path = zonal_stat_bulk('NightLight', ntl_layer, clusters, 'mean')\n",
    "if type(out) == gpd.geodataframe.GeoDataFrame:\n",
    "    clusters = out"
   ]
  },
  {
   "cell_type": "markdown",
   "metadata": {},
   "source": [
    "## Extract Custom Demand from Raster layer"
   ]
  },
  {
   "cell_type": "code",
   "execution_count": null,
   "metadata": {},
   "outputs": [],
   "source": [
    "out, cd_path = zonal_stat_bulk('CustomDemand', custDem_layer, clusters, 'mean')\n",
    "if type(out) == gpd.geodataframe.GeoDataFrame:\n",
    "    clusters = out"
   ]
  },
  {
   "cell_type": "markdown",
   "metadata": {},
   "source": [
    "## Preparing to run the vector data"
   ]
  },
  {
   "cell_type": "code",
   "execution_count": null,
   "metadata": {},
   "outputs": [],
   "source": [
    "clusters = preparing_for_vectors(workspace, clusters, crs)"
   ]
  },
  {
   "cell_type": "markdown",
   "metadata": {},
   "source": [
    "## Extract Distance from Substations (Vector point layer)"
   ]
  },
  {
   "cell_type": "code",
   "execution_count": null,
   "metadata": {},
   "outputs": [],
   "source": [
    "out, substation_path = processing_points_bulk(\"Substation\", sub_layer, admin, crs, workspace, clusters, mg_filter=False)\n",
    "if type(out) == gpd.geodataframe.GeoDataFrame:\n",
    "    clusters = out"
   ]
  },
  {
   "cell_type": "markdown",
   "metadata": {},
   "source": [
    "## Extract Distance from Existing high voltage lines (Vector line layer)"
   ]
  },
  {
   "cell_type": "code",
   "execution_count": null,
   "metadata": {},
   "outputs": [],
   "source": [
    "out, existing_hv_path = processing_lines_bulk(\"Existing_HV\", HVexist_layer, admin, crs, workspace, clusters)\n",
    "if type(out) == gpd.geodataframe.GeoDataFrame:\n",
    "    clusters = out"
   ]
  },
  {
   "cell_type": "markdown",
   "metadata": {},
   "source": [
    "## Extract Distance from Planned high voltage lines (Vector line layer)"
   ]
  },
  {
   "cell_type": "code",
   "execution_count": null,
   "metadata": {},
   "outputs": [],
   "source": [
    "out, planned_hv_path = processing_lines_bulk(\"Planned_HV\", HVplan_layer, admin, crs, workspace, clusters)\n",
    "if type(out) == gpd.geodataframe.GeoDataFrame:\n",
    "    clusters = out"
   ]
  },
  {
   "cell_type": "markdown",
   "metadata": {},
   "source": [
    "## Extract Distance from Existing medium voltage lines (Vector line layer) "
   ]
  },
  {
   "cell_type": "code",
   "execution_count": null,
   "metadata": {},
   "outputs": [],
   "source": [
    "out, existing_mv_path = processing_lines_bulk(\"Existing_MV\", MVexist_layer, admin, crs, workspace, clusters)\n",
    "if type(out) == gpd.geodataframe.GeoDataFrame:\n",
    "    clusters = out"
   ]
  },
  {
   "cell_type": "markdown",
   "metadata": {},
   "source": [
    "## Extract Distance from Planned medium voltage lines (Vector line layer)"
   ]
  },
  {
   "cell_type": "code",
   "execution_count": null,
   "metadata": {},
   "outputs": [],
   "source": [
    "out, planned_mv_path = processing_lines_bulk(\"Planned_MV\", MVplan_layer, admin, crs, workspace, clusters)\n",
    "if type(out) == gpd.geodataframe.GeoDataFrame:\n",
    "    clusters = out"
   ]
  },
  {
   "cell_type": "markdown",
   "metadata": {},
   "source": [
    "## Extract Distance from Roads (Vector line layer)"
   ]
  },
  {
   "cell_type": "code",
   "execution_count": null,
   "metadata": {},
   "outputs": [],
   "source": [
    "out, road_path = processing_lines_bulk(\"Road\", road_layer, admin, crs, workspace, clusters)\n",
    "if type(out) == gpd.geodataframe.GeoDataFrame:\n",
    "    clusters = out"
   ]
  },
  {
   "cell_type": "markdown",
   "metadata": {},
   "source": [
    "## Extract Distance from Transformers (Vector point layer)"
   ]
  },
  {
   "cell_type": "code",
   "execution_count": null,
   "metadata": {},
   "outputs": [],
   "source": [
    "out, trx_path = processing_points_bulk(\"Service Transformer\", trx_layer, admin, crs, workspace, clusters, mg_filter=False)\n",
    "if type(out) == gpd.geodataframe.GeoDataFrame:\n",
    "    clusters = out"
   ]
  },
  {
   "cell_type": "markdown",
   "metadata": {},
   "source": [
    "## Extract Distance from hydro points (Vector point layer)"
   ]
  },
  {
   "cell_type": "code",
   "execution_count": null,
   "metadata": {
    "code_folding": []
   },
   "outputs": [],
   "source": [
    "out = hydro_bulk(admin, hydro, hydropower, hydrounit, crs, workspace, clusters)\n",
    "if type(out) == gpd.geodataframe.GeoDataFrame:\n",
    "    clusters = out"
   ]
  },
  {
   "cell_type": "markdown",
   "metadata": {},
   "source": [
    "## Adding admin 1 name to clusters (Vector polygon layer)\n"
   ]
  },
  {
   "cell_type": "code",
   "execution_count": null,
   "metadata": {},
   "outputs": [],
   "source": [
    "if adm1_layer != '':\n",
    "    out = admin_1_bulk(\"Admin_1\", admin_1, admin_col_name, crs, workspace, clusters)\n",
    "    if type(out) == gpd.geodataframe.GeoDataFrame:\n",
    "        clusters = out"
   ]
  },
  {
   "cell_type": "markdown",
   "metadata": {},
   "source": [
    "## Conditioning & Export (Mandatory)\n",
    "\n",
    "This is the final cell in the extraction. This cell has to be run."
   ]
  },
  {
   "cell_type": "code",
   "execution_count": null,
   "metadata": {},
   "outputs": [],
   "source": [
    "clusters = conditioning(clusters, workspace, x)\n",
    "print('Workspace: ', workspace)"
   ]
  },
  {
   "cell_type": "code",
   "execution_count": null,
   "metadata": {},
   "outputs": [],
   "source": []
  }
 ],
 "metadata": {
  "celltoolbar": "Raw Cell Format",
  "kernelspec": {
   "display_name": "Python 3 (ipykernel)",
   "language": "python",
   "name": "python3"
  },
  "language_info": {
   "codemirror_mode": {
    "name": "ipython",
    "version": 3
   },
   "file_extension": ".py",
   "mimetype": "text/x-python",
   "name": "python",
   "nbconvert_exporter": "python",
   "pygments_lexer": "ipython3",
   "version": "3.12.9"
  }
 },
 "nbformat": 4,
 "nbformat_minor": 4
}
