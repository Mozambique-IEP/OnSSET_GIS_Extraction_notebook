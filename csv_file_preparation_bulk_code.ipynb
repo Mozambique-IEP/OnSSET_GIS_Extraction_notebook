{
 "cells": [
  {
   "cell_type": "markdown",
   "metadata": {},
   "source": [
    "# GEP-OnSSET GIS-Extraction Notebook for GEP-OnSSET\n",
    "\n",
    "This is the GEP-OnSSET GIS extraction notebook that runs in bulk. \n",
    "First, browse and select each layer, then run the processing for all layers.\n",
    "\n",
    "You may start by selecting this cell, then in the menu click **Run > Run All Cells**"
   ]
  },
  {
   "cell_type": "markdown",
   "metadata": {
    "jp-MarkdownHeadingCollapsed": true
   },
   "source": [
    "### Useful hints and common error messages\n",
    "* Make sure that all input layers are using EPSG:4326 as the coordinate system\n",
    "* Make sure that the target \"crs\" is in a coordinate system using meters as the unit\n",
    "* It is often useful to clip all the input layers to the country boundaries in order to reduce processing times\n",
    "* Make sure that each dataset actually has some data within the country boundaries\n",
    "* Some of the datasets require the user to choose values from a dropdown list below\n",
    "* For hydro points and mini-grids, the vector layers need some specific column names to work\n",
    "* In case a dataset still does not work, try opening it in QGIS and run the *Fix geometries* tool and save the new layer.\n",
    "* If things do not work, it may be useful to go to the very top of this Jupyter Notebook and start again from cell 1"
   ]
  },
  {
   "cell_type": "markdown",
   "metadata": {},
   "source": [
    "## Importing necessary packages (Mandatory)\n",
    "\n",
    "Packages to be used are imported from the funcs.ipynb."
   ]
  },
  {
   "cell_type": "code",
   "execution_count": null,
   "metadata": {},
   "outputs": [],
   "source": [
    "%run funcs.ipynb\n",
    "import traceback\n",
    "import time\n",
    "#import warnings\n",
    "\n",
    "#warnings.filterwarnings(\"ignore\")"
   ]
  },
  {
   "cell_type": "markdown",
   "metadata": {},
   "source": [
    "# Step 1: Indicate the layers and parameters to be used"
   ]
  },
  {
   "cell_type": "markdown",
   "metadata": {},
   "source": [
    "First, define the coordinate system (crs). \n",
    "Then select the correct layer each time. If there is a layer you do not have or wish to use, press **Cancel**"
   ]
  },
  {
   "cell_type": "code",
   "execution_count": null,
   "metadata": {},
   "outputs": [],
   "source": [
    "crs = 'EPSG:3395'"
   ]
  },
  {
   "cell_type": "code",
   "execution_count": null,
   "metadata": {},
   "outputs": [],
   "source": [
    "messagebox.showinfo('OnSSET extraction', 'Output folder')\n",
    "workspace = filedialog.askdirectory()"
   ]
  },
  {
   "cell_type": "code",
   "execution_count": null,
   "metadata": {},
   "outputs": [],
   "source": [
    "messagebox.showinfo('OnSSET', 'Select the admin boundaries')\n",
    "admin = filedialog.askopenfilename(filetypes = ((\"vector\",[\"*.shp\", \"*.gpkg\", \"*.geojson\"]),(\"all files\",\"*.*\")))"
   ]
  },
  {
   "cell_type": "code",
   "execution_count": null,
   "metadata": {},
   "outputs": [],
   "source": [
    "messagebox.showinfo('OnSSET', 'Select the clusters')\n",
    "clusters_path = filedialog.askopenfilename(filetypes = ((\"vector\",[\"*.shp\", \"*.gpkg\", \"*.geojson\"]),(\"all files\",\"*.*\")))\n",
    "clusters = gpd.read_file(clusters_path)\n",
    "options = clusters.columns.tolist()\n",
    "messagebox.showinfo('OnSSET', 'Select the column with population counts in the clusters')\n",
    "x = dropdown_popup(options)\n",
    "print('Population column: ' + x)\n",
    "clusters = clusters[~clusters.geometry.is_empty & clusters.geometry.notnull()].copy()\n",
    "# Fix invalid geometries\n",
    "clusters['geometry'] = clusters['geometry'].buffer(0)"
   ]
  },
  {
   "cell_type": "code",
   "execution_count": null,
   "metadata": {},
   "outputs": [],
   "source": [
    "## Raster layers\n",
    "messagebox.showinfo('OnSSET', 'Select the Solar GHI layer')\n",
    "ghi_layer = filedialog.askopenfilename(filetypes = ((\"rasters\",\"*.tif\"),(\"all files\",\"*.*\")))"
   ]
  },
  {
   "cell_type": "code",
   "execution_count": null,
   "metadata": {},
   "outputs": [],
   "source": [
    "messagebox.showinfo('OnSSET', 'Select the Travel Time layer')\n",
    "travel_layer = filedialog.askopenfilename(filetypes = ((\"rasters\",\"*.tif\"),(\"all files\",\"*.*\")))"
   ]
  },
  {
   "cell_type": "code",
   "execution_count": null,
   "metadata": {},
   "outputs": [],
   "source": [
    "messagebox.showinfo('OnSSET', 'Select the Elevation layer')\n",
    "elevation_layer = filedialog.askopenfilename(filetypes = ((\"rasters\",\"*.tif\"),(\"all files\",\"*.*\")))"
   ]
  },
  {
   "cell_type": "code",
   "execution_count": null,
   "metadata": {},
   "outputs": [],
   "source": [
    "messagebox.showinfo('OnSSET', 'Select the Land Cover layer')\n",
    "lc_layer = filedialog.askopenfilename(filetypes = ((\"rasters\",\"*.tif\"),(\"all files\",\"*.*\")))"
   ]
  },
  {
   "cell_type": "code",
   "execution_count": null,
   "metadata": {},
   "outputs": [],
   "source": [
    "messagebox.showinfo('OnSSET', 'Select the Wind layer')\n",
    "wind_layer = filedialog.askopenfilename(filetypes = ((\"rasters\",\"*.tif\"),(\"all files\",\"*.*\")))"
   ]
  },
  {
   "cell_type": "code",
   "execution_count": null,
   "metadata": {},
   "outputs": [],
   "source": [
    "messagebox.showinfo('OnSSET', 'Select the Night Lights layer')\n",
    "ntl_layer = filedialog.askopenfilename(filetypes = ((\"rasters\",\"*.tif\"),(\"all files\",\"*.*\")))"
   ]
  },
  {
   "cell_type": "code",
   "execution_count": null,
   "metadata": {},
   "outputs": [],
   "source": [
    "messagebox.showinfo('OnSSET', 'Select the Custom Demand layer')\n",
    "custDem_layer = filedialog.askopenfilename(filetypes = ((\"rasters\",\"*.tif\"),(\"all files\",\"*.*\")))"
   ]
  },
  {
   "cell_type": "code",
   "execution_count": null,
   "metadata": {},
   "outputs": [],
   "source": [
    "messagebox.showinfo('OnSSET', 'Select the Substations layer')\n",
    "sub_layer = filedialog.askopenfilename(filetypes = ((\"vector\",[\"*.shp\", \"*.gpkg\", \"*.geojson\"]),(\"all files\",\"*.*\")))"
   ]
  },
  {
   "cell_type": "code",
   "execution_count": null,
   "metadata": {},
   "outputs": [],
   "source": [
    "messagebox.showinfo('OnSSET', 'Select the Existing HV layer')\n",
    "HVexist_layer = filedialog.askopenfilename(filetypes = ((\"vector\",[\"*.shp\", \"*.gpkg\", \"*.geojson\"]),(\"all files\",\"*.*\")))"
   ]
  },
  {
   "cell_type": "code",
   "execution_count": null,
   "metadata": {},
   "outputs": [],
   "source": [
    "messagebox.showinfo('OnSSET', 'Select the Planned HV layer')\n",
    "HVplan_layer = filedialog.askopenfilename(filetypes = ((\"vector\",[\"*.shp\", \"*.gpkg\", \"*.geojson\"]),(\"all files\",\"*.*\")))"
   ]
  },
  {
   "cell_type": "code",
   "execution_count": null,
   "metadata": {},
   "outputs": [],
   "source": [
    "messagebox.showinfo('OnSSET', 'Select the Existing MV layer')\n",
    "MVexist_layer = filedialog.askopenfilename(filetypes = ((\"vector\",[\"*.shp\", \"*.gpkg\", \"*.geojson\"]),(\"all files\",\"*.*\")))"
   ]
  },
  {
   "cell_type": "code",
   "execution_count": null,
   "metadata": {},
   "outputs": [],
   "source": [
    "messagebox.showinfo('OnSSET', 'Select the Planned MV layer')\n",
    "MVplan_layer = filedialog.askopenfilename(filetypes = ((\"vector\",[\"*.shp\", \"*.gpkg\", \"*.geojson\"]),(\"all files\",\"*.*\")))"
   ]
  },
  {
   "cell_type": "code",
   "execution_count": null,
   "metadata": {},
   "outputs": [],
   "source": [
    "messagebox.showinfo('OnSSET', 'Select the Roads layer')\n",
    "road_layer = filedialog.askopenfilename(filetypes = ((\"vector\",[\"*.shp\", \"*.gpkg\", \"*.geojson\"]),(\"all files\",\"*.*\")))"
   ]
  },
  {
   "cell_type": "code",
   "execution_count": null,
   "metadata": {},
   "outputs": [],
   "source": [
    "messagebox.showinfo('OnSSET', 'Select the Distribution Transformer layer')\n",
    "trx_layer = filedialog.askopenfilename(filetypes = ((\"vector\",[\"*.shp\", \"*.gpkg\", \"*.geojson\"]),(\"all files\",\"*.*\")))"
   ]
  },
  {
   "cell_type": "code",
   "execution_count": null,
   "metadata": {},
   "outputs": [],
   "source": [
    "messagebox.showinfo('OnSSET', 'Select the Hydro layer')\n",
    "hydro_layer = filedialog.askopenfilename(filetypes = ((\"vector\",[\"*.shp\", \"*.gpkg\", \"*.geojson\"]),(\"all files\",\"*.*\")))\n",
    "\n",
    "if hydro_layer != '':\n",
    "    hydro=gpd.read_file(hydro_layer)\n",
    "    \n",
    "    messagebox.showinfo('OnSSET', 'Select the column which describes the hydropower POWER potential in each location')\n",
    "    options = hydro.columns.tolist()\n",
    "    hydropower = dropdown_popup(options)\n",
    "    \n",
    "    messagebox.showinfo('OnSSET', 'Select the UNIT of the power potential')\n",
    "    options=['W', 'kW', 'MW']\n",
    "    hydrounit = dropdown_popup(options)\n",
    "    print(hydropower)\n",
    "    print(hydrounit)"
   ]
  },
  {
   "cell_type": "code",
   "execution_count": null,
   "metadata": {},
   "outputs": [],
   "source": [
    "messagebox.showinfo('OnSSET', 'Select the Mini Grid layer')\n",
    "exist_MG_layer = filedialog.askopenfilename(filetypes = ((\"vector\",[\"*.shp\", \"*.gpkg\", \"*.geojson\"]),(\"all files\",\"*.*\")))"
   ]
  },
  {
   "cell_type": "code",
   "execution_count": null,
   "metadata": {},
   "outputs": [],
   "source": [
    "messagebox.showinfo('OnSSET', 'Select the Admin 1 layer')\n",
    "adm1_layer = filedialog.askopenfilename(filetypes = ((\"vector\",[\"*.shp\", \"*.gpkg\", \"*.geojson\"]),(\"all files\",\"*.*\")))\n",
    "\n",
    "if adm1_layer != '':\n",
    "    admin_1_data = gpd.read_file(adm1_layer)\n",
    "    messagebox.showinfo('OnSSET', 'Select the column which contains the Admin 1 level names')\n",
    "    options = admin_1_data.columns.tolist()\n",
    "    admin_col_name = dropdown_popup(options)"
   ]
  },
  {
   "cell_type": "markdown",
   "metadata": {},
   "source": [
    "# Step 2: Process layers"
   ]
  },
  {
   "cell_type": "markdown",
   "metadata": {},
   "source": [
    "## Import admin"
   ]
  },
  {
   "cell_type": "code",
   "execution_count": null,
   "metadata": {
    "scrolled": true
   },
   "outputs": [],
   "source": [
    "admin = gpd.read_file(admin)"
   ]
  },
  {
   "cell_type": "markdown",
   "metadata": {},
   "source": [
    "## Extract Global Horizontal Irradiation (GHI) from Raster layer"
   ]
  },
  {
   "cell_type": "code",
   "execution_count": null,
   "metadata": {},
   "outputs": [],
   "source": [
    "if ghi_layer != '':\n",
    "    out, ghi_path = zonal_stats_exact('GHI', clusters, 'mean', ghi_layer)\n",
    "    if type(out) == gpd.geodataframe.GeoDataFrame:\n",
    "        clusters = out\n",
    "else:\n",
    "    print('GHI layer not selected')"
   ]
  },
  {
   "cell_type": "markdown",
   "metadata": {
    "collapsed": true,
    "jupyter": {
     "outputs_hidden": true
    }
   },
   "source": [
    "## Extract Travel Time from Raster layer"
   ]
  },
  {
   "cell_type": "code",
   "execution_count": null,
   "metadata": {},
   "outputs": [],
   "source": [
    "if travel_layer != '':\n",
    "    out, travel_path = zonal_stats_exact('TravelTime', clusters, 'mean', travel_layer)\n",
    "    if type(out) == gpd.geodataframe.GeoDataFrame:\n",
    "        clusters = out\n",
    "else:\n",
    "    print('Travel Time layer not selected')"
   ]
  },
  {
   "cell_type": "markdown",
   "metadata": {},
   "source": [
    "## Extract Land Cover from Raster layer"
   ]
  },
  {
   "cell_type": "code",
   "execution_count": null,
   "metadata": {},
   "outputs": [],
   "source": [
    "if lc_layer != '':\n",
    "    out, lc_path = zonal_stats_exact('LandCover', clusters, 'majority', lc_layer)\n",
    "    if type(out) == gpd.geodataframe.GeoDataFrame:\n",
    "        clusters = out\n",
    "else:\n",
    "    print('Land Cover layer not selected')"
   ]
  },
  {
   "cell_type": "markdown",
   "metadata": {},
   "source": [
    "## Extract Elevation and Slope from Raster layer"
   ]
  },
  {
   "cell_type": "code",
   "execution_count": null,
   "metadata": {},
   "outputs": [],
   "source": [
    "if elevation_layer != '':\n",
    "    try:\n",
    "        clusters = processing_elevation_and_slope(\"Elevation\", \"mean\", clusters, workspace, crs, elevation_layer)\n",
    "    except Exception as e:\n",
    "        print('Could not process Elevation, or layer was not selected')\n",
    "        print(e)\n",
    "else:\n",
    "    print('Elevation layer not selected')"
   ]
  },
  {
   "cell_type": "markdown",
   "metadata": {},
   "source": [
    "## Extract Wind Velocity from Raster layer"
   ]
  },
  {
   "cell_type": "code",
   "execution_count": null,
   "metadata": {},
   "outputs": [],
   "source": [
    "if wind_layer != '':\n",
    "    out, wind_path = zonal_stats_exact('WindVel', clusters, 'mean', wind_layer)\n",
    "    if type(out) == gpd.geodataframe.GeoDataFrame:\n",
    "        clusters = out\n",
    "else:\n",
    "    print('Wind Velocity layer not selected')"
   ]
  },
  {
   "cell_type": "markdown",
   "metadata": {},
   "source": [
    "## Extract Night Lights from Raster layer"
   ]
  },
  {
   "cell_type": "code",
   "execution_count": null,
   "metadata": {},
   "outputs": [],
   "source": [
    "if ntl_layer != '':\n",
    "    out, ntl_path = zonal_stats_exact('NightLight', clusters, 'mean', ntl_layer)\n",
    "    if type(out) == gpd.geodataframe.GeoDataFrame:\n",
    "        clusters = out\n",
    "else:\n",
    "    print('NightLight layer not selected')"
   ]
  },
  {
   "cell_type": "markdown",
   "metadata": {},
   "source": [
    "## Extract Custom Demand from Raster layer"
   ]
  },
  {
   "cell_type": "code",
   "execution_count": null,
   "metadata": {},
   "outputs": [],
   "source": [
    "if custDem_layer != '':\n",
    "    out, cd_path = zonal_stats_exact('CustomDemand', clusters, 'mean', custDem_layer)\n",
    "    if type(out) == gpd.geodataframe.GeoDataFrame:\n",
    "        clusters = out\n",
    "else:\n",
    "    print('CustomDemand layer not selected')"
   ]
  },
  {
   "cell_type": "markdown",
   "metadata": {},
   "source": [
    "## Preparing to run the vector data"
   ]
  },
  {
   "cell_type": "code",
   "execution_count": null,
   "metadata": {},
   "outputs": [],
   "source": [
    "clusters = preparing_for_vectors(workspace, clusters, crs)"
   ]
  },
  {
   "cell_type": "markdown",
   "metadata": {},
   "source": [
    "## Extract Distance from Substations (Vector point layer)"
   ]
  },
  {
   "cell_type": "code",
   "execution_count": null,
   "metadata": {},
   "outputs": [],
   "source": [
    "if sub_layer != '':\n",
    "    out, substation_path = processing_points(\"Substation\", admin, crs, workspace, clusters, False, sub_layer)\n",
    "    if type(out) == gpd.geodataframe.GeoDataFrame:\n",
    "        clusters = out\n",
    "else:\n",
    "    print('Substation layer not selected')"
   ]
  },
  {
   "cell_type": "markdown",
   "metadata": {},
   "source": [
    "## Extract Distance from Existing high voltage lines (Vector line layer)"
   ]
  },
  {
   "cell_type": "code",
   "execution_count": null,
   "metadata": {},
   "outputs": [],
   "source": [
    "if HVexist_layer != '':\n",
    "    out, existing_hv_path = processing_lines(\"Existing_HV\", admin, crs, workspace, clusters, HVexist_layer)\n",
    "    if type(out) == gpd.geodataframe.GeoDataFrame:\n",
    "        clusters = out\n",
    "else:\n",
    "    print('Existing HV lines layer not selected')"
   ]
  },
  {
   "cell_type": "markdown",
   "metadata": {},
   "source": [
    "## Extract Distance from Planned high voltage lines (Vector line layer)"
   ]
  },
  {
   "cell_type": "code",
   "execution_count": null,
   "metadata": {},
   "outputs": [],
   "source": [
    "if HVplan_layer != '':\n",
    "    out, planned_hv_path = processing_lines(\"Planned_HV\", admin, crs, workspace, clusters, HVplan_layer)\n",
    "    if type(out) == gpd.geodataframe.GeoDataFrame:\n",
    "        clusters = out\n",
    "else:\n",
    "    print('Planned HV lines layer not selected')"
   ]
  },
  {
   "cell_type": "markdown",
   "metadata": {},
   "source": [
    "## Extract Distance from Existing medium voltage lines (Vector line layer) "
   ]
  },
  {
   "cell_type": "code",
   "execution_count": null,
   "metadata": {},
   "outputs": [],
   "source": [
    "if MVexist_layer != '':\n",
    "    out, existing_mv_path = processing_lines(\"Existing_MV\", admin, crs, workspace, clusters, MVexist_layer)\n",
    "    if type(out) == gpd.geodataframe.GeoDataFrame:\n",
    "        clusters = out\n",
    "else:\n",
    "    print('Existing MV lines layer not selected')"
   ]
  },
  {
   "cell_type": "markdown",
   "metadata": {},
   "source": [
    "## Extract Distance from Planned medium voltage lines (Vector line layer)"
   ]
  },
  {
   "cell_type": "code",
   "execution_count": null,
   "metadata": {},
   "outputs": [],
   "source": [
    "if MVplan_layer != '':\n",
    "    out, planned_mv_path = processing_lines(\"Planned_MV\", admin, crs, workspace, clusters, MVplan_layer)\n",
    "    if type(out) == gpd.geodataframe.GeoDataFrame:\n",
    "        clusters = out\n",
    "else:\n",
    "    print('Planned MV lines layer not selected')"
   ]
  },
  {
   "cell_type": "markdown",
   "metadata": {},
   "source": [
    "## Extract Distance from Roads (Vector line layer)"
   ]
  },
  {
   "cell_type": "code",
   "execution_count": null,
   "metadata": {},
   "outputs": [],
   "source": [
    "if road_layer != '':\n",
    "    out, road_path = processing_lines(\"Road\", admin, crs, workspace, clusters, road_layer)\n",
    "    if type(out) == gpd.geodataframe.GeoDataFrame:\n",
    "        clusters = out\n",
    "else:\n",
    "    print('Roads lines layer not selected')"
   ]
  },
  {
   "cell_type": "markdown",
   "metadata": {},
   "source": [
    "## Extract Distance from Transformers (Vector point layer)"
   ]
  },
  {
   "cell_type": "code",
   "execution_count": null,
   "metadata": {},
   "outputs": [],
   "source": [
    "if trx_layer != '':\n",
    "    out, trx_path = processing_points(\"Service Transformer\", admin, crs, workspace, clusters, False, trx_layer)\n",
    "    if type(out) == gpd.geodataframe.GeoDataFrame:\n",
    "        clusters = out\n",
    "else:\n",
    "    print('Service transformer layer not selected')"
   ]
  },
  {
   "cell_type": "markdown",
   "metadata": {},
   "source": [
    "## Extract Distance from hydro points (Vector point layer)"
   ]
  },
  {
   "cell_type": "code",
   "execution_count": null,
   "metadata": {
    "code_folding": []
   },
   "outputs": [],
   "source": [
    "if hydro_layer != '':\n",
    "    out = hydro_bulk(admin, hydro, hydropower, hydrounit, crs, workspace, clusters)\n",
    "    if type(out) == gpd.geodataframe.GeoDataFrame:\n",
    "        clusters = out\n",
    "else:\n",
    "    print('Hydro points layer not selected')"
   ]
  },
  {
   "cell_type": "markdown",
   "metadata": {},
   "source": [
    "## Extract Distance from Mini-Grid points (Vector point layer)"
   ]
  },
  {
   "cell_type": "code",
   "execution_count": null,
   "metadata": {},
   "outputs": [],
   "source": [
    "if exist_MG_layer != '':\n",
    "    out, mg_path = processing_points(\"MG\", admin, crs, workspace, clusters, False, exist_MG_layer)\n",
    "    if type(out) == gpd.geodataframe.GeoDataFrame:\n",
    "        clusters = out\n",
    "else:\n",
    "    print('Mini Grid layer not selected')"
   ]
  },
  {
   "cell_type": "markdown",
   "metadata": {},
   "source": [
    "## Adding admin 1 name to clusters (Vector polygon layer)\n"
   ]
  },
  {
   "cell_type": "code",
   "execution_count": null,
   "metadata": {},
   "outputs": [],
   "source": [
    "if adm1_layer != '':\n",
    "    out, adm1_path = admin_1(\"Admin_1\", admin, crs, workspace, clusters, adm1_layer, admin_col_name)\n",
    "    if type(out) == gpd.geodataframe.GeoDataFrame:\n",
    "        clusters = out\n",
    "else:\n",
    "    print('Admin 1 layer not selected')"
   ]
  },
  {
   "cell_type": "markdown",
   "metadata": {},
   "source": [
    "## Conditioning & Export (Mandatory)\n",
    "\n",
    "This is the final cell in the extraction. This cell has to be run."
   ]
  },
  {
   "cell_type": "code",
   "execution_count": null,
   "metadata": {},
   "outputs": [],
   "source": [
    "clusters = conditioning(clusters, workspace, x)\n",
    "print('Workspace: ', workspace)"
   ]
  },
  {
   "cell_type": "code",
   "execution_count": null,
   "metadata": {},
   "outputs": [],
   "source": []
  }
 ],
 "metadata": {
  "celltoolbar": "Raw Cell Format",
  "kernelspec": {
   "display_name": "Python 3 (ipykernel)",
   "language": "python",
   "name": "python3"
  },
  "language_info": {
   "codemirror_mode": {
    "name": "ipython",
    "version": 3
   },
   "file_extension": ".py",
   "mimetype": "text/x-python",
   "name": "python",
   "nbconvert_exporter": "python",
   "pygments_lexer": "ipython3",
   "version": "3.12.11"
  }
 },
 "nbformat": 4,
 "nbformat_minor": 4
}
